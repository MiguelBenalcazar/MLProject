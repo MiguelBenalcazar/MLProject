{
 "cells": [
  {
   "cell_type": "code",
   "execution_count": 1,
   "metadata": {},
   "outputs": [],
   "source": [
    "import pandas as pd\n",
    "from itertools import product\n",
    "from sklearn.preprocessing import OneHotEncoder, StandardScaler, MinMaxScaler, LabelEncoder\n",
    "from sklearn.model_selection import train_test_split\n",
    "\n",
    "import numpy as np\n",
    "\n",
    "from tqdm import tqdm\n",
    "import matplotlib.pyplot as plt\n",
    "import copy\n",
    "\n",
    "import torch\n",
    "import torch.nn as nn\n",
    "from torch.utils.data import DataLoader, Dataset"
   ]
  },
  {
   "cell_type": "code",
   "execution_count": 4,
   "metadata": {},
   "outputs": [],
   "source": [
    "class DataFinal():\n",
    "    def __init__(self):\n",
    "        self.original = pd.read_csv('../html2023-spring-final-project/train.csv')\n",
    "        self.get_labels()\n",
    "        data = self.dataPreprocessing(self.original)\n",
    "        self.createEncodeDataTraining(data)\n",
    "        self.splitDataset()\n",
    "\n",
    "    def get_labels(self):\n",
    "        self.labelsOriginal = self.original['Danceability'].to_numpy()\n",
    "        self.original.drop(['Danceability'], axis=1, inplace=True)\n",
    "\n",
    "        # print(self.labelsOriginal) \n",
    "\n",
    "        encoderOutput = OneHotEncoder()\n",
    "        encodedLabel = encoderOutput.fit_transform(self.labelsOriginal.reshape(-1, 1))\n",
    "        self.labels =  encodedLabel.toarray()\n",
    "\n",
    "\n",
    "    def fillOptions(self, data, option = 'max'):\n",
    "        if data.isna().sum() != len(data):\n",
    "            if option == 'max':\n",
    "                return data.value_counts().idxmax()\n",
    "            elif option == 'mean':\n",
    "                return data.mean()\n",
    "            elif option == 'median':\n",
    "                return data.median()\n",
    "            \n",
    "    def filterArtistComposerDance(self, data, nameColumnFill):\n",
    "\n",
    "        listArtist = data['Artist'].unique()\n",
    "        listComposer = data['Composer'].unique()\n",
    "    \n",
    "        filter = list(product(listArtist, listComposer))\n",
    "\n",
    "        newData = pd.DataFrame(columns=data.columns)\n",
    "\n",
    "        for i in filter:\n",
    "            artist, composer = i[0], i[1]\n",
    "            filterData = data[(data['Artist'] == artist) & (data['Composer'] == composer) ].copy()\n",
    "            if len(filterData) != 0:\n",
    "            # Fill column Name\n",
    "                for nameColumn in nameColumnFill:\n",
    "                    fillInfo = self.fillOptions(filterData[nameColumn], option = 'max')\n",
    "                    if fillInfo != None:\n",
    "                        filterData.loc[:,nameColumn].fillna(fillInfo, inplace=True)\n",
    "\n",
    "                newData = pd.concat([newData, filterData], ignore_index=True)\n",
    "        return newData\n",
    "    \n",
    "    def filterArtist(self, data, nameColumnFill):\n",
    "        listDance = data['Artist'].unique()\n",
    "        filter = listDance\n",
    "\n",
    "\n",
    "        newData = pd.DataFrame(columns=data.columns)\n",
    "\n",
    "        for i in filter:\n",
    "            dance = i\n",
    "            filterData = data[ (data['Artist'] == dance)].copy()\n",
    "    \n",
    "    \n",
    "            if len(filterData) != 0:\n",
    "                # Fill column Name\n",
    "                for nameColumn in nameColumnFill:\n",
    "                    fillInfo = self.fillOptions(filterData[nameColumn], option = 'max')\n",
    "                    if fillInfo != None:\n",
    "                        filterData.loc[:,nameColumn].fillna(fillInfo, inplace=True)\n",
    "\n",
    "                newData = pd.concat([newData, filterData], ignore_index=True)\n",
    "\n",
    "        return newData\n",
    "    \n",
    "    def filterFillData(self, data, nameColumnFill):\n",
    "        if not data.isnull().any().any():\n",
    "            return data\n",
    "        else:\n",
    "            for nameColumn in nameColumnFill:\n",
    "                fillInfo = self.fillOptions(data[nameColumn], option = 'max')\n",
    "                if fillInfo != None:\n",
    "                    data.loc[:,nameColumn].fillna(fillInfo, inplace=True)\n",
    "        return data\n",
    "    \n",
    "    def dataPreprocessing(self, original):\n",
    "    \n",
    "        # pd.options.mode.chained_assignment = None\n",
    "\n",
    "        data = original.copy()\n",
    "\n",
    "        nameColumnFill = ['Energy', 'Key', 'Loudness', 'Speechiness', 'Acousticness', 'Instrumentalness', 'Liveness', 'Valence', 'Tempo', 'Duration_ms', 'Duration_ms', 'Views', 'Likes', \"Stream\" , \"Comments\"]\n",
    "\n",
    "        # License and official_video\n",
    "        data['Licensed'].fillna(data['official_video'], inplace=True)\n",
    "        data['Licensed'].fillna(False, inplace=True)\n",
    "\n",
    "        data['official_video'].fillna(data['Licensed'], inplace=True)\n",
    "        data['official_video'].fillna(False, inplace=True)\n",
    "\n",
    "        data['official_video'].fillna(False, inplace=True)\n",
    "        data['Licensed'].fillna(False, inplace=True)\n",
    "\n",
    "        data['Licensed'] =  data['Licensed'].map({True: 1, False: 0})\n",
    "        data['official_video'] = data['official_video'].map({True: 1, False: 0})\n",
    "    \n",
    "        # Create new class = 'Unknown'\n",
    "        data['Composer'].fillna(\"Unknown\", inplace=True)\n",
    "        data['Artist'].fillna(\"Unknown\", inplace=True)\n",
    "        data['Album_type'].fillna(\"Unknown\", inplace=True)\n",
    "\n",
    "        newData = self.filterArtistComposerDance(data, nameColumnFill)\n",
    "        data = newData.copy()\n",
    "\n",
    "        newData = self.filterArtist(data, nameColumnFill)\n",
    "        data = newData.copy()\n",
    "\n",
    "        newData = self.filterFillData(data, nameColumnFill)\n",
    "        data = newData.copy()\n",
    "\n",
    "        #Transform type key to use as class\n",
    "        data['Key'] = data['Key'].astype(int)\n",
    "        data['Key'] = data['Key'].astype(str)\n",
    "\n",
    "        data = data.sort_values('id')\n",
    "\n",
    "        # DELETE Track, Album, Uri, Url_spotify, Url_youtube, Description, Title, Channel, id, Comments\n",
    "        data.drop(['Track', 'Album', 'Uri', 'Url_spotify', 'Url_youtube', 'Description', 'Title', 'Channel', 'id'], axis=1, inplace=True)\n",
    "\n",
    "        # pd.options.mode.chained_assignment = 'warn'\n",
    "\n",
    "        return data\n",
    "    \n",
    "    def convertEncoderPD(self, data, prefix = 'key'):\n",
    "        titleKeys = []\n",
    "        for i in range(data.shape[1]):\n",
    "            titleKeys.append(f'{prefix}_{i}')\n",
    "    \n",
    "        return pd.DataFrame(data=data, columns= titleKeys)\n",
    "    \n",
    "    # minX -60  maxX = 0  ~ 0 - 1\n",
    "    # y = (-1/60) x\n",
    "    def scaleMinMaxLoudness(self, data):\n",
    "        return -data/60\n",
    "    \n",
    "    def createEncodeDataTraining(self, data):\n",
    "\n",
    "        encoderKey = OneHotEncoder()\n",
    "        encodedKey = encoderKey.fit_transform(data[['Key']])\n",
    "        Key = encodedKey.toarray()\n",
    "        key_pd = self.convertEncoderPD(Key, prefix = 'key')\n",
    "\n",
    "        encoderAlbumType = OneHotEncoder()\n",
    "        encodedKeyAlbumType = encoderAlbumType.fit_transform(data[['Album_type']])\n",
    "        AlbumType = encodedKeyAlbumType.toarray()\n",
    "        AlbumType_pd = self.convertEncoderPD(AlbumType, prefix = 'AlbumType')\n",
    "\n",
    "        encoderComposer = OneHotEncoder()\n",
    "        encodedKeyComposer = encoderComposer.fit_transform(data[['Composer']])\n",
    "        Composer = encodedKeyComposer.toarray()\n",
    "        Composer_pd = self.convertEncoderPD(Composer, prefix = 'Composer')\n",
    "\n",
    "        # encoderArtist = OneHotEncoder()\n",
    "        # encodedArtist = encoderArtist.fit_transform(data[['Artist']])\n",
    "        # Artist =  encodedArtist.toarray()\n",
    "        # Artist_pd = self.convertEncoderPD(Artist, prefix = 'Artist')\n",
    "\n",
    "        encoderArtist = LabelEncoder()\n",
    "        encodedArtist = encoderArtist.fit_transform(data[['Artist']])\n",
    "        # encodedArtist = encodedArtist.ravel()\n",
    "        Artist_pd =  pd.DataFrame(data=encodedArtist, columns= [\"Artist\"])\n",
    "\n",
    "        data.drop(['Key','Album_type', 'Composer',  'Artist'], axis=1, inplace=True)\n",
    "\n",
    "        data = pd.concat([data, key_pd, AlbumType_pd, Composer_pd, Artist_pd], axis=1)\n",
    "\n",
    "        scaledLoudness = self.scaleMinMaxLoudness(data[['Loudness']])\n",
    "        data['Loudness'] = scaledLoudness\n",
    "\n",
    "        newMinMaxScaler = ['Tempo', 'Duration_ms', 'Views', 'Likes', 'Stream', 'Comments']\n",
    "\n",
    "        # scaler = MinMaxScaler()\n",
    "        scaler = StandardScaler()\n",
    "        scaledData = scaler.fit_transform(data[newMinMaxScaler])\n",
    "\n",
    "        for i in range(scaledData.shape[1]):\n",
    "            data[newMinMaxScaler[i]] = scaledData[:, i]\n",
    "\n",
    "\n",
    "        self.dataEncoders = {\"key\": encoderKey, 'AlbumType': encoderAlbumType, 'Composer': encoderComposer, \"Artist\":encoderArtist}\n",
    "        self.stdScaler = scaler\n",
    "        self.data = data\n",
    "\n",
    "    # def dataBlocksGenerator(self, data):\n",
    "    #     musicMarket = pd.concat([data['Energy'], data['Valence'], data['Tempo'], data.iloc[:, 8:15]], axis=1)\n",
    "    #     musicStats = pd.concat([data.iloc[:, 0:8], data.loc[:, data.columns.str.startswith(\"key\")]], axis=1)       \n",
    "    #     musicArtistComposer = pd.concat([data['Energy'], data['Valence'], data['Tempo'], data.loc[:, data.columns.str.startswith(\"key\")], data.loc[:, data.columns.str.startswith(\"Artist\")], data.loc[:, data.columns.str.startswith(\"Composer\")], data.loc[:, data.columns.str.startswith(\"AlbumType\")]], axis=1)\n",
    "\n",
    "    #     return musicMarket, musicStats, musicArtistComposer \n",
    "\n",
    "\n",
    "    def dataBlocksGenerator(self, data):\n",
    "        musicMarket = pd.concat([data.iloc[:, 8:15]], axis=1)\n",
    "        musicStats = pd.concat([data.iloc[:, 0:8], data.loc[:, data.columns.str.startswith(\"key\")]], axis=1)       \n",
    "        musicArtistComposer = pd.concat([ data.loc[:, data.columns.str.startswith(\"Artist\")], data.loc[:, data.columns.str.startswith(\"Composer\")], data.loc[:, data.columns.str.startswith(\"AlbumType\")]], axis=1)\n",
    "\n",
    "        print(musicArtistComposer.shape)\n",
    "        return musicMarket, musicStats, musicArtistComposer \n",
    "\n",
    "    class DataPreparation(Dataset):\n",
    "        def __init__(\n",
    "                self, \n",
    "                musicMarket, \n",
    "                musicStats, \n",
    "                musicArtistComposer, \n",
    "                labels):\n",
    "            \n",
    "            self.musicMarket = torch.from_numpy(np.asarray(musicMarket).astype(np.float32)).to(torch.float32)\n",
    "            self.musicStats = torch.from_numpy(np.asarray(musicStats).astype(np.float32)).to(torch.float32)\n",
    "            self.musicArtistComposer = torch.from_numpy(np.asarray(musicArtistComposer).astype(np.float32)).to(torch.float32)\n",
    "            # self.labels = torch.from_numpy(np.asarray(labels, dtype=np.float32).reshape(labels.shape[0], 1)).to(torch.float32)\n",
    "            self.labels = torch.from_numpy(np.asarray(labels, dtype=np.float32)).to(torch.float32)\n",
    "            \n",
    "            self.n_samples = labels.shape[0]\n",
    "\n",
    "        def __getitem__(self, index):\n",
    "            return self.musicMarket[index], \\\n",
    "            self.musicStats[index], \\\n",
    "            self.musicArtistComposer[index], \\\n",
    "            self.labels[index]\n",
    "        \n",
    "        def __len__(self):\n",
    "            return self.n_samples\n",
    "\n",
    "    def splitDataset(self):\n",
    "        train_X, test_X, train_Y, test_Y = train_test_split(self.data, self.labels, test_size = 0.20, random_state = 123, shuffle=True)\n",
    "        train_X, Validation_X, train_Y, Validation_Y = train_test_split(train_X, train_Y, test_size = 0.20, random_state = 123, shuffle=True)\n",
    "\n",
    "        train_musicMarket, train_musicStats, train_musicArtistComposer = self.dataBlocksGenerator(train_X)\n",
    "        Validation_musicMarket, Validation_musicStats, Validation_musicArtistComposer = self.dataBlocksGenerator(Validation_X)\n",
    "        test_musicMarket, test_musicStats, test_musicArtistComposer = self.dataBlocksGenerator(test_X)\n",
    "        \n",
    "        self.train = self.DataPreparation(train_musicMarket, train_musicStats, train_musicArtistComposer, train_Y)\n",
    "        self.validate = self.DataPreparation(Validation_musicMarket, Validation_musicStats, Validation_musicArtistComposer, Validation_Y)\n",
    "        self.test = self.DataPreparation(test_musicMarket, test_musicStats, test_musicArtistComposer, test_Y)\n"
   ]
  },
  {
   "cell_type": "code",
   "execution_count": 5,
   "metadata": {},
   "outputs": [],
   "source": [
    "class Model(nn.Module):\n",
    "    def __init__(self):\n",
    "        super(Model, self).__init__()\n",
    "        musicMarket = 7\n",
    "        musicStats = 19\n",
    "        musicArtistComposer = 16\n",
    "\n",
    "        out_musicMarket = 64\n",
    "        out_musicStats = 64\n",
    "        out_musicArtistComposer = 64\n",
    "\n",
    "        concat = out_musicMarket + out_musicStats + out_musicArtistComposer\n",
    "\n",
    "        # musicMarket\n",
    "        self.mMl1 = nn.Linear(musicMarket, 16)\n",
    "        self.mMact1 = nn.ReLU()\n",
    "        self.mMd1 = nn.Dropout(p=0.2) \n",
    "\n",
    "        self.mMl2 = nn.Linear(16, 32)\n",
    "        self.mMact2 = nn.ReLU()\n",
    "        self.mMd2 = nn.Dropout(p=0.2) \n",
    "\n",
    "        self.mMl3 = nn.Linear(32, 48)\n",
    "        self.mMact3 = nn.ReLU()\n",
    "        self.mMd3 = nn.Dropout(p=0.2) \n",
    "\n",
    "        self.mMl4 = nn.Linear(48, out_musicMarket)\n",
    "        self.mMact4 = nn.ReLU()\n",
    "        self.mMd4 = nn.Dropout(p=0.2) \n",
    "\n",
    "        # musicStats\n",
    "\n",
    "        self.msl1 = nn.Linear(musicStats, 32)\n",
    "        self.msact1 = nn.ReLU()\n",
    "        self.msd1 = nn.Dropout(p=0.2)\n",
    "\n",
    "        self.msl2 = nn.Linear(32, 48)\n",
    "        self.msact2 = nn.ReLU()\n",
    "        self.msd2 = nn.Dropout(p=0.2)\n",
    "\n",
    "        self.msl3 = nn.Linear(48, out_musicStats)\n",
    "        self.msact3 = nn.ReLU()\n",
    "        self.msd3 = nn.Dropout(p=0.2)\n",
    "        \n",
    "\n",
    "\n",
    "        # music musicArtistComposer\n",
    "        self.mAl1 = nn.Linear(musicArtistComposer, 32)\n",
    "        self.mAact1 = nn.ReLU()\n",
    "        self.mAd1 = nn.Dropout(p=0.2) \n",
    "\n",
    "        self.mAl2 = nn.Linear(32, 48)\n",
    "        self.mAact2 = nn.ReLU()\n",
    "        self.mAd2 = nn.Dropout(p=0.2) \n",
    "\n",
    "        self.mAl3 = nn.Linear(48, out_musicArtistComposer)\n",
    "        self.mAact3 = nn.ReLU()\n",
    "        self.mAd3 = nn.Dropout(p=0.2) \n",
    "\n",
    "        \n",
    "\n",
    "        # Concatenation\n",
    "        self.cCl1 = nn.Linear(concat, 80)\n",
    "        self.cCact1 = nn.ReLU()\n",
    "        self.cCd1 = nn.Dropout(p=0.2) \n",
    "\n",
    "        self.cCl2 = nn.Linear(80, 64)\n",
    "        self.cCact2 = nn.ReLU()\n",
    "        self.cCd2 = nn.Dropout(p=0.2) \n",
    "\n",
    "        self.cCl3 = nn.Linear(64, 32)\n",
    "        self.cCact3 = nn.ReLU()\n",
    "        self.cCd3 = nn.Dropout(p=0.2) \n",
    "\n",
    "        self.cCl4 = nn.Linear(32, 10)\n",
    "        \n",
    "        # self.out = nn.Softmax(dim=1)\n",
    "    \n",
    "    def forward(self, musicMarket, musicStats, musicArtistComposer):\n",
    "\n",
    "        # musicMarket\n",
    "        out1 = self.mMl1(musicMarket)\n",
    "        out1 = self.mMact1(out1)\n",
    "        out1 = self.mMd1(out1)\n",
    "\n",
    "        out1 = self.mMl2(out1)\n",
    "        out1 = self.mMact2(out1)\n",
    "        out1 = self.mMd2(out1)\n",
    "\n",
    "        out1 = self.mMl3(out1)\n",
    "        out1 = self.mMact3(out1)\n",
    "        out1 = self.mMd3(out1) \n",
    "\n",
    "        out1 = self.mMl4(out1)\n",
    "        out1 = self.mMact4(out1)\n",
    "        out1 = self.mMd4(out1)\n",
    "\n",
    "        # musicStats\n",
    "\n",
    "        out2 = self.msl1(musicStats)\n",
    "        out2 = self.msact1(out2)\n",
    "        out2 = self.msd1(out2)\n",
    "\n",
    "        out2 = self.msl2(out2)\n",
    "        out2 = self.msact2(out2)\n",
    "        out2 = self.msd2(out2)\n",
    "\n",
    "        out2 = self.msl3(out2)\n",
    "        out2 = self.msact3(out2)\n",
    "        out2 = self.msd3(out2)\n",
    "\n",
    "        # music musicArtistComposer\n",
    "   \n",
    "        out3 = self.mAl1(musicArtistComposer)\n",
    "        out3 = self.mAact1(out3)\n",
    "        out3 = self.mAd1(out3) \n",
    "\n",
    "        out3 = self.mAl2(out3)\n",
    "        out3 = self.mAact2(out3)\n",
    "        out3 = self.mAd2(out3) \n",
    "\n",
    "        out3 = self.mAl3(out3)\n",
    "        out3 = self.mAact3(out3)\n",
    "        out3 = self.mAd3(out3)\n",
    "\n",
    "        concat = torch.cat((out1, out2, out3), 1)\n",
    "\n",
    "        out = self.cCl1(concat)\n",
    "        out = self.cCact1(out)\n",
    "        out = self.cCd1(out)\n",
    "\n",
    "        out = self.cCl2(out)\n",
    "        out = self.cCact2(out)\n",
    "        out = self.cCd2(out)\n",
    "\n",
    "        out = self.cCl3(out)\n",
    "        out = self.cCact3(out)\n",
    "        out = self.cCd3(out) \n",
    "\n",
    "        return self.cCl4(out)\n",
    "        \n",
    "      \n",
    "\n",
    "        # out = self.cCl4(out)\n",
    "        \n",
    "        # return self.out(out)\n",
    "\n",
    "    "
   ]
  },
  {
   "cell_type": "code",
   "execution_count": 6,
   "metadata": {},
   "outputs": [],
   "source": [
    "# class Model1(nn.Module):\n",
    "#     def __init__(self):\n",
    "#         super(Model, self).__init__()\n",
    "#         musicMarket = 10\n",
    "#         musicStats = 19\n",
    "#         musicArtistComposer = 126\n",
    "\n",
    "#         out_musicMarket = 4\n",
    "#         out_musicStats = 8\n",
    "#         out_musicArtistComposer = 32\n",
    "\n",
    "#         concat = out_musicMarket + out_musicStats + out_musicArtistComposer\n",
    "        \n",
    "#         # music Market\n",
    "#         self.mMl1 = nn.Linear(musicMarket, 8)\n",
    "#         self.mMact1 = nn.ReLU()\n",
    "#         self.mMd1 = nn.Dropout(p=0.2)\n",
    "\n",
    "#         self.mMl2 = nn.Linear(8, 6)\n",
    "#         self.mMact2 = nn.ReLU()\n",
    "#         self.mMd2 = nn.Dropout(p=0.2)\n",
    "\n",
    "#         self.mMl3 = nn.Linear(6, out_musicMarket)\n",
    "#         self.mMact3 = nn.ReLU()\n",
    "#         self.mMd3 = nn.Dropout(p=0.2)\n",
    "\n",
    "#         # music Stats\n",
    "#         self.mSl1 = nn.Linear(musicStats, 16)\n",
    "#         self.mSact1 = nn.ReLU()\n",
    "#         self.mSd1 = nn.Dropout(p=0.2) \n",
    "\n",
    "#         self.mSl3 = nn.Linear(16, 12)\n",
    "#         self.mSact3 = nn.ReLU()\n",
    "#         self.mSd3 = nn.Dropout(p=0.2)\n",
    "\n",
    "#         self.mSl5 = nn.Linear(12, out_musicStats)\n",
    "#         self.mSact5 = nn.ReLU()\n",
    "#         self.mSd5 = nn.Dropout(p=0.2)\n",
    "\n",
    "#         # music musicArtistComposer\n",
    "#         self.mAl1 = nn.Linear(musicArtistComposer, 96)\n",
    "#         self.mAact1 = nn.ReLU()\n",
    "#         self.mAd1 = nn.Dropout(p=0.2) \n",
    "\n",
    "#         self.mAl2 = nn.Linear(96, 64)\n",
    "#         self.mAact2 = nn.ReLU()\n",
    "#         self.mAd2 = nn.Dropout(p=0.2) \n",
    "\n",
    "#         self.mAl3 = nn.Linear(64, out_musicArtistComposer)\n",
    "#         self.mAact3 = nn.ReLU()\n",
    "#         self.mAd3 = nn.Dropout(p=0.2) \n",
    "\n",
    "#         # Concatenation\n",
    "#         self.cCl1 = nn.Linear(concat, 36)\n",
    "#         self.cCact1 = nn.ReLU()\n",
    "#         self.cCd1 = nn.Dropout(p=0.2) \n",
    "\n",
    "#         self.cCl2 = nn.Linear(36, 16)\n",
    "#         self.cCact2 = nn.ReLU()\n",
    "#         self.cCd2 = nn.Dropout(p=0.2) \n",
    "\n",
    "#         # self.cCl3 = nn.Linear(16, 4)\n",
    "#         # self.cCact3 = nn.ReLU()\n",
    "#         # self.cCd3 = nn.Dropout(p=0.2) \n",
    "\n",
    "#         self.cCl4 = nn.Linear(16, 10)\n",
    "#         self.out = nn.Softmax(dim=1)\n",
    "    \n",
    "#     def forward(self, musicMarket, musicStats, musicArtistComposer):\n",
    "#         # music Market\n",
    "#         outmM = self.mMl1(musicMarket)\n",
    "#         outmM = self.mMact1(outmM)\n",
    "#         outmM = self.mMd1(outmM)\n",
    "\n",
    "#         outmM = self.mMl2(outmM)\n",
    "#         outmM = self.mMact2(outmM)\n",
    "#         outmM = self.mMd2(outmM)\n",
    "\n",
    "#         outmM = self.mMl3(outmM)\n",
    "#         outmM = self.mMact3(outmM)\n",
    "#         outmM = self.mMd3(outmM)\n",
    "\n",
    "#         # music Stats   \n",
    "#         outmS = self.mSl1(musicStats)\n",
    "#         outmS = self.mSact1(outmS)\n",
    "#         outmS = self.mSd1(outmS) \n",
    "\n",
    "#         outmS = self.mSl3(outmS)\n",
    "#         outmS = self.mSact3(outmS)\n",
    "#         outmS = self.mSd3(outmS)\n",
    "\n",
    "#         outmS = self.mSl5(outmS)\n",
    "#         outmS = self.mSact5(outmS)\n",
    "#         outmS = self.mSd5(outmS)\n",
    "\n",
    "#         # music musicArtistComposer\n",
    "#         outmA = self.mAl1(musicArtistComposer)\n",
    "#         outmA = self.mAact1(outmA)\n",
    "#         outmA = self.mAd1(outmA)\n",
    "\n",
    "#         outmA = self.mAl2(outmA)\n",
    "#         outmA = self.mAact2(outmA)\n",
    "#         outmA = self.mAd2(outmA) \n",
    "\n",
    "#         outmA = self.mAl3(outmA)\n",
    "#         outmA = self.mAact3(outmA)\n",
    "#         outmA = self.mAd3(outmA) \n",
    "\n",
    "#         concat = torch.cat((outmM, outmS, outmA), 1)\n",
    "\n",
    "#         # Concatenation\n",
    "#         out = self.cCl1(concat)\n",
    "#         out = self.cCact1(out)\n",
    "#         out = self.cCd1(out) \n",
    "\n",
    "#         out = self.cCl2(out)\n",
    "#         out = self.cCact2(out)\n",
    "#         out = self.cCd2(out) \n",
    "\n",
    "#         # out = self.cCl3(out)\n",
    "#         # out = self.cCact3(out)\n",
    "#         # out = self.cCd3(out) \n",
    "\n",
    "#         out = self.cCl4(out)\n",
    "#         return self.out(out)\n",
    "#         # return out"
   ]
  },
  {
   "cell_type": "code",
   "execution_count": 7,
   "metadata": {},
   "outputs": [],
   "source": [
    "# class Model(nn.Module):\n",
    "#     def __init__(self):\n",
    "#         super(Model, self).__init__()\n",
    "#         musicMarket = 10\n",
    "#         musicStats = 19\n",
    "#         musicArtistComposer = 126\n",
    "\n",
    "#         # out_musicMarket = 4\n",
    "#         # out_musicStats = 8\n",
    "#         out_musicArtistComposer = 32\n",
    "\n",
    "#         concat = musicMarket + musicStats + out_musicArtistComposer\n",
    "        \n",
    "\n",
    "\n",
    "#         # music musicArtistComposer\n",
    "#         self.mAl1 = nn.Linear(musicArtistComposer, musicArtistComposer)\n",
    "#         self.mAact1 = nn.ReLU()\n",
    "#         self.mAd1 = nn.Dropout(p=0.2) \n",
    "\n",
    "#         self.mAl2 = nn.Linear(musicArtistComposer, musicArtistComposer)\n",
    "#         self.mAact2 = nn.ReLU()\n",
    "#         self.mAd2 = nn.Dropout(p=0.2) \n",
    "\n",
    "#         self.mAl3 = nn.Linear(musicArtistComposer, 94)\n",
    "#         self.mAact3 = nn.ReLU()\n",
    "#         self.mAd3 = nn.Dropout(p=0.2) \n",
    "\n",
    "#         self.mAl4 = nn.Linear(94, 94)\n",
    "#         self.mAact4 = nn.ReLU()\n",
    "#         self.mAd4 = nn.Dropout(p=0.2) \n",
    "\n",
    "#         self.mAl5 = nn.Linear(94, 62)\n",
    "#         self.mAact5 = nn.ReLU()\n",
    "#         self.mAd5 = nn.Dropout(p=0.2)\n",
    "\n",
    "#         self.mAl6 = nn.Linear(62, 62)\n",
    "#         self.mAact6 = nn.ReLU()\n",
    "#         self.mAd6 = nn.Dropout(p=0.2)\n",
    "\n",
    "#         self.mAl7 = nn.Linear(62, out_musicArtistComposer)\n",
    "#         self.mAact7 = nn.ReLU()\n",
    "#         self.mAd7 = nn.Dropout(p=0.2)\n",
    "\n",
    "#         # Concatenation\n",
    "#         self.cCl1 = nn.Linear(concat, concat)\n",
    "#         self.cCact1 = nn.ReLU()\n",
    "#         self.cCd1 = nn.Dropout(p=0.2) \n",
    "\n",
    "#         self.cCl2 = nn.Linear(concat, concat)\n",
    "#         self.cCact2 = nn.ReLU()\n",
    "#         self.cCd2 = nn.Dropout(p=0.2) \n",
    "\n",
    "#         self.cCl3 = nn.Linear(concat, concat)\n",
    "#         self.cCact3 = nn.ReLU()\n",
    "#         self.cCd3 = nn.Dropout(p=0.2) \n",
    "\n",
    "#         self.cCl4 = nn.Linear(concat, concat)\n",
    "#         self.cCact4 = nn.ReLU()\n",
    "#         self.cCd4 = nn.Dropout(p=0.2) \n",
    "\n",
    "#         self.cCl5 = nn.Linear(concat, concat)\n",
    "#         self.cCact5 = nn.ReLU()\n",
    "#         self.cCd5 = nn.Dropout(p=0.2) \n",
    "\n",
    "#         self.cCl6 = nn.Linear(concat, 36)\n",
    "#         self.cCact6 = nn.ReLU()\n",
    "#         self.cCd6 = nn.Dropout(p=0.2) \n",
    "\n",
    "#         self.cCl7 = nn.Linear(36, 36)\n",
    "#         self.cCact7 = nn.ReLU()\n",
    "#         self.cCd7 = nn.Dropout(p=0.2) \n",
    "\n",
    "#         self.cCl8 = nn.Linear(36, 36)\n",
    "#         self.cCact8 = nn.ReLU()\n",
    "#         self.cCd8 = nn.Dropout(p=0.2) \n",
    "\n",
    "#         self.cCl9 = nn.Linear(36, 16)\n",
    "#         self.cCact9 = nn.ReLU()\n",
    "#         self.cCd9 = nn.Dropout(p=0.2)\n",
    "\n",
    "#         self.pout = nn.Linear(16, 10)\n",
    "#         self.out = nn.Softmax(dim=1)\n",
    "    \n",
    "#     def forward(self, musicMarket, musicStats, musicArtistComposer):\n",
    "\n",
    "#         mac = self.mAl1(musicArtistComposer)\n",
    "#         mac = self.mAact1(mac)\n",
    "#         mac = self.mAd1(mac) \n",
    "\n",
    "#         mac = self.mAl2(mac)\n",
    "#         mac = self.mAact2(mac)\n",
    "#         mac = self.mAd2(mac)\n",
    "\n",
    "#         mac = self.mAl3(mac)\n",
    "#         mac = self.mAact3(mac)\n",
    "#         mac = self.mAd3(mac) \n",
    "\n",
    "#         mac = self.mAl4(mac)\n",
    "#         mac = self.mAact4(mac)\n",
    "#         mac = self.mAd4(mac) \n",
    "\n",
    "#         mac = self.mAl5(mac)\n",
    "#         mac = self.mAact5(mac)\n",
    "#         mac = self.mAd5(mac)\n",
    "\n",
    "#         mac = self.mAl6(mac)\n",
    "#         mac = self.mAact6(mac)\n",
    "#         mac = self.mAd6(mac)\n",
    "\n",
    "#         mac = self.mAl7(mac)\n",
    "#         mac = self.mAact7(mac)\n",
    "#         mac = self.mAd7(mac)\n",
    "\n",
    "\n",
    "#         concat = torch.cat((musicMarket, musicStats, mac), 1)\n",
    "\n",
    "#         # Concatenation\n",
    "#         out = self.cCl1(concat)\n",
    "#         out = self.cCact1(out)\n",
    "#         out = self.cCd1(out)\n",
    "\n",
    "#         out = self.cCl2(out)\n",
    "#         out = self.cCact2(out)\n",
    "#         out = self.cCd2(out)\n",
    "\n",
    "#         out = self.cCl3(out)\n",
    "#         out = self.cCact3(out)\n",
    "#         out = self.cCd3(out) \n",
    "\n",
    "#         out = self.cCl4(out)\n",
    "#         out = self.cCact4(out)\n",
    "#         out = self.cCd4(out)\n",
    "\n",
    "#         out = self.cCl5(out)\n",
    "#         out = self.cCact5(out)\n",
    "#         out = self.cCd5(out) \n",
    "\n",
    "#         out = self.cCl6 (out)\n",
    "#         out = self.cCact6(out)\n",
    "#         out = self.cCd6(out) \n",
    "\n",
    "#         out = self.cCl7(out)\n",
    "#         out = self.cCact7(out)\n",
    "#         out = self.cCd7(out) \n",
    "\n",
    "#         out = self.cCl8(out)\n",
    "#         out = self.cCact8(out)\n",
    "#         out = self.cCd8(out) \n",
    "\n",
    "#         out = self.cCl9(out)\n",
    "#         out = self.cCact9(out)\n",
    "#         out = self.cCd9(out)\n",
    "\n",
    "#         # return self.pout(out)\n",
    "\n",
    "#         out = self.pout(out)\n",
    "        \n",
    "#         return self.out(out)"
   ]
  },
  {
   "cell_type": "code",
   "execution_count": 18,
   "metadata": {},
   "outputs": [],
   "source": [
    "class DLModel():\n",
    "    def __init__(self, train, test, validate, learning_rate=1e-6, epoch = 10, batch_size = 16, device = 'cpu'):\n",
    "        self.lr = learning_rate\n",
    "        self.epoch = epoch\n",
    "        self.batch_size = batch_size\n",
    "        self.device = self.getDevice(device)\n",
    "\n",
    "        self.train = DataLoader(dataset = train, batch_size = self.batch_size, shuffle = True)\n",
    "        self.validation = DataLoader(dataset = validate, batch_size = self.batch_size, shuffle = False)\n",
    "        self.test = DataLoader(dataset = test, batch_size = self.batch_size, shuffle = False)\n",
    "        \n",
    "        self.model = Model().to(self.device)\n",
    "        # Define the loss function\n",
    "        # self.criterion = nn.MSELoss()\n",
    "        self.criterion = nn.CrossEntropyLoss()\n",
    "        # Create an SGD optimizer with L1 regularization\n",
    "        # self.optimizer = torch.optim.SGD(self.model.parameters(), lr=self.lr, weight_decay=0.001)\n",
    "        self.optimizer = torch.optim.Adam(self.model.parameters(), lr=self.lr)\n",
    "        \n",
    "    \n",
    "    def getDevice(self, device):\n",
    "        if device != 'cpu':\n",
    "            is_cuda =  torch.cuda.is_available()\n",
    "            if is_cuda:\n",
    "                return torch.device('cuda')\n",
    "            return torch.device('cpu')\n",
    "        return torch.device('cpu')\n",
    "    \n",
    "    def metric(self, y, y_hat):\n",
    "        return np.mean(np.abs(y_hat - y))\n",
    "\n",
    "    def trainModel(self, process_factor=2, patiente = 2, show_process = False, earlyStopFlag=True):\n",
    "        self.lossTraining = []\n",
    "        self.accTraining = []\n",
    "        self.lossValidation = []\n",
    "        self.accValidation  = []\n",
    "\n",
    "        patiente_acum = 0  # patiente counter\n",
    "\n",
    "        prev_metric = float('inf')  # best loss from validation\n",
    "        best_Model =  copy.deepcopy(self.model.state_dict()) # best model\n",
    "        self.best_epoch = 0\n",
    "\n",
    "        process = tqdm(range(self.epoch),  desc = 'Epoch ===> ')\n",
    "        for epoch in process:\n",
    "            y_hat = []\n",
    "            y = []\n",
    "            flag = True\n",
    "\n",
    "            loss_train = 0.0\n",
    "            acc_train  = 0.0\n",
    "\n",
    "            self.model.train()\n",
    "            for idx, (musicMarket, musicStats, musicArtistComposer, labels) in enumerate(self.train):\n",
    "                musicMarket = musicMarket.to(self.device)\n",
    "                musicStats = musicStats.to(self.device)\n",
    "                musicArtistComposer = musicArtistComposer.to(self.device)\n",
    "                labels = labels.to(self.device)\n",
    "\n",
    "                # forward\n",
    "                outputs = self.model(musicMarket, musicStats, musicArtistComposer)\n",
    "            \n",
    "\n",
    "                loss = self.criterion(outputs, labels)\n",
    "\n",
    "                \n",
    "                # backward\n",
    "                # loss.backward()\n",
    "                # self.optimizer.step()\n",
    "                # self.optimizer.zero_grad()\n",
    "                \n",
    "        \n",
    "\n",
    "\n",
    "                # optimizer.zero_grad()\n",
    "                # loss.backward()\n",
    "                # # update weights\n",
    "                # optimizer.step()\n",
    "                \n",
    "                '''\n",
    "                    ---------------  Get predicted to calculate accuracy ----------------\n",
    "                '''\n",
    "                \n",
    "\n",
    "                predicted = outputs.cpu().detach().numpy()\n",
    "                ground_truth = labels.cpu().detach().numpy()\n",
    "\n",
    "                \n",
    "\n",
    "\n",
    "                predictedMax = np.argmax(predicted, 1)\n",
    "                groundTruthMax = np.argmax(ground_truth, 1)\n",
    "\n",
    "                if flag:\n",
    "                    y_hat = predictedMax\n",
    "                    y = groundTruthMax\n",
    "                    flag = False\n",
    "\n",
    "                y_hat = np.append(y_hat, predictedMax)\n",
    "                y = np.append(y, groundTruthMax)\n",
    "\n",
    "\n",
    "                \n",
    "                # acc = np.mean(y_hat == y)\n",
    "                mae = self.metric(y, y_hat)\n",
    "\n",
    "                if show_process:\n",
    "                    if (idx + 1) % process_factor== 0:\n",
    "                        text = f'Training Stage ==> Epoch: {epoch} / {self.epoch - 1} | Step: {idx} / {len(self.train)} | Training loss: {loss.item():.5f} |  Training Evaluation Metric (MAE): {mae:.5f}'\n",
    "                        print(text)\n",
    "\n",
    "                loss_train = loss.item()\n",
    "                acc_train = mae\n",
    "\n",
    "                process.set_postfix({'Epoch':epoch,\n",
    "                    'training_loss': loss_train, \n",
    "                    'training Acc': acc_train, \n",
    "                    'Step': idx,\n",
    "                    'from': len(self.train)\n",
    "                    })\n",
    "            \n",
    "            self.lossTraining.append(loss_train)\n",
    "            self.accTraining.append(acc_train)\n",
    "            metric = self.metric(y, y_hat)\n",
    "            acc = np.mean(y_hat == y)\n",
    "\n",
    "            text = f'Training Stage ==> Epoch: {epoch} / {self.epoch - 1} | Training loss: {loss_train:.5f} |  Training Accuracy: {acc:.5f} | Training Metric (MAE): {metric:.5f} | Acc: {acc * 100}'\n",
    "            print(text)\n",
    "                \n",
    "\n",
    "\n",
    "            ''' \n",
    "            ----------------------------------  EVALUATION STAGE  ---------------------------------------\n",
    "                \n",
    "            '''\n",
    "            y_hat = []\n",
    "            y = []\n",
    "            flag = True\n",
    "\n",
    "            loss_val = 0.0\n",
    "            acc_val  = 0.0\n",
    "      \n",
    "      \n",
    "            self.model.eval()\n",
    "            with torch.no_grad():\n",
    "                for idx, (musicMarket, musicStats, musicArtistComposer, labels) in enumerate(self.validation):\n",
    "                    musicMarket = musicMarket.to(self.device)\n",
    "                    musicStats = musicStats.to(self.device)\n",
    "                    musicArtistComposer = musicArtistComposer.to(self.device)\n",
    "                    labels = labels.to(self.device)\n",
    "\n",
    "                    '''\n",
    "                    ---------------   Forward    --------------------\n",
    "                    '''\n",
    "\n",
    "                    outputs = self.model(musicMarket, musicStats, musicArtistComposer)\n",
    "                    loss = self.criterion(outputs, labels)\n",
    "\n",
    "\n",
    "                    predicted = outputs.cpu().detach().numpy()\n",
    "                    ground_truth = labels.cpu().detach().numpy()\n",
    "                    \n",
    "                    predictedMax = np.argmax(predicted, 1)\n",
    "                    groundTruthMax = np.argmax(ground_truth, 1)\n",
    "\n",
    "                    if flag:\n",
    "                        y_hat = predictedMax\n",
    "                        y = groundTruthMax\n",
    "                        flag = False\n",
    "\n",
    "                    y_hat = np.append(y_hat, predictedMax)\n",
    "                    y = np.append(y, groundTruthMax)\n",
    "\n",
    "\n",
    "                \n",
    "                    acc = np.mean(y_hat == y)\n",
    "                    # acc = self.metric(y, y_hat)\n",
    "\n",
    "                    if show_process:\n",
    "                        if (idx + 1) % process_factor== 0:\n",
    "                            text = f'Validation Stage ==> Epoch: {epoch} / {self.epoch - 1} | Step: {idx} / {len(self.validation)} | Validation loss: {loss.item():.5f} |  Validation Evaluation Metric (MAE): {acc:.5f}'\n",
    "                            print(text)\n",
    "\n",
    "                    loss_val = loss.item()\n",
    "                    acc_val = acc\n",
    "                    process.set_postfix({'Epoch':epoch,\n",
    "                    'validation_loss': loss_val, \n",
    "                    'Validation Acc': acc_val, \n",
    "                    'Step': idx,\n",
    "                    'from': len(self.validation)\n",
    "                    })\n",
    "            \n",
    "                self.lossValidation.append(loss_val)\n",
    "                self.accValidation.append(acc_val)\n",
    "                metric = self.metric(y, y_hat)\n",
    "                acc = np.mean(y_hat == y)\n",
    "\n",
    "                text = f'Validation Stage ==> Epoch: {epoch} / {self.epoch - 1} | Validation loss: {loss_val:.5f} |  Validation Accuracy: {acc:.5f} | Validation Metric (MAE)): {metric:.5f} | Acc: {acc * 100}'\n",
    "                print(text)\n",
    "\n",
    "                if metric < prev_metric:\n",
    "                    prev_metric = metric\n",
    "                    best_Model =  copy.deepcopy(self.model.state_dict())\n",
    "                    torch.save(self.model, f'./model/model_EPOCH_{epoch}')\n",
    "\n",
    "                    # np.save(f'./training/lossTraining_EPOCH_{epoch}',np.asarray(self.lossTraining))\n",
    "                    # np.save(f'./training/accTraining_EPOCH_{epoch}',np.asarray(self.accTraining))\n",
    "                    # np.save(f'./training/lossValidation_EPOCH_{epoch}',np.asarray(self.lossValidation))\n",
    "                    # np.save(f'./training/accValidation_EPOCH_{epoch}',np.asarray(self.accValidation))\n",
    "          \n",
    "    \n",
    "                    self.best_epoch = epoch\n",
    "                    patiente_acum = 0\n",
    "                else:\n",
    "                    patiente_acum += 1\n",
    "\n",
    "\n",
    "                if earlyStopFlag and patiente_acum > patiente:\n",
    "                    # Load best model in current model\n",
    "                    self.model.load_state_dict(best_Model)\n",
    "          \n",
    "                    print(f'Early Stop Load Model from best epoch {self.best_epoch}')\n",
    "                    break\n",
    "\n",
    "\n",
    "            # print(earlyStopFlag)\n",
    "            # if ~earlyStopFlag:\n",
    "            #     print(\"CAGAdAAAA\")\n",
    "            #     # Load best model in current model\n",
    "            #     self.model.load_state_dict(best_Model)\n",
    "            #     print(f'Load Model from best epoch {self.best_epoch}') \n",
    "\n",
    "            process.update(1)\n",
    "        process.close()\n",
    "\n"
   ]
  },
  {
   "cell_type": "code",
   "execution_count": 19,
   "metadata": {},
   "outputs": [
    {
     "name": "stdout",
     "output_type": "stream",
     "text": [
      "(10988, 16)\n",
      "(2748, 16)\n",
      "(3434, 16)\n"
     ]
    },
    {
     "name": "stderr",
     "output_type": "stream",
     "text": [
      "c:\\Users\\Miguel\\anaconda3\\lib\\site-packages\\sklearn\\preprocessing\\_label.py:115: DataConversionWarning: A column-vector y was passed when a 1d array was expected. Please change the shape of y to (n_samples, ), for example using ravel().\n",
      "  y = column_or_1d(y, warn=True)\n"
     ]
    }
   ],
   "source": [
    "f = DataFinal()"
   ]
  },
  {
   "cell_type": "code",
   "execution_count": 20,
   "metadata": {},
   "outputs": [
    {
     "data": {
      "text/html": [
       "<div>\n",
       "<style scoped>\n",
       "    .dataframe tbody tr th:only-of-type {\n",
       "        vertical-align: middle;\n",
       "    }\n",
       "\n",
       "    .dataframe tbody tr th {\n",
       "        vertical-align: top;\n",
       "    }\n",
       "\n",
       "    .dataframe thead th {\n",
       "        text-align: right;\n",
       "    }\n",
       "</style>\n",
       "<table border=\"1\" class=\"dataframe\">\n",
       "  <thead>\n",
       "    <tr style=\"text-align: right;\">\n",
       "      <th></th>\n",
       "      <th>Energy</th>\n",
       "      <th>Loudness</th>\n",
       "      <th>Speechiness</th>\n",
       "      <th>Acousticness</th>\n",
       "      <th>Instrumentalness</th>\n",
       "      <th>Liveness</th>\n",
       "      <th>Valence</th>\n",
       "      <th>Tempo</th>\n",
       "      <th>Duration_ms</th>\n",
       "      <th>Views</th>\n",
       "      <th>...</th>\n",
       "      <th>Composer_2</th>\n",
       "      <th>Composer_3</th>\n",
       "      <th>Composer_4</th>\n",
       "      <th>Composer_5</th>\n",
       "      <th>Composer_6</th>\n",
       "      <th>Composer_7</th>\n",
       "      <th>Composer_8</th>\n",
       "      <th>Composer_9</th>\n",
       "      <th>Composer_10</th>\n",
       "      <th>Artist</th>\n",
       "    </tr>\n",
       "  </thead>\n",
       "  <tbody>\n",
       "    <tr>\n",
       "      <th>0</th>\n",
       "      <td>0.000273</td>\n",
       "      <td>0.419600</td>\n",
       "      <td>0.0443</td>\n",
       "      <td>7.241508e-01</td>\n",
       "      <td>0.000062</td>\n",
       "      <td>0.000807</td>\n",
       "      <td>0.3400</td>\n",
       "      <td>-1.255897</td>\n",
       "      <td>-0.929988</td>\n",
       "      <td>-0.152250</td>\n",
       "      <td>...</td>\n",
       "      <td>0.0</td>\n",
       "      <td>0.0</td>\n",
       "      <td>0.0</td>\n",
       "      <td>0.0</td>\n",
       "      <td>0.0</td>\n",
       "      <td>0.0</td>\n",
       "      <td>0.0</td>\n",
       "      <td>1.0</td>\n",
       "      <td>0.0</td>\n",
       "      <td>59</td>\n",
       "    </tr>\n",
       "    <tr>\n",
       "      <th>577</th>\n",
       "      <td>0.184220</td>\n",
       "      <td>0.229350</td>\n",
       "      <td>0.0340</td>\n",
       "      <td>6.722214e-01</td>\n",
       "      <td>0.910000</td>\n",
       "      <td>0.034966</td>\n",
       "      <td>0.7460</td>\n",
       "      <td>0.944228</td>\n",
       "      <td>-0.447282</td>\n",
       "      <td>-0.352389</td>\n",
       "      <td>...</td>\n",
       "      <td>1.0</td>\n",
       "      <td>0.0</td>\n",
       "      <td>0.0</td>\n",
       "      <td>0.0</td>\n",
       "      <td>0.0</td>\n",
       "      <td>0.0</td>\n",
       "      <td>0.0</td>\n",
       "      <td>0.0</td>\n",
       "      <td>0.0</td>\n",
       "      <td>34</td>\n",
       "    </tr>\n",
       "    <tr>\n",
       "      <th>910</th>\n",
       "      <td>0.384241</td>\n",
       "      <td>0.259933</td>\n",
       "      <td>0.0442</td>\n",
       "      <td>6.676276e-01</td>\n",
       "      <td>0.867000</td>\n",
       "      <td>0.001772</td>\n",
       "      <td>0.3800</td>\n",
       "      <td>-1.205320</td>\n",
       "      <td>-0.645164</td>\n",
       "      <td>-0.352389</td>\n",
       "      <td>...</td>\n",
       "      <td>0.0</td>\n",
       "      <td>0.0</td>\n",
       "      <td>0.0</td>\n",
       "      <td>0.0</td>\n",
       "      <td>0.0</td>\n",
       "      <td>0.0</td>\n",
       "      <td>0.0</td>\n",
       "      <td>1.0</td>\n",
       "      <td>0.0</td>\n",
       "      <td>85</td>\n",
       "    </tr>\n",
       "    <tr>\n",
       "      <th>1121</th>\n",
       "      <td>0.209585</td>\n",
       "      <td>0.104183</td>\n",
       "      <td>0.0277</td>\n",
       "      <td>3.796416e-03</td>\n",
       "      <td>0.000000</td>\n",
       "      <td>0.001000</td>\n",
       "      <td>0.5110</td>\n",
       "      <td>0.995715</td>\n",
       "      <td>0.348878</td>\n",
       "      <td>0.494190</td>\n",
       "      <td>...</td>\n",
       "      <td>0.0</td>\n",
       "      <td>0.0</td>\n",
       "      <td>0.0</td>\n",
       "      <td>0.0</td>\n",
       "      <td>0.0</td>\n",
       "      <td>0.0</td>\n",
       "      <td>0.0</td>\n",
       "      <td>0.0</td>\n",
       "      <td>0.0</td>\n",
       "      <td>79</td>\n",
       "    </tr>\n",
       "    <tr>\n",
       "      <th>1367</th>\n",
       "      <td>0.354895</td>\n",
       "      <td>0.082267</td>\n",
       "      <td>0.0260</td>\n",
       "      <td>3.048625e-06</td>\n",
       "      <td>0.000467</td>\n",
       "      <td>0.002924</td>\n",
       "      <td>0.2950</td>\n",
       "      <td>-0.763974</td>\n",
       "      <td>0.339028</td>\n",
       "      <td>0.972284</td>\n",
       "      <td>...</td>\n",
       "      <td>0.0</td>\n",
       "      <td>0.0</td>\n",
       "      <td>0.0</td>\n",
       "      <td>0.0</td>\n",
       "      <td>0.0</td>\n",
       "      <td>0.0</td>\n",
       "      <td>0.0</td>\n",
       "      <td>1.0</td>\n",
       "      <td>0.0</td>\n",
       "      <td>91</td>\n",
       "    </tr>\n",
       "    <tr>\n",
       "      <th>...</th>\n",
       "      <td>...</td>\n",
       "      <td>...</td>\n",
       "      <td>...</td>\n",
       "      <td>...</td>\n",
       "      <td>...</td>\n",
       "      <td>...</td>\n",
       "      <td>...</td>\n",
       "      <td>...</td>\n",
       "      <td>...</td>\n",
       "      <td>...</td>\n",
       "      <td>...</td>\n",
       "      <td>...</td>\n",
       "      <td>...</td>\n",
       "      <td>...</td>\n",
       "      <td>...</td>\n",
       "      <td>...</td>\n",
       "      <td>...</td>\n",
       "      <td>...</td>\n",
       "      <td>...</td>\n",
       "      <td>...</td>\n",
       "      <td>...</td>\n",
       "    </tr>\n",
       "    <tr>\n",
       "      <th>13828</th>\n",
       "      <td>0.794023</td>\n",
       "      <td>0.105733</td>\n",
       "      <td>0.0328</td>\n",
       "      <td>8.991539e-02</td>\n",
       "      <td>0.000000</td>\n",
       "      <td>0.000591</td>\n",
       "      <td>0.6580</td>\n",
       "      <td>-1.033371</td>\n",
       "      <td>-1.132043</td>\n",
       "      <td>-0.121606</td>\n",
       "      <td>...</td>\n",
       "      <td>0.0</td>\n",
       "      <td>0.0</td>\n",
       "      <td>0.0</td>\n",
       "      <td>1.0</td>\n",
       "      <td>0.0</td>\n",
       "      <td>0.0</td>\n",
       "      <td>0.0</td>\n",
       "      <td>0.0</td>\n",
       "      <td>0.0</td>\n",
       "      <td>34</td>\n",
       "    </tr>\n",
       "    <tr>\n",
       "      <th>11326</th>\n",
       "      <td>0.820026</td>\n",
       "      <td>0.029767</td>\n",
       "      <td>0.1610</td>\n",
       "      <td>2.195200e-05</td>\n",
       "      <td>0.000000</td>\n",
       "      <td>0.000786</td>\n",
       "      <td>0.6570</td>\n",
       "      <td>1.826279</td>\n",
       "      <td>-0.643512</td>\n",
       "      <td>-0.352473</td>\n",
       "      <td>...</td>\n",
       "      <td>0.0</td>\n",
       "      <td>0.0</td>\n",
       "      <td>0.0</td>\n",
       "      <td>0.0</td>\n",
       "      <td>0.0</td>\n",
       "      <td>0.0</td>\n",
       "      <td>0.0</td>\n",
       "      <td>0.0</td>\n",
       "      <td>0.0</td>\n",
       "      <td>43</td>\n",
       "    </tr>\n",
       "    <tr>\n",
       "      <th>4096</th>\n",
       "      <td>0.571787</td>\n",
       "      <td>0.077983</td>\n",
       "      <td>0.0647</td>\n",
       "      <td>5.751246e-02</td>\n",
       "      <td>0.000000</td>\n",
       "      <td>0.003652</td>\n",
       "      <td>0.4190</td>\n",
       "      <td>1.607898</td>\n",
       "      <td>-0.765362</td>\n",
       "      <td>-0.353013</td>\n",
       "      <td>...</td>\n",
       "      <td>0.0</td>\n",
       "      <td>0.0</td>\n",
       "      <td>0.0</td>\n",
       "      <td>0.0</td>\n",
       "      <td>0.0</td>\n",
       "      <td>0.0</td>\n",
       "      <td>0.0</td>\n",
       "      <td>0.0</td>\n",
       "      <td>1.0</td>\n",
       "      <td>91</td>\n",
       "    </tr>\n",
       "    <tr>\n",
       "      <th>15904</th>\n",
       "      <td>0.451218</td>\n",
       "      <td>0.196533</td>\n",
       "      <td>0.4190</td>\n",
       "      <td>4.511802e-02</td>\n",
       "      <td>0.000000</td>\n",
       "      <td>0.001260</td>\n",
       "      <td>0.5390</td>\n",
       "      <td>1.169517</td>\n",
       "      <td>-1.012757</td>\n",
       "      <td>-0.353135</td>\n",
       "      <td>...</td>\n",
       "      <td>0.0</td>\n",
       "      <td>0.0</td>\n",
       "      <td>0.0</td>\n",
       "      <td>1.0</td>\n",
       "      <td>0.0</td>\n",
       "      <td>0.0</td>\n",
       "      <td>0.0</td>\n",
       "      <td>0.0</td>\n",
       "      <td>0.0</td>\n",
       "      <td>73</td>\n",
       "    </tr>\n",
       "    <tr>\n",
       "      <th>13008</th>\n",
       "      <td>0.825294</td>\n",
       "      <td>0.075717</td>\n",
       "      <td>0.1070</td>\n",
       "      <td>2.125393e-08</td>\n",
       "      <td>0.911000</td>\n",
       "      <td>0.002515</td>\n",
       "      <td>0.0787</td>\n",
       "      <td>1.327516</td>\n",
       "      <td>-0.377093</td>\n",
       "      <td>-0.352498</td>\n",
       "      <td>...</td>\n",
       "      <td>0.0</td>\n",
       "      <td>1.0</td>\n",
       "      <td>0.0</td>\n",
       "      <td>0.0</td>\n",
       "      <td>0.0</td>\n",
       "      <td>0.0</td>\n",
       "      <td>0.0</td>\n",
       "      <td>0.0</td>\n",
       "      <td>0.0</td>\n",
       "      <td>3</td>\n",
       "    </tr>\n",
       "  </tbody>\n",
       "</table>\n",
       "<p>17170 rows × 42 columns</p>\n",
       "</div>"
      ],
      "text/plain": [
       "         Energy  Loudness  Speechiness  Acousticness  Instrumentalness  \\\n",
       "0      0.000273  0.419600       0.0443  7.241508e-01          0.000062   \n",
       "577    0.184220  0.229350       0.0340  6.722214e-01          0.910000   \n",
       "910    0.384241  0.259933       0.0442  6.676276e-01          0.867000   \n",
       "1121   0.209585  0.104183       0.0277  3.796416e-03          0.000000   \n",
       "1367   0.354895  0.082267       0.0260  3.048625e-06          0.000467   \n",
       "...         ...       ...          ...           ...               ...   \n",
       "13828  0.794023  0.105733       0.0328  8.991539e-02          0.000000   \n",
       "11326  0.820026  0.029767       0.1610  2.195200e-05          0.000000   \n",
       "4096   0.571787  0.077983       0.0647  5.751246e-02          0.000000   \n",
       "15904  0.451218  0.196533       0.4190  4.511802e-02          0.000000   \n",
       "13008  0.825294  0.075717       0.1070  2.125393e-08          0.911000   \n",
       "\n",
       "       Liveness  Valence     Tempo  Duration_ms     Views  ...  Composer_2  \\\n",
       "0      0.000807   0.3400 -1.255897    -0.929988 -0.152250  ...         0.0   \n",
       "577    0.034966   0.7460  0.944228    -0.447282 -0.352389  ...         1.0   \n",
       "910    0.001772   0.3800 -1.205320    -0.645164 -0.352389  ...         0.0   \n",
       "1121   0.001000   0.5110  0.995715     0.348878  0.494190  ...         0.0   \n",
       "1367   0.002924   0.2950 -0.763974     0.339028  0.972284  ...         0.0   \n",
       "...         ...      ...       ...          ...       ...  ...         ...   \n",
       "13828  0.000591   0.6580 -1.033371    -1.132043 -0.121606  ...         0.0   \n",
       "11326  0.000786   0.6570  1.826279    -0.643512 -0.352473  ...         0.0   \n",
       "4096   0.003652   0.4190  1.607898    -0.765362 -0.353013  ...         0.0   \n",
       "15904  0.001260   0.5390  1.169517    -1.012757 -0.353135  ...         0.0   \n",
       "13008  0.002515   0.0787  1.327516    -0.377093 -0.352498  ...         0.0   \n",
       "\n",
       "       Composer_3 Composer_4 Composer_5  Composer_6  Composer_7  Composer_8  \\\n",
       "0             0.0        0.0        0.0         0.0         0.0         0.0   \n",
       "577           0.0        0.0        0.0         0.0         0.0         0.0   \n",
       "910           0.0        0.0        0.0         0.0         0.0         0.0   \n",
       "1121          0.0        0.0        0.0         0.0         0.0         0.0   \n",
       "1367          0.0        0.0        0.0         0.0         0.0         0.0   \n",
       "...           ...        ...        ...         ...         ...         ...   \n",
       "13828         0.0        0.0        1.0         0.0         0.0         0.0   \n",
       "11326         0.0        0.0        0.0         0.0         0.0         0.0   \n",
       "4096          0.0        0.0        0.0         0.0         0.0         0.0   \n",
       "15904         0.0        0.0        1.0         0.0         0.0         0.0   \n",
       "13008         1.0        0.0        0.0         0.0         0.0         0.0   \n",
       "\n",
       "       Composer_9  Composer_10  Artist  \n",
       "0             1.0          0.0      59  \n",
       "577           0.0          0.0      34  \n",
       "910           1.0          0.0      85  \n",
       "1121          0.0          0.0      79  \n",
       "1367          1.0          0.0      91  \n",
       "...           ...          ...     ...  \n",
       "13828         0.0          0.0      34  \n",
       "11326         0.0          0.0      43  \n",
       "4096          0.0          1.0      91  \n",
       "15904         0.0          0.0      73  \n",
       "13008         0.0          0.0       3  \n",
       "\n",
       "[17170 rows x 42 columns]"
      ]
     },
     "execution_count": 20,
     "metadata": {},
     "output_type": "execute_result"
    }
   ],
   "source": [
    "f.data"
   ]
  },
  {
   "cell_type": "code",
   "execution_count": 25,
   "metadata": {},
   "outputs": [],
   "source": [
    "t = DLModel(f.train, f.validate, f.test, learning_rate=1e-2, epoch = 1000, batch_size = 32)"
   ]
  },
  {
   "cell_type": "code",
   "execution_count": 26,
   "metadata": {},
   "outputs": [
    {
     "name": "stderr",
     "output_type": "stream",
     "text": [
      "Epoch ===> :   0%|          | 0/1000 [00:01<?, ?it/s, Epoch=0, validation_loss=2.29, Validation Acc=0.111, Step=53, from=108] "
     ]
    },
    {
     "name": "stdout",
     "output_type": "stream",
     "text": [
      "Training Stage ==> Epoch: 0 / 999 | Training loss: 2.32352 |  Training Accuracy: 0.09574 | Training Metric (MAE): 3.19764 | Acc: 9.573502722323049\n"
     ]
    },
    {
     "name": "stderr",
     "output_type": "stream",
     "text": [
      "Epoch ===> :   0%|          | 2/1000 [00:02<35:06,  2.11s/it, Epoch=1, training_loss=2.31, training Acc=3.22, Step=18, from=344]       "
     ]
    },
    {
     "name": "stdout",
     "output_type": "stream",
     "text": [
      "Validation Stage ==> Epoch: 0 / 999 | Validation loss: 2.32410 |  Validation Accuracy: 0.09954 | Validation Metric (MAE)): 3.18321 | Acc: 9.953837276399307\n"
     ]
    },
    {
     "name": "stderr",
     "output_type": "stream",
     "text": [
      "Epoch ===> :   0%|          | 2/1000 [00:03<35:06,  2.11s/it, Epoch=1, validation_loss=2.34, Validation Acc=0.111, Step=51, from=108] "
     ]
    },
    {
     "name": "stdout",
     "output_type": "stream",
     "text": [
      "Training Stage ==> Epoch: 1 / 999 | Training loss: 2.29143 |  Training Accuracy: 0.09510 | Training Metric (MAE): 3.19038 | Acc: 9.509981851179674\n"
     ]
    },
    {
     "name": "stderr",
     "output_type": "stream",
     "text": [
      "Epoch ===> :   0%|          | 4/1000 [00:04<20:14,  1.22s/it, Epoch=2, training_loss=2.33, training Acc=3.26, Step=35, from=344]       "
     ]
    },
    {
     "name": "stdout",
     "output_type": "stream",
     "text": [
      "Validation Stage ==> Epoch: 1 / 999 | Validation loss: 2.32410 |  Validation Accuracy: 0.09954 | Validation Metric (MAE)): 3.18321 | Acc: 9.953837276399307\n"
     ]
    },
    {
     "name": "stderr",
     "output_type": "stream",
     "text": [
      "Epoch ===> :   0%|          | 4/1000 [00:05<20:14,  1.22s/it, Epoch=2, validation_loss=2.32, Validation Acc=0.108, Step=59, from=108] "
     ]
    },
    {
     "name": "stdout",
     "output_type": "stream",
     "text": [
      "Training Stage ==> Epoch: 2 / 999 | Training loss: 2.34475 |  Training Accuracy: 0.09528 | Training Metric (MAE): 3.20118 | Acc: 9.528130671506352\n"
     ]
    },
    {
     "name": "stderr",
     "output_type": "stream",
     "text": [
      "Epoch ===> :   0%|          | 5/1000 [00:06<17:55,  1.08s/it, Epoch=3, training_loss=2.29, training Acc=3.15, Step=42, from=344]       "
     ]
    },
    {
     "name": "stdout",
     "output_type": "stream",
     "text": [
      "Validation Stage ==> Epoch: 2 / 999 | Validation loss: 2.32410 |  Validation Accuracy: 0.09954 | Validation Metric (MAE)): 3.18321 | Acc: 9.953837276399307\n"
     ]
    },
    {
     "name": "stderr",
     "output_type": "stream",
     "text": [
      "Epoch ===> :   0%|          | 5/1000 [00:07<17:55,  1.08s/it, Epoch=3, validation_loss=2.29, Validation Acc=0.11, Step=56, from=108]  "
     ]
    },
    {
     "name": "stdout",
     "output_type": "stream",
     "text": [
      "Training Stage ==> Epoch: 3 / 999 | Training loss: 2.27041 |  Training Accuracy: 0.09555 | Training Metric (MAE): 3.20717 | Acc: 9.555353901996371\n"
     ]
    },
    {
     "name": "stderr",
     "output_type": "stream",
     "text": [
      "Epoch ===> :   1%|          | 7/1000 [00:07<21:22,  1.29s/it, Epoch=4, training_loss=2.3, training Acc=3.16, Step=50, from=344]        "
     ]
    },
    {
     "name": "stdout",
     "output_type": "stream",
     "text": [
      "Validation Stage ==> Epoch: 3 / 999 | Validation loss: 2.32410 |  Validation Accuracy: 0.09954 | Validation Metric (MAE)): 3.18321 | Acc: 9.953837276399307\n"
     ]
    },
    {
     "name": "stderr",
     "output_type": "stream",
     "text": [
      "Epoch ===> :   1%|          | 7/1000 [00:09<21:22,  1.29s/it, Epoch=4, validation_loss=2.31, Validation Acc=0.111, Step=55, from=108] "
     ]
    },
    {
     "name": "stdout",
     "output_type": "stream",
     "text": [
      "Training Stage ==> Epoch: 4 / 999 | Training loss: 2.33904 |  Training Accuracy: 0.09519 | Training Metric (MAE): 3.18811 | Acc: 9.519056261343014\n"
     ]
    },
    {
     "name": "stderr",
     "output_type": "stream",
     "text": [
      "Epoch ===> :   1%|          | 8/1000 [00:09<18:50,  1.14s/it, Epoch=5, training_loss=2.31, training Acc=3.24, Step=47, from=344]       "
     ]
    },
    {
     "name": "stdout",
     "output_type": "stream",
     "text": [
      "Validation Stage ==> Epoch: 4 / 999 | Validation loss: 2.32410 |  Validation Accuracy: 0.09954 | Validation Metric (MAE)): 3.18321 | Acc: 9.953837276399307\n"
     ]
    },
    {
     "name": "stderr",
     "output_type": "stream",
     "text": [
      "Epoch ===> :   1%|          | 8/1000 [00:11<18:50,  1.14s/it, Epoch=5, validation_loss=2.32, Validation Acc=0.11, Step=62, from=108]  "
     ]
    },
    {
     "name": "stdout",
     "output_type": "stream",
     "text": [
      "Training Stage ==> Epoch: 5 / 999 | Training loss: 2.29432 |  Training Accuracy: 0.09637 | Training Metric (MAE): 3.20109 | Acc: 9.637023593466425\n"
     ]
    },
    {
     "name": "stderr",
     "output_type": "stream",
     "text": [
      "Epoch ===> :   1%|          | 9/1000 [00:11<21:54,  1.33s/it, Epoch=6, training_loss=2.35, training Acc=3.16, Step=41, from=344]       "
     ]
    },
    {
     "name": "stdout",
     "output_type": "stream",
     "text": [
      "Validation Stage ==> Epoch: 5 / 999 | Validation loss: 2.32410 |  Validation Accuracy: 0.09954 | Validation Metric (MAE)): 3.18321 | Acc: 9.953837276399307\n"
     ]
    },
    {
     "name": "stderr",
     "output_type": "stream",
     "text": [
      "Epoch ===> :   1%|          | 9/1000 [00:13<21:54,  1.33s/it, Epoch=6, validation_loss=2.31, Validation Acc=0.111, Step=55, from=108] "
     ]
    },
    {
     "name": "stdout",
     "output_type": "stream",
     "text": [
      "Training Stage ==> Epoch: 6 / 999 | Training loss: 2.24330 |  Training Accuracy: 0.09574 | Training Metric (MAE): 3.21098 | Acc: 9.573502722323049\n"
     ]
    },
    {
     "name": "stderr",
     "output_type": "stream",
     "text": [
      "Epoch ===> :   1%|          | 11/1000 [00:13<24:10,  1.47s/it, Epoch=7, training_loss=2.28, training Acc=3.22, Step=43, from=344]       "
     ]
    },
    {
     "name": "stdout",
     "output_type": "stream",
     "text": [
      "Validation Stage ==> Epoch: 6 / 999 | Validation loss: 2.32410 |  Validation Accuracy: 0.09954 | Validation Metric (MAE)): 3.18321 | Acc: 9.953837276399307\n"
     ]
    },
    {
     "name": "stderr",
     "output_type": "stream",
     "text": [
      "Epoch ===> :   1%|          | 11/1000 [00:15<24:10,  1.47s/it, Epoch=7, validation_loss=2.28, Validation Acc=0.109, Step=48, from=108] "
     ]
    },
    {
     "name": "stdout",
     "output_type": "stream",
     "text": [
      "Training Stage ==> Epoch: 7 / 999 | Training loss: 2.36563 |  Training Accuracy: 0.09501 | Training Metric (MAE): 3.19211 | Acc: 9.500907441016333\n"
     ]
    },
    {
     "name": "stderr",
     "output_type": "stream",
     "text": [
      "Epoch ===> :   1%|          | 12/1000 [00:15<20:43,  1.26s/it, Epoch=8, training_loss=2.32, training Acc=3.31, Step=43, from=344]       "
     ]
    },
    {
     "name": "stdout",
     "output_type": "stream",
     "text": [
      "Validation Stage ==> Epoch: 7 / 999 | Validation loss: 2.32410 |  Validation Accuracy: 0.09954 | Validation Metric (MAE)): 3.18321 | Acc: 9.953837276399307\n"
     ]
    },
    {
     "name": "stderr",
     "output_type": "stream",
     "text": [
      "Epoch ===> :   1%|          | 12/1000 [00:16<20:43,  1.26s/it, Epoch=8, validation_loss=2.34, Validation Acc=0.111, Step=51, from=108] "
     ]
    },
    {
     "name": "stdout",
     "output_type": "stream",
     "text": [
      "Training Stage ==> Epoch: 8 / 999 | Training loss: 2.34296 |  Training Accuracy: 0.09410 | Training Metric (MAE): 3.22323 | Acc: 9.41016333938294\n"
     ]
    },
    {
     "name": "stderr",
     "output_type": "stream",
     "text": [
      "Epoch ===> :   1%|▏         | 13/1000 [00:17<22:43,  1.38s/it, Epoch=9, training_loss=2.3, training Acc=3.26, Step=43, from=344]        "
     ]
    },
    {
     "name": "stdout",
     "output_type": "stream",
     "text": [
      "Validation Stage ==> Epoch: 8 / 999 | Validation loss: 2.32410 |  Validation Accuracy: 0.09954 | Validation Metric (MAE)): 3.18321 | Acc: 9.953837276399307\n"
     ]
    },
    {
     "name": "stderr",
     "output_type": "stream",
     "text": [
      "Epoch ===> :   1%|▏         | 13/1000 [00:18<22:43,  1.38s/it, Epoch=9, validation_loss=2.28, Validation Acc=0.109, Step=48, from=108] "
     ]
    },
    {
     "name": "stdout",
     "output_type": "stream",
     "text": [
      "Training Stage ==> Epoch: 9 / 999 | Training loss: 2.31335 |  Training Accuracy: 0.09519 | Training Metric (MAE): 3.20835 | Acc: 9.519056261343014\n"
     ]
    },
    {
     "name": "stderr",
     "output_type": "stream",
     "text": [
      "Epoch ===> :   1%|▏         | 14/1000 [00:19<24:44,  1.51s/it, Epoch=10, training_loss=2.33, training Acc=3.18, Step=23, from=344]      "
     ]
    },
    {
     "name": "stdout",
     "output_type": "stream",
     "text": [
      "Validation Stage ==> Epoch: 9 / 999 | Validation loss: 2.32410 |  Validation Accuracy: 0.09954 | Validation Metric (MAE)): 3.18321 | Acc: 9.953837276399307\n"
     ]
    },
    {
     "name": "stderr",
     "output_type": "stream",
     "text": [
      "Epoch ===> :   1%|▏         | 14/1000 [00:20<24:44,  1.51s/it, Epoch=10, validation_loss=2.28, Validation Acc=0.109, Step=64, from=108] "
     ]
    },
    {
     "name": "stdout",
     "output_type": "stream",
     "text": [
      "Training Stage ==> Epoch: 10 / 999 | Training loss: 2.29035 |  Training Accuracy: 0.09592 | Training Metric (MAE): 3.21407 | Acc: 9.591651542649728\n"
     ]
    },
    {
     "name": "stderr",
     "output_type": "stream",
     "text": [
      "Epoch ===> :   2%|▏         | 16/1000 [00:21<26:18,  1.60s/it, Epoch=11, training_loss=2.29, training Acc=3.18, Step=49, from=344]       "
     ]
    },
    {
     "name": "stdout",
     "output_type": "stream",
     "text": [
      "Validation Stage ==> Epoch: 10 / 999 | Validation loss: 2.32410 |  Validation Accuracy: 0.09954 | Validation Metric (MAE)): 3.18321 | Acc: 9.953837276399307\n"
     ]
    },
    {
     "name": "stderr",
     "output_type": "stream",
     "text": [
      "Epoch ===> :   2%|▏         | 16/1000 [00:22<26:18,  1.60s/it, Epoch=11, validation_loss=2.32, Validation Acc=0.11, Step=62, from=108]  "
     ]
    },
    {
     "name": "stdout",
     "output_type": "stream",
     "text": [
      "Training Stage ==> Epoch: 11 / 999 | Training loss: 2.34380 |  Training Accuracy: 0.09519 | Training Metric (MAE): 3.20109 | Acc: 9.519056261343014\n"
     ]
    },
    {
     "name": "stderr",
     "output_type": "stream",
     "text": [
      "Epoch ===> :   2%|▏         | 17/1000 [00:22<21:07,  1.29s/it, Epoch=12, training_loss=2.29, training Acc=3.18, Step=41, from=344]       "
     ]
    },
    {
     "name": "stdout",
     "output_type": "stream",
     "text": [
      "Validation Stage ==> Epoch: 11 / 999 | Validation loss: 2.32410 |  Validation Accuracy: 0.09954 | Validation Metric (MAE)): 3.18321 | Acc: 9.953837276399307\n"
     ]
    },
    {
     "name": "stderr",
     "output_type": "stream",
     "text": [
      "Epoch ===> :   2%|▏         | 17/1000 [00:24<21:07,  1.29s/it, Epoch=12, validation_loss=2.35, Validation Acc=0.106, Step=67, from=108] "
     ]
    },
    {
     "name": "stdout",
     "output_type": "stream",
     "text": [
      "Training Stage ==> Epoch: 12 / 999 | Training loss: 2.31873 |  Training Accuracy: 0.09528 | Training Metric (MAE): 3.20363 | Acc: 9.528130671506352\n"
     ]
    },
    {
     "name": "stderr",
     "output_type": "stream",
     "text": [
      "Epoch ===> :   2%|▏         | 18/1000 [00:24<22:51,  1.40s/it, Epoch=13, training_loss=2.28, training Acc=3.23, Step=50, from=344]       "
     ]
    },
    {
     "name": "stdout",
     "output_type": "stream",
     "text": [
      "Validation Stage ==> Epoch: 12 / 999 | Validation loss: 2.32410 |  Validation Accuracy: 0.09954 | Validation Metric (MAE)): 3.18321 | Acc: 9.953837276399307\n"
     ]
    },
    {
     "name": "stderr",
     "output_type": "stream",
     "text": [
      "Epoch ===> :   2%|▏         | 18/1000 [00:26<22:51,  1.40s/it, Epoch=13, validation_loss=2.28, Validation Acc=0.111, Step=61, from=108] "
     ]
    },
    {
     "name": "stdout",
     "output_type": "stream",
     "text": [
      "Training Stage ==> Epoch: 13 / 999 | Training loss: 2.29956 |  Training Accuracy: 0.09583 | Training Metric (MAE): 3.20563 | Acc: 9.582577132486389\n"
     ]
    },
    {
     "name": "stderr",
     "output_type": "stream",
     "text": [
      "Epoch ===> :   2%|▏         | 19/1000 [00:26<24:33,  1.50s/it, Epoch=14, training_loss=2.33, training Acc=3.23, Step=49, from=344]       "
     ]
    },
    {
     "name": "stdout",
     "output_type": "stream",
     "text": [
      "Validation Stage ==> Epoch: 13 / 999 | Validation loss: 2.32410 |  Validation Accuracy: 0.09954 | Validation Metric (MAE)): 3.18321 | Acc: 9.953837276399307\n"
     ]
    },
    {
     "name": "stderr",
     "output_type": "stream",
     "text": [
      "Epoch ===> :   2%|▏         | 19/1000 [00:27<24:33,  1.50s/it, Epoch=14, validation_loss=2.32, Validation Acc=0.108, Step=59, from=108] "
     ]
    },
    {
     "name": "stdout",
     "output_type": "stream",
     "text": [
      "Training Stage ==> Epoch: 14 / 999 | Training loss: 2.31754 |  Training Accuracy: 0.09601 | Training Metric (MAE): 3.20191 | Acc: 9.600725952813068\n"
     ]
    },
    {
     "name": "stderr",
     "output_type": "stream",
     "text": [
      "Epoch ===> :   2%|▏         | 20/1000 [00:28<25:32,  1.56s/it, Epoch=15, training_loss=2.3, training Acc=3.32, Step=47, from=344]        "
     ]
    },
    {
     "name": "stdout",
     "output_type": "stream",
     "text": [
      "Validation Stage ==> Epoch: 14 / 999 | Validation loss: 2.32410 |  Validation Accuracy: 0.09954 | Validation Metric (MAE)): 3.18321 | Acc: 9.953837276399307\n"
     ]
    },
    {
     "name": "stderr",
     "output_type": "stream",
     "text": [
      "Epoch ===> :   2%|▏         | 20/1000 [00:29<25:32,  1.56s/it, Epoch=15, validation_loss=2.27, Validation Acc=0.111, Step=49, from=108] "
     ]
    },
    {
     "name": "stdout",
     "output_type": "stream",
     "text": [
      "Training Stage ==> Epoch: 15 / 999 | Training loss: 2.33456 |  Training Accuracy: 0.09446 | Training Metric (MAE): 3.20109 | Acc: 9.446460980036298\n"
     ]
    },
    {
     "name": "stderr",
     "output_type": "stream",
     "text": [
      "Epoch ===> :   2%|▏         | 22/1000 [00:29<26:34,  1.63s/it, Epoch=16, training_loss=2.32, training Acc=3.17, Step=33, from=344]       "
     ]
    },
    {
     "name": "stdout",
     "output_type": "stream",
     "text": [
      "Validation Stage ==> Epoch: 15 / 999 | Validation loss: 2.32410 |  Validation Accuracy: 0.09954 | Validation Metric (MAE)): 3.18321 | Acc: 9.953837276399307\n"
     ]
    },
    {
     "name": "stderr",
     "output_type": "stream",
     "text": [
      "Epoch ===> :   2%|▏         | 22/1000 [00:31<26:34,  1.63s/it, Epoch=16, validation_loss=2.29, Validation Acc=0.11, Step=56, from=108]  "
     ]
    },
    {
     "name": "stdout",
     "output_type": "stream",
     "text": [
      "Training Stage ==> Epoch: 16 / 999 | Training loss: 2.32232 |  Training Accuracy: 0.09746 | Training Metric (MAE): 3.18249 | Acc: 9.745916515426497\n"
     ]
    },
    {
     "name": "stderr",
     "output_type": "stream",
     "text": [
      "Epoch ===> :   2%|▏         | 23/1000 [00:31<21:55,  1.35s/it, Epoch=17, training_loss=2.29, training Acc=3.19, Step=44, from=344]       "
     ]
    },
    {
     "name": "stdout",
     "output_type": "stream",
     "text": [
      "Validation Stage ==> Epoch: 16 / 999 | Validation loss: 2.32410 |  Validation Accuracy: 0.09954 | Validation Metric (MAE)): 3.18321 | Acc: 9.953837276399307\n"
     ]
    },
    {
     "name": "stderr",
     "output_type": "stream",
     "text": [
      "Epoch ===> :   2%|▏         | 23/1000 [00:33<21:55,  1.35s/it, Epoch=17, validation_loss=2.33, Validation Acc=0.11, Step=57, from=108]  "
     ]
    },
    {
     "name": "stdout",
     "output_type": "stream",
     "text": [
      "Training Stage ==> Epoch: 17 / 999 | Training loss: 2.26927 |  Training Accuracy: 0.09574 | Training Metric (MAE): 3.20263 | Acc: 9.573502722323049\n"
     ]
    },
    {
     "name": "stderr",
     "output_type": "stream",
     "text": [
      "Epoch ===> :   2%|▏         | 24/1000 [00:33<24:15,  1.49s/it, Epoch=18, training_loss=2.3, training Acc=3.23, Step=40, from=344]        "
     ]
    },
    {
     "name": "stdout",
     "output_type": "stream",
     "text": [
      "Validation Stage ==> Epoch: 17 / 999 | Validation loss: 2.32410 |  Validation Accuracy: 0.09954 | Validation Metric (MAE)): 3.18321 | Acc: 9.953837276399307\n"
     ]
    },
    {
     "name": "stderr",
     "output_type": "stream",
     "text": [
      "Epoch ===> :   2%|▏         | 24/1000 [00:35<24:15,  1.49s/it, Epoch=18, validation_loss=2.37, Validation Acc=0.109, Step=52, from=108] "
     ]
    },
    {
     "name": "stdout",
     "output_type": "stream",
     "text": [
      "Training Stage ==> Epoch: 18 / 999 | Training loss: 2.33543 |  Training Accuracy: 0.09601 | Training Metric (MAE): 3.21053 | Acc: 9.600725952813068\n"
     ]
    },
    {
     "name": "stderr",
     "output_type": "stream",
     "text": [
      "Epoch ===> :   2%|▎         | 25/1000 [00:35<26:26,  1.63s/it, Epoch=19, training_loss=2.29, training Acc=3.29, Step=40, from=344]       "
     ]
    },
    {
     "name": "stdout",
     "output_type": "stream",
     "text": [
      "Validation Stage ==> Epoch: 18 / 999 | Validation loss: 2.32410 |  Validation Accuracy: 0.09954 | Validation Metric (MAE)): 3.18321 | Acc: 9.953837276399307\n"
     ]
    },
    {
     "name": "stderr",
     "output_type": "stream",
     "text": [
      "Epoch ===> :   2%|▎         | 25/1000 [00:37<26:26,  1.63s/it, Epoch=19, validation_loss=2.33, Validation Acc=0.107, Step=43, from=108] "
     ]
    },
    {
     "name": "stdout",
     "output_type": "stream",
     "text": [
      "Training Stage ==> Epoch: 19 / 999 | Training loss: 2.34666 |  Training Accuracy: 0.09637 | Training Metric (MAE): 3.20073 | Acc: 9.637023593466425\n"
     ]
    },
    {
     "name": "stderr",
     "output_type": "stream",
     "text": [
      "Epoch ===> :   3%|▎         | 26/1000 [00:37<28:38,  1.76s/it, Epoch=20, training_loss=2.32, training Acc=3.25, Step=25, from=344]       "
     ]
    },
    {
     "name": "stdout",
     "output_type": "stream",
     "text": [
      "Validation Stage ==> Epoch: 19 / 999 | Validation loss: 2.32410 |  Validation Accuracy: 0.09954 | Validation Metric (MAE)): 3.18321 | Acc: 9.953837276399307\n"
     ]
    },
    {
     "name": "stderr",
     "output_type": "stream",
     "text": [
      "Epoch ===> :   3%|▎         | 26/1000 [00:39<28:38,  1.76s/it, Epoch=20, validation_loss=2.34, Validation Acc=0.111, Step=51, from=108] "
     ]
    },
    {
     "name": "stdout",
     "output_type": "stream",
     "text": [
      "Training Stage ==> Epoch: 20 / 999 | Training loss: 2.33380 |  Training Accuracy: 0.09437 | Training Metric (MAE): 3.20708 | Acc: 9.43738656987296\n"
     ]
    },
    {
     "name": "stderr",
     "output_type": "stream",
     "text": [
      "Epoch ===> :   3%|▎         | 27/1000 [00:40<29:53,  1.84s/it, Epoch=21, training_loss=2.3, training Acc=3.26, Step=37, from=344]        "
     ]
    },
    {
     "name": "stdout",
     "output_type": "stream",
     "text": [
      "Validation Stage ==> Epoch: 20 / 999 | Validation loss: 2.32410 |  Validation Accuracy: 0.09954 | Validation Metric (MAE)): 3.18321 | Acc: 9.953837276399307\n"
     ]
    },
    {
     "name": "stderr",
     "output_type": "stream",
     "text": [
      "Epoch ===> :   3%|▎         | 27/1000 [00:41<29:53,  1.84s/it, Epoch=21, validation_loss=2.29, Validation Acc=0.111, Step=53, from=108] "
     ]
    },
    {
     "name": "stdout",
     "output_type": "stream",
     "text": [
      "Training Stage ==> Epoch: 21 / 999 | Training loss: 2.29987 |  Training Accuracy: 0.09465 | Training Metric (MAE): 3.21897 | Acc: 9.464609800362975\n"
     ]
    },
    {
     "name": "stderr",
     "output_type": "stream",
     "text": [
      "Epoch ===> :   3%|▎         | 29/1000 [00:42<30:45,  1.90s/it, Epoch=22, training_loss=2.33, training Acc=3.18, Step=40, from=344]       "
     ]
    },
    {
     "name": "stdout",
     "output_type": "stream",
     "text": [
      "Validation Stage ==> Epoch: 21 / 999 | Validation loss: 2.32410 |  Validation Accuracy: 0.09954 | Validation Metric (MAE)): 3.18321 | Acc: 9.953837276399307\n"
     ]
    },
    {
     "name": "stderr",
     "output_type": "stream",
     "text": [
      "Epoch ===> :   2%|▏         | 22/1000 [00:42<31:38,  1.94s/it, Epoch=22, training_loss=2.31, training Acc=3.2, Step=165, from=344] \n"
     ]
    },
    {
     "ename": "KeyboardInterrupt",
     "evalue": "",
     "output_type": "error",
     "traceback": [
      "\u001b[1;31m---------------------------------------------------------------------------\u001b[0m",
      "\u001b[1;31mKeyboardInterrupt\u001b[0m                         Traceback (most recent call last)",
      "\u001b[1;32m~\\AppData\\Local\\Temp\\ipykernel_37372\\2164353983.py\u001b[0m in \u001b[0;36m<module>\u001b[1;34m\u001b[0m\n\u001b[1;32m----> 1\u001b[1;33m \u001b[0mt\u001b[0m\u001b[1;33m.\u001b[0m\u001b[0mtrainModel\u001b[0m\u001b[1;33m(\u001b[0m\u001b[0mearlyStopFlag\u001b[0m \u001b[1;33m=\u001b[0m\u001b[1;32mFalse\u001b[0m\u001b[1;33m)\u001b[0m\u001b[1;33m\u001b[0m\u001b[1;33m\u001b[0m\u001b[0m\n\u001b[0m",
      "\u001b[1;32m~\\AppData\\Local\\Temp\\ipykernel_37372\\2411979671.py\u001b[0m in \u001b[0;36mtrainModel\u001b[1;34m(self, process_factor, patiente, show_process, earlyStopFlag)\u001b[0m\n\u001b[0;32m     52\u001b[0m \u001b[1;33m\u001b[0m\u001b[0m\n\u001b[0;32m     53\u001b[0m             \u001b[0mself\u001b[0m\u001b[1;33m.\u001b[0m\u001b[0mmodel\u001b[0m\u001b[1;33m.\u001b[0m\u001b[0mtrain\u001b[0m\u001b[1;33m(\u001b[0m\u001b[1;33m)\u001b[0m\u001b[1;33m\u001b[0m\u001b[1;33m\u001b[0m\u001b[0m\n\u001b[1;32m---> 54\u001b[1;33m             \u001b[1;32mfor\u001b[0m \u001b[0midx\u001b[0m\u001b[1;33m,\u001b[0m \u001b[1;33m(\u001b[0m\u001b[0mmusicMarket\u001b[0m\u001b[1;33m,\u001b[0m \u001b[0mmusicStats\u001b[0m\u001b[1;33m,\u001b[0m \u001b[0mmusicArtistComposer\u001b[0m\u001b[1;33m,\u001b[0m \u001b[0mlabels\u001b[0m\u001b[1;33m)\u001b[0m \u001b[1;32min\u001b[0m \u001b[0menumerate\u001b[0m\u001b[1;33m(\u001b[0m\u001b[0mself\u001b[0m\u001b[1;33m.\u001b[0m\u001b[0mtrain\u001b[0m\u001b[1;33m)\u001b[0m\u001b[1;33m:\u001b[0m\u001b[1;33m\u001b[0m\u001b[1;33m\u001b[0m\u001b[0m\n\u001b[0m\u001b[0;32m     55\u001b[0m                 \u001b[0mmusicMarket\u001b[0m \u001b[1;33m=\u001b[0m \u001b[0mmusicMarket\u001b[0m\u001b[1;33m.\u001b[0m\u001b[0mto\u001b[0m\u001b[1;33m(\u001b[0m\u001b[0mself\u001b[0m\u001b[1;33m.\u001b[0m\u001b[0mdevice\u001b[0m\u001b[1;33m)\u001b[0m\u001b[1;33m\u001b[0m\u001b[1;33m\u001b[0m\u001b[0m\n\u001b[0;32m     56\u001b[0m                 \u001b[0mmusicStats\u001b[0m \u001b[1;33m=\u001b[0m \u001b[0mmusicStats\u001b[0m\u001b[1;33m.\u001b[0m\u001b[0mto\u001b[0m\u001b[1;33m(\u001b[0m\u001b[0mself\u001b[0m\u001b[1;33m.\u001b[0m\u001b[0mdevice\u001b[0m\u001b[1;33m)\u001b[0m\u001b[1;33m\u001b[0m\u001b[1;33m\u001b[0m\u001b[0m\n",
      "\u001b[1;32mc:\\Users\\Miguel\\anaconda3\\lib\\site-packages\\torch\\utils\\data\\dataloader.py\u001b[0m in \u001b[0;36m__next__\u001b[1;34m(self)\u001b[0m\n\u001b[0;32m    631\u001b[0m                 \u001b[1;31m# TODO(https://github.com/pytorch/pytorch/issues/76750)\u001b[0m\u001b[1;33m\u001b[0m\u001b[1;33m\u001b[0m\u001b[0m\n\u001b[0;32m    632\u001b[0m                 \u001b[0mself\u001b[0m\u001b[1;33m.\u001b[0m\u001b[0m_reset\u001b[0m\u001b[1;33m(\u001b[0m\u001b[1;33m)\u001b[0m  \u001b[1;31m# type: ignore[call-arg]\u001b[0m\u001b[1;33m\u001b[0m\u001b[1;33m\u001b[0m\u001b[0m\n\u001b[1;32m--> 633\u001b[1;33m             \u001b[0mdata\u001b[0m \u001b[1;33m=\u001b[0m \u001b[0mself\u001b[0m\u001b[1;33m.\u001b[0m\u001b[0m_next_data\u001b[0m\u001b[1;33m(\u001b[0m\u001b[1;33m)\u001b[0m\u001b[1;33m\u001b[0m\u001b[1;33m\u001b[0m\u001b[0m\n\u001b[0m\u001b[0;32m    634\u001b[0m             \u001b[0mself\u001b[0m\u001b[1;33m.\u001b[0m\u001b[0m_num_yielded\u001b[0m \u001b[1;33m+=\u001b[0m \u001b[1;36m1\u001b[0m\u001b[1;33m\u001b[0m\u001b[1;33m\u001b[0m\u001b[0m\n\u001b[0;32m    635\u001b[0m             \u001b[1;32mif\u001b[0m \u001b[0mself\u001b[0m\u001b[1;33m.\u001b[0m\u001b[0m_dataset_kind\u001b[0m \u001b[1;33m==\u001b[0m \u001b[0m_DatasetKind\u001b[0m\u001b[1;33m.\u001b[0m\u001b[0mIterable\u001b[0m \u001b[1;32mand\u001b[0m\u001b[0;31m \u001b[0m\u001b[0;31m\\\u001b[0m\u001b[1;33m\u001b[0m\u001b[1;33m\u001b[0m\u001b[0m\n",
      "\u001b[1;32mc:\\Users\\Miguel\\anaconda3\\lib\\site-packages\\torch\\utils\\data\\dataloader.py\u001b[0m in \u001b[0;36m_next_data\u001b[1;34m(self)\u001b[0m\n\u001b[0;32m    675\u001b[0m     \u001b[1;32mdef\u001b[0m \u001b[0m_next_data\u001b[0m\u001b[1;33m(\u001b[0m\u001b[0mself\u001b[0m\u001b[1;33m)\u001b[0m\u001b[1;33m:\u001b[0m\u001b[1;33m\u001b[0m\u001b[1;33m\u001b[0m\u001b[0m\n\u001b[0;32m    676\u001b[0m         \u001b[0mindex\u001b[0m \u001b[1;33m=\u001b[0m \u001b[0mself\u001b[0m\u001b[1;33m.\u001b[0m\u001b[0m_next_index\u001b[0m\u001b[1;33m(\u001b[0m\u001b[1;33m)\u001b[0m  \u001b[1;31m# may raise StopIteration\u001b[0m\u001b[1;33m\u001b[0m\u001b[1;33m\u001b[0m\u001b[0m\n\u001b[1;32m--> 677\u001b[1;33m         \u001b[0mdata\u001b[0m \u001b[1;33m=\u001b[0m \u001b[0mself\u001b[0m\u001b[1;33m.\u001b[0m\u001b[0m_dataset_fetcher\u001b[0m\u001b[1;33m.\u001b[0m\u001b[0mfetch\u001b[0m\u001b[1;33m(\u001b[0m\u001b[0mindex\u001b[0m\u001b[1;33m)\u001b[0m  \u001b[1;31m# may raise StopIteration\u001b[0m\u001b[1;33m\u001b[0m\u001b[1;33m\u001b[0m\u001b[0m\n\u001b[0m\u001b[0;32m    678\u001b[0m         \u001b[1;32mif\u001b[0m \u001b[0mself\u001b[0m\u001b[1;33m.\u001b[0m\u001b[0m_pin_memory\u001b[0m\u001b[1;33m:\u001b[0m\u001b[1;33m\u001b[0m\u001b[1;33m\u001b[0m\u001b[0m\n\u001b[0;32m    679\u001b[0m             \u001b[0mdata\u001b[0m \u001b[1;33m=\u001b[0m \u001b[0m_utils\u001b[0m\u001b[1;33m.\u001b[0m\u001b[0mpin_memory\u001b[0m\u001b[1;33m.\u001b[0m\u001b[0mpin_memory\u001b[0m\u001b[1;33m(\u001b[0m\u001b[0mdata\u001b[0m\u001b[1;33m,\u001b[0m \u001b[0mself\u001b[0m\u001b[1;33m.\u001b[0m\u001b[0m_pin_memory_device\u001b[0m\u001b[1;33m)\u001b[0m\u001b[1;33m\u001b[0m\u001b[1;33m\u001b[0m\u001b[0m\n",
      "\u001b[1;32mc:\\Users\\Miguel\\anaconda3\\lib\\site-packages\\torch\\utils\\data\\_utils\\fetch.py\u001b[0m in \u001b[0;36mfetch\u001b[1;34m(self, possibly_batched_index)\u001b[0m\n\u001b[0;32m     52\u001b[0m         \u001b[1;32melse\u001b[0m\u001b[1;33m:\u001b[0m\u001b[1;33m\u001b[0m\u001b[1;33m\u001b[0m\u001b[0m\n\u001b[0;32m     53\u001b[0m             \u001b[0mdata\u001b[0m \u001b[1;33m=\u001b[0m \u001b[0mself\u001b[0m\u001b[1;33m.\u001b[0m\u001b[0mdataset\u001b[0m\u001b[1;33m[\u001b[0m\u001b[0mpossibly_batched_index\u001b[0m\u001b[1;33m]\u001b[0m\u001b[1;33m\u001b[0m\u001b[1;33m\u001b[0m\u001b[0m\n\u001b[1;32m---> 54\u001b[1;33m         \u001b[1;32mreturn\u001b[0m \u001b[0mself\u001b[0m\u001b[1;33m.\u001b[0m\u001b[0mcollate_fn\u001b[0m\u001b[1;33m(\u001b[0m\u001b[0mdata\u001b[0m\u001b[1;33m)\u001b[0m\u001b[1;33m\u001b[0m\u001b[1;33m\u001b[0m\u001b[0m\n\u001b[0m",
      "\u001b[1;32mc:\\Users\\Miguel\\anaconda3\\lib\\site-packages\\torch\\utils\\data\\_utils\\collate.py\u001b[0m in \u001b[0;36mdefault_collate\u001b[1;34m(batch)\u001b[0m\n\u001b[0;32m    263\u001b[0m             \u001b[1;33m>>\u001b[0m\u001b[1;33m>\u001b[0m \u001b[0mdefault_collate\u001b[0m\u001b[1;33m(\u001b[0m\u001b[0mbatch\u001b[0m\u001b[1;33m)\u001b[0m  \u001b[1;31m# Handle `CustomType` automatically\u001b[0m\u001b[1;33m\u001b[0m\u001b[1;33m\u001b[0m\u001b[0m\n\u001b[0;32m    264\u001b[0m     \"\"\"\n\u001b[1;32m--> 265\u001b[1;33m     \u001b[1;32mreturn\u001b[0m \u001b[0mcollate\u001b[0m\u001b[1;33m(\u001b[0m\u001b[0mbatch\u001b[0m\u001b[1;33m,\u001b[0m \u001b[0mcollate_fn_map\u001b[0m\u001b[1;33m=\u001b[0m\u001b[0mdefault_collate_fn_map\u001b[0m\u001b[1;33m)\u001b[0m\u001b[1;33m\u001b[0m\u001b[1;33m\u001b[0m\u001b[0m\n\u001b[0m",
      "\u001b[1;32mc:\\Users\\Miguel\\anaconda3\\lib\\site-packages\\torch\\utils\\data\\_utils\\collate.py\u001b[0m in \u001b[0;36mcollate\u001b[1;34m(batch, collate_fn_map)\u001b[0m\n\u001b[0;32m    140\u001b[0m \u001b[1;33m\u001b[0m\u001b[0m\n\u001b[0;32m    141\u001b[0m         \u001b[1;32mif\u001b[0m \u001b[0misinstance\u001b[0m\u001b[1;33m(\u001b[0m\u001b[0melem\u001b[0m\u001b[1;33m,\u001b[0m \u001b[0mtuple\u001b[0m\u001b[1;33m)\u001b[0m\u001b[1;33m:\u001b[0m\u001b[1;33m\u001b[0m\u001b[1;33m\u001b[0m\u001b[0m\n\u001b[1;32m--> 142\u001b[1;33m             \u001b[1;32mreturn\u001b[0m \u001b[1;33m[\u001b[0m\u001b[0mcollate\u001b[0m\u001b[1;33m(\u001b[0m\u001b[0msamples\u001b[0m\u001b[1;33m,\u001b[0m \u001b[0mcollate_fn_map\u001b[0m\u001b[1;33m=\u001b[0m\u001b[0mcollate_fn_map\u001b[0m\u001b[1;33m)\u001b[0m \u001b[1;32mfor\u001b[0m \u001b[0msamples\u001b[0m \u001b[1;32min\u001b[0m \u001b[0mtransposed\u001b[0m\u001b[1;33m]\u001b[0m  \u001b[1;31m# Backwards compatibility.\u001b[0m\u001b[1;33m\u001b[0m\u001b[1;33m\u001b[0m\u001b[0m\n\u001b[0m\u001b[0;32m    143\u001b[0m         \u001b[1;32melse\u001b[0m\u001b[1;33m:\u001b[0m\u001b[1;33m\u001b[0m\u001b[1;33m\u001b[0m\u001b[0m\n\u001b[0;32m    144\u001b[0m             \u001b[1;32mtry\u001b[0m\u001b[1;33m:\u001b[0m\u001b[1;33m\u001b[0m\u001b[1;33m\u001b[0m\u001b[0m\n",
      "\u001b[1;32mc:\\Users\\Miguel\\anaconda3\\lib\\site-packages\\torch\\utils\\data\\_utils\\collate.py\u001b[0m in \u001b[0;36m<listcomp>\u001b[1;34m(.0)\u001b[0m\n\u001b[0;32m    140\u001b[0m \u001b[1;33m\u001b[0m\u001b[0m\n\u001b[0;32m    141\u001b[0m         \u001b[1;32mif\u001b[0m \u001b[0misinstance\u001b[0m\u001b[1;33m(\u001b[0m\u001b[0melem\u001b[0m\u001b[1;33m,\u001b[0m \u001b[0mtuple\u001b[0m\u001b[1;33m)\u001b[0m\u001b[1;33m:\u001b[0m\u001b[1;33m\u001b[0m\u001b[1;33m\u001b[0m\u001b[0m\n\u001b[1;32m--> 142\u001b[1;33m             \u001b[1;32mreturn\u001b[0m \u001b[1;33m[\u001b[0m\u001b[0mcollate\u001b[0m\u001b[1;33m(\u001b[0m\u001b[0msamples\u001b[0m\u001b[1;33m,\u001b[0m \u001b[0mcollate_fn_map\u001b[0m\u001b[1;33m=\u001b[0m\u001b[0mcollate_fn_map\u001b[0m\u001b[1;33m)\u001b[0m \u001b[1;32mfor\u001b[0m \u001b[0msamples\u001b[0m \u001b[1;32min\u001b[0m \u001b[0mtransposed\u001b[0m\u001b[1;33m]\u001b[0m  \u001b[1;31m# Backwards compatibility.\u001b[0m\u001b[1;33m\u001b[0m\u001b[1;33m\u001b[0m\u001b[0m\n\u001b[0m\u001b[0;32m    143\u001b[0m         \u001b[1;32melse\u001b[0m\u001b[1;33m:\u001b[0m\u001b[1;33m\u001b[0m\u001b[1;33m\u001b[0m\u001b[0m\n\u001b[0;32m    144\u001b[0m             \u001b[1;32mtry\u001b[0m\u001b[1;33m:\u001b[0m\u001b[1;33m\u001b[0m\u001b[1;33m\u001b[0m\u001b[0m\n",
      "\u001b[1;32mc:\\Users\\Miguel\\anaconda3\\lib\\site-packages\\torch\\utils\\data\\_utils\\collate.py\u001b[0m in \u001b[0;36mcollate\u001b[1;34m(batch, collate_fn_map)\u001b[0m\n\u001b[0;32m    117\u001b[0m     \u001b[1;32mif\u001b[0m \u001b[0mcollate_fn_map\u001b[0m \u001b[1;32mis\u001b[0m \u001b[1;32mnot\u001b[0m \u001b[1;32mNone\u001b[0m\u001b[1;33m:\u001b[0m\u001b[1;33m\u001b[0m\u001b[1;33m\u001b[0m\u001b[0m\n\u001b[0;32m    118\u001b[0m         \u001b[1;32mif\u001b[0m \u001b[0melem_type\u001b[0m \u001b[1;32min\u001b[0m \u001b[0mcollate_fn_map\u001b[0m\u001b[1;33m:\u001b[0m\u001b[1;33m\u001b[0m\u001b[1;33m\u001b[0m\u001b[0m\n\u001b[1;32m--> 119\u001b[1;33m             \u001b[1;32mreturn\u001b[0m \u001b[0mcollate_fn_map\u001b[0m\u001b[1;33m[\u001b[0m\u001b[0melem_type\u001b[0m\u001b[1;33m]\u001b[0m\u001b[1;33m(\u001b[0m\u001b[0mbatch\u001b[0m\u001b[1;33m,\u001b[0m \u001b[0mcollate_fn_map\u001b[0m\u001b[1;33m=\u001b[0m\u001b[0mcollate_fn_map\u001b[0m\u001b[1;33m)\u001b[0m\u001b[1;33m\u001b[0m\u001b[1;33m\u001b[0m\u001b[0m\n\u001b[0m\u001b[0;32m    120\u001b[0m \u001b[1;33m\u001b[0m\u001b[0m\n\u001b[0;32m    121\u001b[0m         \u001b[1;32mfor\u001b[0m \u001b[0mcollate_type\u001b[0m \u001b[1;32min\u001b[0m \u001b[0mcollate_fn_map\u001b[0m\u001b[1;33m:\u001b[0m\u001b[1;33m\u001b[0m\u001b[1;33m\u001b[0m\u001b[0m\n",
      "\u001b[1;32mc:\\Users\\Miguel\\anaconda3\\lib\\site-packages\\torch\\utils\\data\\_utils\\collate.py\u001b[0m in \u001b[0;36mcollate_tensor_fn\u001b[1;34m(batch, collate_fn_map)\u001b[0m\n\u001b[0;32m    160\u001b[0m         \u001b[0mstorage\u001b[0m \u001b[1;33m=\u001b[0m \u001b[0melem\u001b[0m\u001b[1;33m.\u001b[0m\u001b[0m_typed_storage\u001b[0m\u001b[1;33m(\u001b[0m\u001b[1;33m)\u001b[0m\u001b[1;33m.\u001b[0m\u001b[0m_new_shared\u001b[0m\u001b[1;33m(\u001b[0m\u001b[0mnumel\u001b[0m\u001b[1;33m,\u001b[0m \u001b[0mdevice\u001b[0m\u001b[1;33m=\u001b[0m\u001b[0melem\u001b[0m\u001b[1;33m.\u001b[0m\u001b[0mdevice\u001b[0m\u001b[1;33m)\u001b[0m\u001b[1;33m\u001b[0m\u001b[1;33m\u001b[0m\u001b[0m\n\u001b[0;32m    161\u001b[0m         \u001b[0mout\u001b[0m \u001b[1;33m=\u001b[0m \u001b[0melem\u001b[0m\u001b[1;33m.\u001b[0m\u001b[0mnew\u001b[0m\u001b[1;33m(\u001b[0m\u001b[0mstorage\u001b[0m\u001b[1;33m)\u001b[0m\u001b[1;33m.\u001b[0m\u001b[0mresize_\u001b[0m\u001b[1;33m(\u001b[0m\u001b[0mlen\u001b[0m\u001b[1;33m(\u001b[0m\u001b[0mbatch\u001b[0m\u001b[1;33m)\u001b[0m\u001b[1;33m,\u001b[0m \u001b[1;33m*\u001b[0m\u001b[0mlist\u001b[0m\u001b[1;33m(\u001b[0m\u001b[0melem\u001b[0m\u001b[1;33m.\u001b[0m\u001b[0msize\u001b[0m\u001b[1;33m(\u001b[0m\u001b[1;33m)\u001b[0m\u001b[1;33m)\u001b[0m\u001b[1;33m)\u001b[0m\u001b[1;33m\u001b[0m\u001b[1;33m\u001b[0m\u001b[0m\n\u001b[1;32m--> 162\u001b[1;33m     \u001b[1;32mreturn\u001b[0m \u001b[0mtorch\u001b[0m\u001b[1;33m.\u001b[0m\u001b[0mstack\u001b[0m\u001b[1;33m(\u001b[0m\u001b[0mbatch\u001b[0m\u001b[1;33m,\u001b[0m \u001b[1;36m0\u001b[0m\u001b[1;33m,\u001b[0m \u001b[0mout\u001b[0m\u001b[1;33m=\u001b[0m\u001b[0mout\u001b[0m\u001b[1;33m)\u001b[0m\u001b[1;33m\u001b[0m\u001b[1;33m\u001b[0m\u001b[0m\n\u001b[0m\u001b[0;32m    163\u001b[0m \u001b[1;33m\u001b[0m\u001b[0m\n\u001b[0;32m    164\u001b[0m \u001b[1;33m\u001b[0m\u001b[0m\n",
      "\u001b[1;31mKeyboardInterrupt\u001b[0m: "
     ]
    }
   ],
   "source": [
    "t.trainModel(earlyStopFlag =False)"
   ]
  },
  {
   "cell_type": "code",
   "execution_count": null,
   "metadata": {},
   "outputs": [],
   "source": []
  }
 ],
 "metadata": {
  "kernelspec": {
   "display_name": "base",
   "language": "python",
   "name": "python3"
  },
  "language_info": {
   "codemirror_mode": {
    "name": "ipython",
    "version": 3
   },
   "file_extension": ".py",
   "mimetype": "text/x-python",
   "name": "python",
   "nbconvert_exporter": "python",
   "pygments_lexer": "ipython3",
   "version": "3.9.13"
  },
  "orig_nbformat": 4
 },
 "nbformat": 4,
 "nbformat_minor": 2
}
