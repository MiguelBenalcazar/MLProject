{
 "cells": [
  {
   "cell_type": "code",
   "execution_count": 132,
   "metadata": {},
   "outputs": [],
   "source": [
    "import pandas as pd\n",
    "import numpy as np"
   ]
  },
  {
   "cell_type": "code",
   "execution_count": 133,
   "metadata": {},
   "outputs": [],
   "source": [
    "pd.set_option('display.max_columns', None)"
   ]
  },
  {
   "cell_type": "code",
   "execution_count": 134,
   "metadata": {},
   "outputs": [],
   "source": [
    "data = pd.read_csv('./html2023-spring-final-project/train.csv')"
   ]
  },
  {
   "attachments": {},
   "cell_type": "markdown",
   "metadata": {},
   "source": [
    "##### License and Oficial Video\n",
    "They both are mostly the same\n",
    "If license has true/false then oficial video = true/false\n",
    "if license or oficial_video is empty then False\n",
    "\n",
    "\n",
    "Convert False to 0 and True to 1"
   ]
  },
  {
   "cell_type": "code",
   "execution_count": 135,
   "metadata": {},
   "outputs": [
    {
     "data": {
      "text/plain": [
       "0        0\n",
       "1        0\n",
       "2        0\n",
       "3        1\n",
       "4        1\n",
       "        ..\n",
       "17165    1\n",
       "17166    1\n",
       "17167    1\n",
       "17168    1\n",
       "17169    1\n",
       "Name: official_video, Length: 17170, dtype: int64"
      ]
     },
     "execution_count": 135,
     "metadata": {},
     "output_type": "execute_result"
    }
   ],
   "source": [
    "data['Licensed'].fillna(data['official_video'], inplace=True)\n",
    "data['Licensed'].fillna(False, inplace=True)\n",
    "\n",
    "data['Licensed'].replace({True: 1, False: 0})\n",
    "\n",
    "data['official_video'].fillna(data['Licensed'], inplace=True)\n",
    "data['official_video'].fillna(False, inplace=True)\n",
    "\n",
    "data['official_video'].replace({True: 1, False: 0})\n"
   ]
  },
  {
   "attachments": {},
   "cell_type": "markdown",
   "metadata": {},
   "source": [
    "##### Fill nan data in 'Energy', 'Key', 'Loudness', 'Speechiness', 'Acousticness', 'Instrumentalness', 'Liveness', 'Valence', 'Tempo', 'Duration_ms' by Danceability"
   ]
  },
  {
   "cell_type": "code",
   "execution_count": 136,
   "metadata": {},
   "outputs": [],
   "source": [
    "def fillOptions(data, option = 'max'):\n",
    "    if option == 'max':\n",
    "        return data.value_counts().idxmax()\n",
    "    elif option == 'mean':\n",
    "        return data.mean()\n",
    "    elif option == 'median':\n",
    "        return data.median()\n"
   ]
  },
  {
   "cell_type": "code",
   "execution_count": 137,
   "metadata": {},
   "outputs": [
    {
     "data": {
      "text/plain": [
       "array([0., 1., 4., 6., 5., 3., 2., 9., 8., 7.])"
      ]
     },
     "execution_count": 137,
     "metadata": {},
     "output_type": "execute_result"
    }
   ],
   "source": [
    "danceabilityUnique = data['Danceability'].unique()\n",
    "danceabilityUnique"
   ]
  },
  {
   "cell_type": "code",
   "execution_count": 145,
   "metadata": {},
   "outputs": [],
   "source": [
    "dataFill = ['Energy', 'Loudness', 'Speechiness', 'Acousticness', 'Instrumentalness', 'Liveness', 'Valence', 'Tempo']"
   ]
  },
  {
   "cell_type": "code",
   "execution_count": 139,
   "metadata": {},
   "outputs": [
    {
     "name": "stderr",
     "output_type": "stream",
     "text": [
      "C:\\Users\\Miguel\\AppData\\Local\\Temp\\ipykernel_15224\\4157290635.py:7: SettingWithCopyWarning: \n",
      "A value is trying to be set on a copy of a slice from a DataFrame\n",
      "\n",
      "See the caveats in the documentation: https://pandas.pydata.org/pandas-docs/stable/user_guide/indexing.html#returning-a-view-versus-a-copy\n",
      "  dance[info].fillna(max, inplace = True)\n",
      "C:\\Users\\Miguel\\AppData\\Local\\Temp\\ipykernel_15224\\4157290635.py:7: SettingWithCopyWarning: \n",
      "A value is trying to be set on a copy of a slice from a DataFrame\n",
      "\n",
      "See the caveats in the documentation: https://pandas.pydata.org/pandas-docs/stable/user_guide/indexing.html#returning-a-view-versus-a-copy\n",
      "  dance[info].fillna(max, inplace = True)\n",
      "C:\\Users\\Miguel\\AppData\\Local\\Temp\\ipykernel_15224\\4157290635.py:7: SettingWithCopyWarning: \n",
      "A value is trying to be set on a copy of a slice from a DataFrame\n",
      "\n",
      "See the caveats in the documentation: https://pandas.pydata.org/pandas-docs/stable/user_guide/indexing.html#returning-a-view-versus-a-copy\n",
      "  dance[info].fillna(max, inplace = True)\n",
      "C:\\Users\\Miguel\\AppData\\Local\\Temp\\ipykernel_15224\\4157290635.py:7: SettingWithCopyWarning: \n",
      "A value is trying to be set on a copy of a slice from a DataFrame\n",
      "\n",
      "See the caveats in the documentation: https://pandas.pydata.org/pandas-docs/stable/user_guide/indexing.html#returning-a-view-versus-a-copy\n",
      "  dance[info].fillna(max, inplace = True)\n",
      "C:\\Users\\Miguel\\AppData\\Local\\Temp\\ipykernel_15224\\4157290635.py:7: SettingWithCopyWarning: \n",
      "A value is trying to be set on a copy of a slice from a DataFrame\n",
      "\n",
      "See the caveats in the documentation: https://pandas.pydata.org/pandas-docs/stable/user_guide/indexing.html#returning-a-view-versus-a-copy\n",
      "  dance[info].fillna(max, inplace = True)\n",
      "C:\\Users\\Miguel\\AppData\\Local\\Temp\\ipykernel_15224\\4157290635.py:7: SettingWithCopyWarning: \n",
      "A value is trying to be set on a copy of a slice from a DataFrame\n",
      "\n",
      "See the caveats in the documentation: https://pandas.pydata.org/pandas-docs/stable/user_guide/indexing.html#returning-a-view-versus-a-copy\n",
      "  dance[info].fillna(max, inplace = True)\n",
      "C:\\Users\\Miguel\\AppData\\Local\\Temp\\ipykernel_15224\\4157290635.py:7: SettingWithCopyWarning: \n",
      "A value is trying to be set on a copy of a slice from a DataFrame\n",
      "\n",
      "See the caveats in the documentation: https://pandas.pydata.org/pandas-docs/stable/user_guide/indexing.html#returning-a-view-versus-a-copy\n",
      "  dance[info].fillna(max, inplace = True)\n",
      "C:\\Users\\Miguel\\AppData\\Local\\Temp\\ipykernel_15224\\4157290635.py:7: SettingWithCopyWarning: \n",
      "A value is trying to be set on a copy of a slice from a DataFrame\n",
      "\n",
      "See the caveats in the documentation: https://pandas.pydata.org/pandas-docs/stable/user_guide/indexing.html#returning-a-view-versus-a-copy\n",
      "  dance[info].fillna(max, inplace = True)\n",
      "C:\\Users\\Miguel\\AppData\\Local\\Temp\\ipykernel_15224\\4157290635.py:7: SettingWithCopyWarning: \n",
      "A value is trying to be set on a copy of a slice from a DataFrame\n",
      "\n",
      "See the caveats in the documentation: https://pandas.pydata.org/pandas-docs/stable/user_guide/indexing.html#returning-a-view-versus-a-copy\n",
      "  dance[info].fillna(max, inplace = True)\n",
      "C:\\Users\\Miguel\\AppData\\Local\\Temp\\ipykernel_15224\\4157290635.py:7: SettingWithCopyWarning: \n",
      "A value is trying to be set on a copy of a slice from a DataFrame\n",
      "\n",
      "See the caveats in the documentation: https://pandas.pydata.org/pandas-docs/stable/user_guide/indexing.html#returning-a-view-versus-a-copy\n",
      "  dance[info].fillna(max, inplace = True)\n",
      "C:\\Users\\Miguel\\AppData\\Local\\Temp\\ipykernel_15224\\4157290635.py:7: SettingWithCopyWarning: \n",
      "A value is trying to be set on a copy of a slice from a DataFrame\n",
      "\n",
      "See the caveats in the documentation: https://pandas.pydata.org/pandas-docs/stable/user_guide/indexing.html#returning-a-view-versus-a-copy\n",
      "  dance[info].fillna(max, inplace = True)\n",
      "C:\\Users\\Miguel\\AppData\\Local\\Temp\\ipykernel_15224\\4157290635.py:7: SettingWithCopyWarning: \n",
      "A value is trying to be set on a copy of a slice from a DataFrame\n",
      "\n",
      "See the caveats in the documentation: https://pandas.pydata.org/pandas-docs/stable/user_guide/indexing.html#returning-a-view-versus-a-copy\n",
      "  dance[info].fillna(max, inplace = True)\n",
      "C:\\Users\\Miguel\\AppData\\Local\\Temp\\ipykernel_15224\\4157290635.py:7: SettingWithCopyWarning: \n",
      "A value is trying to be set on a copy of a slice from a DataFrame\n",
      "\n",
      "See the caveats in the documentation: https://pandas.pydata.org/pandas-docs/stable/user_guide/indexing.html#returning-a-view-versus-a-copy\n",
      "  dance[info].fillna(max, inplace = True)\n",
      "C:\\Users\\Miguel\\AppData\\Local\\Temp\\ipykernel_15224\\4157290635.py:7: SettingWithCopyWarning: \n",
      "A value is trying to be set on a copy of a slice from a DataFrame\n",
      "\n",
      "See the caveats in the documentation: https://pandas.pydata.org/pandas-docs/stable/user_guide/indexing.html#returning-a-view-versus-a-copy\n",
      "  dance[info].fillna(max, inplace = True)\n",
      "C:\\Users\\Miguel\\AppData\\Local\\Temp\\ipykernel_15224\\4157290635.py:7: SettingWithCopyWarning: \n",
      "A value is trying to be set on a copy of a slice from a DataFrame\n",
      "\n",
      "See the caveats in the documentation: https://pandas.pydata.org/pandas-docs/stable/user_guide/indexing.html#returning-a-view-versus-a-copy\n",
      "  dance[info].fillna(max, inplace = True)\n",
      "C:\\Users\\Miguel\\AppData\\Local\\Temp\\ipykernel_15224\\4157290635.py:7: SettingWithCopyWarning: \n",
      "A value is trying to be set on a copy of a slice from a DataFrame\n",
      "\n",
      "See the caveats in the documentation: https://pandas.pydata.org/pandas-docs/stable/user_guide/indexing.html#returning-a-view-versus-a-copy\n",
      "  dance[info].fillna(max, inplace = True)\n",
      "C:\\Users\\Miguel\\AppData\\Local\\Temp\\ipykernel_15224\\4157290635.py:7: SettingWithCopyWarning: \n",
      "A value is trying to be set on a copy of a slice from a DataFrame\n",
      "\n",
      "See the caveats in the documentation: https://pandas.pydata.org/pandas-docs/stable/user_guide/indexing.html#returning-a-view-versus-a-copy\n",
      "  dance[info].fillna(max, inplace = True)\n",
      "C:\\Users\\Miguel\\AppData\\Local\\Temp\\ipykernel_15224\\4157290635.py:7: SettingWithCopyWarning: \n",
      "A value is trying to be set on a copy of a slice from a DataFrame\n",
      "\n",
      "See the caveats in the documentation: https://pandas.pydata.org/pandas-docs/stable/user_guide/indexing.html#returning-a-view-versus-a-copy\n",
      "  dance[info].fillna(max, inplace = True)\n",
      "C:\\Users\\Miguel\\AppData\\Local\\Temp\\ipykernel_15224\\4157290635.py:7: SettingWithCopyWarning: \n",
      "A value is trying to be set on a copy of a slice from a DataFrame\n",
      "\n",
      "See the caveats in the documentation: https://pandas.pydata.org/pandas-docs/stable/user_guide/indexing.html#returning-a-view-versus-a-copy\n",
      "  dance[info].fillna(max, inplace = True)\n",
      "C:\\Users\\Miguel\\AppData\\Local\\Temp\\ipykernel_15224\\4157290635.py:7: SettingWithCopyWarning: \n",
      "A value is trying to be set on a copy of a slice from a DataFrame\n",
      "\n",
      "See the caveats in the documentation: https://pandas.pydata.org/pandas-docs/stable/user_guide/indexing.html#returning-a-view-versus-a-copy\n",
      "  dance[info].fillna(max, inplace = True)\n",
      "C:\\Users\\Miguel\\AppData\\Local\\Temp\\ipykernel_15224\\4157290635.py:7: SettingWithCopyWarning: \n",
      "A value is trying to be set on a copy of a slice from a DataFrame\n",
      "\n",
      "See the caveats in the documentation: https://pandas.pydata.org/pandas-docs/stable/user_guide/indexing.html#returning-a-view-versus-a-copy\n",
      "  dance[info].fillna(max, inplace = True)\n",
      "C:\\Users\\Miguel\\AppData\\Local\\Temp\\ipykernel_15224\\4157290635.py:7: SettingWithCopyWarning: \n",
      "A value is trying to be set on a copy of a slice from a DataFrame\n",
      "\n",
      "See the caveats in the documentation: https://pandas.pydata.org/pandas-docs/stable/user_guide/indexing.html#returning-a-view-versus-a-copy\n",
      "  dance[info].fillna(max, inplace = True)\n",
      "C:\\Users\\Miguel\\AppData\\Local\\Temp\\ipykernel_15224\\4157290635.py:7: SettingWithCopyWarning: \n",
      "A value is trying to be set on a copy of a slice from a DataFrame\n",
      "\n",
      "See the caveats in the documentation: https://pandas.pydata.org/pandas-docs/stable/user_guide/indexing.html#returning-a-view-versus-a-copy\n",
      "  dance[info].fillna(max, inplace = True)\n",
      "C:\\Users\\Miguel\\AppData\\Local\\Temp\\ipykernel_15224\\4157290635.py:7: SettingWithCopyWarning: \n",
      "A value is trying to be set on a copy of a slice from a DataFrame\n",
      "\n",
      "See the caveats in the documentation: https://pandas.pydata.org/pandas-docs/stable/user_guide/indexing.html#returning-a-view-versus-a-copy\n",
      "  dance[info].fillna(max, inplace = True)\n",
      "C:\\Users\\Miguel\\AppData\\Local\\Temp\\ipykernel_15224\\4157290635.py:7: SettingWithCopyWarning: \n",
      "A value is trying to be set on a copy of a slice from a DataFrame\n",
      "\n",
      "See the caveats in the documentation: https://pandas.pydata.org/pandas-docs/stable/user_guide/indexing.html#returning-a-view-versus-a-copy\n",
      "  dance[info].fillna(max, inplace = True)\n",
      "C:\\Users\\Miguel\\AppData\\Local\\Temp\\ipykernel_15224\\4157290635.py:7: SettingWithCopyWarning: \n",
      "A value is trying to be set on a copy of a slice from a DataFrame\n",
      "\n",
      "See the caveats in the documentation: https://pandas.pydata.org/pandas-docs/stable/user_guide/indexing.html#returning-a-view-versus-a-copy\n",
      "  dance[info].fillna(max, inplace = True)\n",
      "C:\\Users\\Miguel\\AppData\\Local\\Temp\\ipykernel_15224\\4157290635.py:7: SettingWithCopyWarning: \n",
      "A value is trying to be set on a copy of a slice from a DataFrame\n",
      "\n",
      "See the caveats in the documentation: https://pandas.pydata.org/pandas-docs/stable/user_guide/indexing.html#returning-a-view-versus-a-copy\n",
      "  dance[info].fillna(max, inplace = True)\n",
      "C:\\Users\\Miguel\\AppData\\Local\\Temp\\ipykernel_15224\\4157290635.py:7: SettingWithCopyWarning: \n",
      "A value is trying to be set on a copy of a slice from a DataFrame\n",
      "\n",
      "See the caveats in the documentation: https://pandas.pydata.org/pandas-docs/stable/user_guide/indexing.html#returning-a-view-versus-a-copy\n",
      "  dance[info].fillna(max, inplace = True)\n",
      "C:\\Users\\Miguel\\AppData\\Local\\Temp\\ipykernel_15224\\4157290635.py:7: SettingWithCopyWarning: \n",
      "A value is trying to be set on a copy of a slice from a DataFrame\n",
      "\n",
      "See the caveats in the documentation: https://pandas.pydata.org/pandas-docs/stable/user_guide/indexing.html#returning-a-view-versus-a-copy\n",
      "  dance[info].fillna(max, inplace = True)\n",
      "C:\\Users\\Miguel\\AppData\\Local\\Temp\\ipykernel_15224\\4157290635.py:7: SettingWithCopyWarning: \n",
      "A value is trying to be set on a copy of a slice from a DataFrame\n",
      "\n",
      "See the caveats in the documentation: https://pandas.pydata.org/pandas-docs/stable/user_guide/indexing.html#returning-a-view-versus-a-copy\n",
      "  dance[info].fillna(max, inplace = True)\n",
      "C:\\Users\\Miguel\\AppData\\Local\\Temp\\ipykernel_15224\\4157290635.py:7: SettingWithCopyWarning: \n",
      "A value is trying to be set on a copy of a slice from a DataFrame\n",
      "\n",
      "See the caveats in the documentation: https://pandas.pydata.org/pandas-docs/stable/user_guide/indexing.html#returning-a-view-versus-a-copy\n",
      "  dance[info].fillna(max, inplace = True)\n",
      "C:\\Users\\Miguel\\AppData\\Local\\Temp\\ipykernel_15224\\4157290635.py:7: SettingWithCopyWarning: \n",
      "A value is trying to be set on a copy of a slice from a DataFrame\n",
      "\n",
      "See the caveats in the documentation: https://pandas.pydata.org/pandas-docs/stable/user_guide/indexing.html#returning-a-view-versus-a-copy\n",
      "  dance[info].fillna(max, inplace = True)\n",
      "C:\\Users\\Miguel\\AppData\\Local\\Temp\\ipykernel_15224\\4157290635.py:7: SettingWithCopyWarning: \n",
      "A value is trying to be set on a copy of a slice from a DataFrame\n",
      "\n",
      "See the caveats in the documentation: https://pandas.pydata.org/pandas-docs/stable/user_guide/indexing.html#returning-a-view-versus-a-copy\n",
      "  dance[info].fillna(max, inplace = True)\n",
      "C:\\Users\\Miguel\\AppData\\Local\\Temp\\ipykernel_15224\\4157290635.py:7: SettingWithCopyWarning: \n",
      "A value is trying to be set on a copy of a slice from a DataFrame\n",
      "\n",
      "See the caveats in the documentation: https://pandas.pydata.org/pandas-docs/stable/user_guide/indexing.html#returning-a-view-versus-a-copy\n",
      "  dance[info].fillna(max, inplace = True)\n",
      "C:\\Users\\Miguel\\AppData\\Local\\Temp\\ipykernel_15224\\4157290635.py:7: SettingWithCopyWarning: \n",
      "A value is trying to be set on a copy of a slice from a DataFrame\n",
      "\n",
      "See the caveats in the documentation: https://pandas.pydata.org/pandas-docs/stable/user_guide/indexing.html#returning-a-view-versus-a-copy\n",
      "  dance[info].fillna(max, inplace = True)\n",
      "C:\\Users\\Miguel\\AppData\\Local\\Temp\\ipykernel_15224\\4157290635.py:7: SettingWithCopyWarning: \n",
      "A value is trying to be set on a copy of a slice from a DataFrame\n",
      "\n",
      "See the caveats in the documentation: https://pandas.pydata.org/pandas-docs/stable/user_guide/indexing.html#returning-a-view-versus-a-copy\n",
      "  dance[info].fillna(max, inplace = True)\n",
      "C:\\Users\\Miguel\\AppData\\Local\\Temp\\ipykernel_15224\\4157290635.py:7: SettingWithCopyWarning: \n",
      "A value is trying to be set on a copy of a slice from a DataFrame\n",
      "\n",
      "See the caveats in the documentation: https://pandas.pydata.org/pandas-docs/stable/user_guide/indexing.html#returning-a-view-versus-a-copy\n",
      "  dance[info].fillna(max, inplace = True)\n",
      "C:\\Users\\Miguel\\AppData\\Local\\Temp\\ipykernel_15224\\4157290635.py:7: SettingWithCopyWarning: \n",
      "A value is trying to be set on a copy of a slice from a DataFrame\n",
      "\n",
      "See the caveats in the documentation: https://pandas.pydata.org/pandas-docs/stable/user_guide/indexing.html#returning-a-view-versus-a-copy\n",
      "  dance[info].fillna(max, inplace = True)\n",
      "C:\\Users\\Miguel\\AppData\\Local\\Temp\\ipykernel_15224\\4157290635.py:7: SettingWithCopyWarning: \n",
      "A value is trying to be set on a copy of a slice from a DataFrame\n",
      "\n",
      "See the caveats in the documentation: https://pandas.pydata.org/pandas-docs/stable/user_guide/indexing.html#returning-a-view-versus-a-copy\n",
      "  dance[info].fillna(max, inplace = True)\n",
      "C:\\Users\\Miguel\\AppData\\Local\\Temp\\ipykernel_15224\\4157290635.py:7: SettingWithCopyWarning: \n",
      "A value is trying to be set on a copy of a slice from a DataFrame\n",
      "\n",
      "See the caveats in the documentation: https://pandas.pydata.org/pandas-docs/stable/user_guide/indexing.html#returning-a-view-versus-a-copy\n",
      "  dance[info].fillna(max, inplace = True)\n",
      "C:\\Users\\Miguel\\AppData\\Local\\Temp\\ipykernel_15224\\4157290635.py:7: SettingWithCopyWarning: \n",
      "A value is trying to be set on a copy of a slice from a DataFrame\n",
      "\n",
      "See the caveats in the documentation: https://pandas.pydata.org/pandas-docs/stable/user_guide/indexing.html#returning-a-view-versus-a-copy\n",
      "  dance[info].fillna(max, inplace = True)\n",
      "C:\\Users\\Miguel\\AppData\\Local\\Temp\\ipykernel_15224\\4157290635.py:7: SettingWithCopyWarning: \n",
      "A value is trying to be set on a copy of a slice from a DataFrame\n",
      "\n",
      "See the caveats in the documentation: https://pandas.pydata.org/pandas-docs/stable/user_guide/indexing.html#returning-a-view-versus-a-copy\n",
      "  dance[info].fillna(max, inplace = True)\n",
      "C:\\Users\\Miguel\\AppData\\Local\\Temp\\ipykernel_15224\\4157290635.py:7: SettingWithCopyWarning: \n",
      "A value is trying to be set on a copy of a slice from a DataFrame\n",
      "\n",
      "See the caveats in the documentation: https://pandas.pydata.org/pandas-docs/stable/user_guide/indexing.html#returning-a-view-versus-a-copy\n",
      "  dance[info].fillna(max, inplace = True)\n",
      "C:\\Users\\Miguel\\AppData\\Local\\Temp\\ipykernel_15224\\4157290635.py:7: SettingWithCopyWarning: \n",
      "A value is trying to be set on a copy of a slice from a DataFrame\n",
      "\n",
      "See the caveats in the documentation: https://pandas.pydata.org/pandas-docs/stable/user_guide/indexing.html#returning-a-view-versus-a-copy\n",
      "  dance[info].fillna(max, inplace = True)\n",
      "C:\\Users\\Miguel\\AppData\\Local\\Temp\\ipykernel_15224\\4157290635.py:7: SettingWithCopyWarning: \n",
      "A value is trying to be set on a copy of a slice from a DataFrame\n",
      "\n",
      "See the caveats in the documentation: https://pandas.pydata.org/pandas-docs/stable/user_guide/indexing.html#returning-a-view-versus-a-copy\n",
      "  dance[info].fillna(max, inplace = True)\n",
      "C:\\Users\\Miguel\\AppData\\Local\\Temp\\ipykernel_15224\\4157290635.py:7: SettingWithCopyWarning: \n",
      "A value is trying to be set on a copy of a slice from a DataFrame\n",
      "\n",
      "See the caveats in the documentation: https://pandas.pydata.org/pandas-docs/stable/user_guide/indexing.html#returning-a-view-versus-a-copy\n",
      "  dance[info].fillna(max, inplace = True)\n",
      "C:\\Users\\Miguel\\AppData\\Local\\Temp\\ipykernel_15224\\4157290635.py:7: SettingWithCopyWarning: \n",
      "A value is trying to be set on a copy of a slice from a DataFrame\n",
      "\n",
      "See the caveats in the documentation: https://pandas.pydata.org/pandas-docs/stable/user_guide/indexing.html#returning-a-view-versus-a-copy\n",
      "  dance[info].fillna(max, inplace = True)\n",
      "C:\\Users\\Miguel\\AppData\\Local\\Temp\\ipykernel_15224\\4157290635.py:7: SettingWithCopyWarning: \n",
      "A value is trying to be set on a copy of a slice from a DataFrame\n",
      "\n",
      "See the caveats in the documentation: https://pandas.pydata.org/pandas-docs/stable/user_guide/indexing.html#returning-a-view-versus-a-copy\n",
      "  dance[info].fillna(max, inplace = True)\n",
      "C:\\Users\\Miguel\\AppData\\Local\\Temp\\ipykernel_15224\\4157290635.py:7: SettingWithCopyWarning: \n",
      "A value is trying to be set on a copy of a slice from a DataFrame\n",
      "\n",
      "See the caveats in the documentation: https://pandas.pydata.org/pandas-docs/stable/user_guide/indexing.html#returning-a-view-versus-a-copy\n",
      "  dance[info].fillna(max, inplace = True)\n",
      "C:\\Users\\Miguel\\AppData\\Local\\Temp\\ipykernel_15224\\4157290635.py:7: SettingWithCopyWarning: \n",
      "A value is trying to be set on a copy of a slice from a DataFrame\n",
      "\n",
      "See the caveats in the documentation: https://pandas.pydata.org/pandas-docs/stable/user_guide/indexing.html#returning-a-view-versus-a-copy\n",
      "  dance[info].fillna(max, inplace = True)\n",
      "C:\\Users\\Miguel\\AppData\\Local\\Temp\\ipykernel_15224\\4157290635.py:7: SettingWithCopyWarning: \n",
      "A value is trying to be set on a copy of a slice from a DataFrame\n",
      "\n",
      "See the caveats in the documentation: https://pandas.pydata.org/pandas-docs/stable/user_guide/indexing.html#returning-a-view-versus-a-copy\n",
      "  dance[info].fillna(max, inplace = True)\n",
      "C:\\Users\\Miguel\\AppData\\Local\\Temp\\ipykernel_15224\\4157290635.py:7: SettingWithCopyWarning: \n",
      "A value is trying to be set on a copy of a slice from a DataFrame\n",
      "\n",
      "See the caveats in the documentation: https://pandas.pydata.org/pandas-docs/stable/user_guide/indexing.html#returning-a-view-versus-a-copy\n",
      "  dance[info].fillna(max, inplace = True)\n",
      "C:\\Users\\Miguel\\AppData\\Local\\Temp\\ipykernel_15224\\4157290635.py:7: SettingWithCopyWarning: \n",
      "A value is trying to be set on a copy of a slice from a DataFrame\n",
      "\n",
      "See the caveats in the documentation: https://pandas.pydata.org/pandas-docs/stable/user_guide/indexing.html#returning-a-view-versus-a-copy\n",
      "  dance[info].fillna(max, inplace = True)\n",
      "C:\\Users\\Miguel\\AppData\\Local\\Temp\\ipykernel_15224\\4157290635.py:7: SettingWithCopyWarning: \n",
      "A value is trying to be set on a copy of a slice from a DataFrame\n",
      "\n",
      "See the caveats in the documentation: https://pandas.pydata.org/pandas-docs/stable/user_guide/indexing.html#returning-a-view-versus-a-copy\n",
      "  dance[info].fillna(max, inplace = True)\n",
      "C:\\Users\\Miguel\\AppData\\Local\\Temp\\ipykernel_15224\\4157290635.py:7: SettingWithCopyWarning: \n",
      "A value is trying to be set on a copy of a slice from a DataFrame\n",
      "\n",
      "See the caveats in the documentation: https://pandas.pydata.org/pandas-docs/stable/user_guide/indexing.html#returning-a-view-versus-a-copy\n",
      "  dance[info].fillna(max, inplace = True)\n",
      "C:\\Users\\Miguel\\AppData\\Local\\Temp\\ipykernel_15224\\4157290635.py:7: SettingWithCopyWarning: \n",
      "A value is trying to be set on a copy of a slice from a DataFrame\n",
      "\n",
      "See the caveats in the documentation: https://pandas.pydata.org/pandas-docs/stable/user_guide/indexing.html#returning-a-view-versus-a-copy\n",
      "  dance[info].fillna(max, inplace = True)\n",
      "C:\\Users\\Miguel\\AppData\\Local\\Temp\\ipykernel_15224\\4157290635.py:7: SettingWithCopyWarning: \n",
      "A value is trying to be set on a copy of a slice from a DataFrame\n",
      "\n",
      "See the caveats in the documentation: https://pandas.pydata.org/pandas-docs/stable/user_guide/indexing.html#returning-a-view-versus-a-copy\n",
      "  dance[info].fillna(max, inplace = True)\n",
      "C:\\Users\\Miguel\\AppData\\Local\\Temp\\ipykernel_15224\\4157290635.py:7: SettingWithCopyWarning: \n",
      "A value is trying to be set on a copy of a slice from a DataFrame\n",
      "\n",
      "See the caveats in the documentation: https://pandas.pydata.org/pandas-docs/stable/user_guide/indexing.html#returning-a-view-versus-a-copy\n",
      "  dance[info].fillna(max, inplace = True)\n",
      "C:\\Users\\Miguel\\AppData\\Local\\Temp\\ipykernel_15224\\4157290635.py:7: SettingWithCopyWarning: \n",
      "A value is trying to be set on a copy of a slice from a DataFrame\n",
      "\n",
      "See the caveats in the documentation: https://pandas.pydata.org/pandas-docs/stable/user_guide/indexing.html#returning-a-view-versus-a-copy\n",
      "  dance[info].fillna(max, inplace = True)\n",
      "C:\\Users\\Miguel\\AppData\\Local\\Temp\\ipykernel_15224\\4157290635.py:7: SettingWithCopyWarning: \n",
      "A value is trying to be set on a copy of a slice from a DataFrame\n",
      "\n",
      "See the caveats in the documentation: https://pandas.pydata.org/pandas-docs/stable/user_guide/indexing.html#returning-a-view-versus-a-copy\n",
      "  dance[info].fillna(max, inplace = True)\n",
      "C:\\Users\\Miguel\\AppData\\Local\\Temp\\ipykernel_15224\\4157290635.py:7: SettingWithCopyWarning: \n",
      "A value is trying to be set on a copy of a slice from a DataFrame\n",
      "\n",
      "See the caveats in the documentation: https://pandas.pydata.org/pandas-docs/stable/user_guide/indexing.html#returning-a-view-versus-a-copy\n",
      "  dance[info].fillna(max, inplace = True)\n",
      "C:\\Users\\Miguel\\AppData\\Local\\Temp\\ipykernel_15224\\4157290635.py:7: SettingWithCopyWarning: \n",
      "A value is trying to be set on a copy of a slice from a DataFrame\n",
      "\n",
      "See the caveats in the documentation: https://pandas.pydata.org/pandas-docs/stable/user_guide/indexing.html#returning-a-view-versus-a-copy\n",
      "  dance[info].fillna(max, inplace = True)\n",
      "C:\\Users\\Miguel\\AppData\\Local\\Temp\\ipykernel_15224\\4157290635.py:7: SettingWithCopyWarning: \n",
      "A value is trying to be set on a copy of a slice from a DataFrame\n",
      "\n",
      "See the caveats in the documentation: https://pandas.pydata.org/pandas-docs/stable/user_guide/indexing.html#returning-a-view-versus-a-copy\n",
      "  dance[info].fillna(max, inplace = True)\n",
      "C:\\Users\\Miguel\\AppData\\Local\\Temp\\ipykernel_15224\\4157290635.py:7: SettingWithCopyWarning: \n",
      "A value is trying to be set on a copy of a slice from a DataFrame\n",
      "\n",
      "See the caveats in the documentation: https://pandas.pydata.org/pandas-docs/stable/user_guide/indexing.html#returning-a-view-versus-a-copy\n",
      "  dance[info].fillna(max, inplace = True)\n",
      "C:\\Users\\Miguel\\AppData\\Local\\Temp\\ipykernel_15224\\4157290635.py:7: SettingWithCopyWarning: \n",
      "A value is trying to be set on a copy of a slice from a DataFrame\n",
      "\n",
      "See the caveats in the documentation: https://pandas.pydata.org/pandas-docs/stable/user_guide/indexing.html#returning-a-view-versus-a-copy\n",
      "  dance[info].fillna(max, inplace = True)\n",
      "C:\\Users\\Miguel\\AppData\\Local\\Temp\\ipykernel_15224\\4157290635.py:7: SettingWithCopyWarning: \n",
      "A value is trying to be set on a copy of a slice from a DataFrame\n",
      "\n",
      "See the caveats in the documentation: https://pandas.pydata.org/pandas-docs/stable/user_guide/indexing.html#returning-a-view-versus-a-copy\n",
      "  dance[info].fillna(max, inplace = True)\n",
      "C:\\Users\\Miguel\\AppData\\Local\\Temp\\ipykernel_15224\\4157290635.py:7: SettingWithCopyWarning: \n",
      "A value is trying to be set on a copy of a slice from a DataFrame\n",
      "\n",
      "See the caveats in the documentation: https://pandas.pydata.org/pandas-docs/stable/user_guide/indexing.html#returning-a-view-versus-a-copy\n",
      "  dance[info].fillna(max, inplace = True)\n",
      "C:\\Users\\Miguel\\AppData\\Local\\Temp\\ipykernel_15224\\4157290635.py:7: SettingWithCopyWarning: \n",
      "A value is trying to be set on a copy of a slice from a DataFrame\n",
      "\n",
      "See the caveats in the documentation: https://pandas.pydata.org/pandas-docs/stable/user_guide/indexing.html#returning-a-view-versus-a-copy\n",
      "  dance[info].fillna(max, inplace = True)\n",
      "C:\\Users\\Miguel\\AppData\\Local\\Temp\\ipykernel_15224\\4157290635.py:7: SettingWithCopyWarning: \n",
      "A value is trying to be set on a copy of a slice from a DataFrame\n",
      "\n",
      "See the caveats in the documentation: https://pandas.pydata.org/pandas-docs/stable/user_guide/indexing.html#returning-a-view-versus-a-copy\n",
      "  dance[info].fillna(max, inplace = True)\n",
      "C:\\Users\\Miguel\\AppData\\Local\\Temp\\ipykernel_15224\\4157290635.py:7: SettingWithCopyWarning: \n",
      "A value is trying to be set on a copy of a slice from a DataFrame\n",
      "\n",
      "See the caveats in the documentation: https://pandas.pydata.org/pandas-docs/stable/user_guide/indexing.html#returning-a-view-versus-a-copy\n",
      "  dance[info].fillna(max, inplace = True)\n",
      "C:\\Users\\Miguel\\AppData\\Local\\Temp\\ipykernel_15224\\4157290635.py:7: SettingWithCopyWarning: \n",
      "A value is trying to be set on a copy of a slice from a DataFrame\n",
      "\n",
      "See the caveats in the documentation: https://pandas.pydata.org/pandas-docs/stable/user_guide/indexing.html#returning-a-view-versus-a-copy\n",
      "  dance[info].fillna(max, inplace = True)\n",
      "C:\\Users\\Miguel\\AppData\\Local\\Temp\\ipykernel_15224\\4157290635.py:7: SettingWithCopyWarning: \n",
      "A value is trying to be set on a copy of a slice from a DataFrame\n",
      "\n",
      "See the caveats in the documentation: https://pandas.pydata.org/pandas-docs/stable/user_guide/indexing.html#returning-a-view-versus-a-copy\n",
      "  dance[info].fillna(max, inplace = True)\n",
      "C:\\Users\\Miguel\\AppData\\Local\\Temp\\ipykernel_15224\\4157290635.py:7: SettingWithCopyWarning: \n",
      "A value is trying to be set on a copy of a slice from a DataFrame\n",
      "\n",
      "See the caveats in the documentation: https://pandas.pydata.org/pandas-docs/stable/user_guide/indexing.html#returning-a-view-versus-a-copy\n",
      "  dance[info].fillna(max, inplace = True)\n",
      "C:\\Users\\Miguel\\AppData\\Local\\Temp\\ipykernel_15224\\4157290635.py:7: SettingWithCopyWarning: \n",
      "A value is trying to be set on a copy of a slice from a DataFrame\n",
      "\n",
      "See the caveats in the documentation: https://pandas.pydata.org/pandas-docs/stable/user_guide/indexing.html#returning-a-view-versus-a-copy\n",
      "  dance[info].fillna(max, inplace = True)\n",
      "C:\\Users\\Miguel\\AppData\\Local\\Temp\\ipykernel_15224\\4157290635.py:7: SettingWithCopyWarning: \n",
      "A value is trying to be set on a copy of a slice from a DataFrame\n",
      "\n",
      "See the caveats in the documentation: https://pandas.pydata.org/pandas-docs/stable/user_guide/indexing.html#returning-a-view-versus-a-copy\n",
      "  dance[info].fillna(max, inplace = True)\n",
      "C:\\Users\\Miguel\\AppData\\Local\\Temp\\ipykernel_15224\\4157290635.py:7: SettingWithCopyWarning: \n",
      "A value is trying to be set on a copy of a slice from a DataFrame\n",
      "\n",
      "See the caveats in the documentation: https://pandas.pydata.org/pandas-docs/stable/user_guide/indexing.html#returning-a-view-versus-a-copy\n",
      "  dance[info].fillna(max, inplace = True)\n",
      "C:\\Users\\Miguel\\AppData\\Local\\Temp\\ipykernel_15224\\4157290635.py:7: SettingWithCopyWarning: \n",
      "A value is trying to be set on a copy of a slice from a DataFrame\n",
      "\n",
      "See the caveats in the documentation: https://pandas.pydata.org/pandas-docs/stable/user_guide/indexing.html#returning-a-view-versus-a-copy\n",
      "  dance[info].fillna(max, inplace = True)\n",
      "C:\\Users\\Miguel\\AppData\\Local\\Temp\\ipykernel_15224\\4157290635.py:7: SettingWithCopyWarning: \n",
      "A value is trying to be set on a copy of a slice from a DataFrame\n",
      "\n",
      "See the caveats in the documentation: https://pandas.pydata.org/pandas-docs/stable/user_guide/indexing.html#returning-a-view-versus-a-copy\n",
      "  dance[info].fillna(max, inplace = True)\n",
      "C:\\Users\\Miguel\\AppData\\Local\\Temp\\ipykernel_15224\\4157290635.py:7: SettingWithCopyWarning: \n",
      "A value is trying to be set on a copy of a slice from a DataFrame\n",
      "\n",
      "See the caveats in the documentation: https://pandas.pydata.org/pandas-docs/stable/user_guide/indexing.html#returning-a-view-versus-a-copy\n",
      "  dance[info].fillna(max, inplace = True)\n",
      "C:\\Users\\Miguel\\AppData\\Local\\Temp\\ipykernel_15224\\4157290635.py:7: SettingWithCopyWarning: \n",
      "A value is trying to be set on a copy of a slice from a DataFrame\n",
      "\n",
      "See the caveats in the documentation: https://pandas.pydata.org/pandas-docs/stable/user_guide/indexing.html#returning-a-view-versus-a-copy\n",
      "  dance[info].fillna(max, inplace = True)\n",
      "C:\\Users\\Miguel\\AppData\\Local\\Temp\\ipykernel_15224\\4157290635.py:7: SettingWithCopyWarning: \n",
      "A value is trying to be set on a copy of a slice from a DataFrame\n",
      "\n",
      "See the caveats in the documentation: https://pandas.pydata.org/pandas-docs/stable/user_guide/indexing.html#returning-a-view-versus-a-copy\n",
      "  dance[info].fillna(max, inplace = True)\n",
      "C:\\Users\\Miguel\\AppData\\Local\\Temp\\ipykernel_15224\\4157290635.py:7: SettingWithCopyWarning: \n",
      "A value is trying to be set on a copy of a slice from a DataFrame\n",
      "\n",
      "See the caveats in the documentation: https://pandas.pydata.org/pandas-docs/stable/user_guide/indexing.html#returning-a-view-versus-a-copy\n",
      "  dance[info].fillna(max, inplace = True)\n",
      "C:\\Users\\Miguel\\AppData\\Local\\Temp\\ipykernel_15224\\4157290635.py:7: SettingWithCopyWarning: \n",
      "A value is trying to be set on a copy of a slice from a DataFrame\n",
      "\n",
      "See the caveats in the documentation: https://pandas.pydata.org/pandas-docs/stable/user_guide/indexing.html#returning-a-view-versus-a-copy\n",
      "  dance[info].fillna(max, inplace = True)\n",
      "C:\\Users\\Miguel\\AppData\\Local\\Temp\\ipykernel_15224\\4157290635.py:7: SettingWithCopyWarning: \n",
      "A value is trying to be set on a copy of a slice from a DataFrame\n",
      "\n",
      "See the caveats in the documentation: https://pandas.pydata.org/pandas-docs/stable/user_guide/indexing.html#returning-a-view-versus-a-copy\n",
      "  dance[info].fillna(max, inplace = True)\n",
      "C:\\Users\\Miguel\\AppData\\Local\\Temp\\ipykernel_15224\\4157290635.py:7: SettingWithCopyWarning: \n",
      "A value is trying to be set on a copy of a slice from a DataFrame\n",
      "\n",
      "See the caveats in the documentation: https://pandas.pydata.org/pandas-docs/stable/user_guide/indexing.html#returning-a-view-versus-a-copy\n",
      "  dance[info].fillna(max, inplace = True)\n",
      "C:\\Users\\Miguel\\AppData\\Local\\Temp\\ipykernel_15224\\4157290635.py:7: SettingWithCopyWarning: \n",
      "A value is trying to be set on a copy of a slice from a DataFrame\n",
      "\n",
      "See the caveats in the documentation: https://pandas.pydata.org/pandas-docs/stable/user_guide/indexing.html#returning-a-view-versus-a-copy\n",
      "  dance[info].fillna(max, inplace = True)\n",
      "C:\\Users\\Miguel\\AppData\\Local\\Temp\\ipykernel_15224\\4157290635.py:7: SettingWithCopyWarning: \n",
      "A value is trying to be set on a copy of a slice from a DataFrame\n",
      "\n",
      "See the caveats in the documentation: https://pandas.pydata.org/pandas-docs/stable/user_guide/indexing.html#returning-a-view-versus-a-copy\n",
      "  dance[info].fillna(max, inplace = True)\n",
      "C:\\Users\\Miguel\\AppData\\Local\\Temp\\ipykernel_15224\\4157290635.py:7: SettingWithCopyWarning: \n",
      "A value is trying to be set on a copy of a slice from a DataFrame\n",
      "\n",
      "See the caveats in the documentation: https://pandas.pydata.org/pandas-docs/stable/user_guide/indexing.html#returning-a-view-versus-a-copy\n",
      "  dance[info].fillna(max, inplace = True)\n",
      "C:\\Users\\Miguel\\AppData\\Local\\Temp\\ipykernel_15224\\4157290635.py:7: SettingWithCopyWarning: \n",
      "A value is trying to be set on a copy of a slice from a DataFrame\n",
      "\n",
      "See the caveats in the documentation: https://pandas.pydata.org/pandas-docs/stable/user_guide/indexing.html#returning-a-view-versus-a-copy\n",
      "  dance[info].fillna(max, inplace = True)\n",
      "C:\\Users\\Miguel\\AppData\\Local\\Temp\\ipykernel_15224\\4157290635.py:7: SettingWithCopyWarning: \n",
      "A value is trying to be set on a copy of a slice from a DataFrame\n",
      "\n",
      "See the caveats in the documentation: https://pandas.pydata.org/pandas-docs/stable/user_guide/indexing.html#returning-a-view-versus-a-copy\n",
      "  dance[info].fillna(max, inplace = True)\n"
     ]
    }
   ],
   "source": [
    "newData = pd.DataFrame(columns=data.columns)\n",
    "for i in danceabilityUnique:\n",
    "    dance = data[data['Danceability'] == i]\n",
    "\n",
    "    for info in dataFill:\n",
    "        max = fillOptions(dance[info], option = 'max')\n",
    "        dance[info].fillna(max, inplace = True)\n",
    "\n",
    "    newData = newData.append(dance)\n"
   ]
  },
  {
   "cell_type": "code",
   "execution_count": 150,
   "metadata": {},
   "outputs": [],
   "source": [
    "dataArtist = newData['Artist'].unique()\n",
    "dataArtistMarshmello = newData[newData['Artist'] == 'Marshmello']"
   ]
  },
  {
   "cell_type": "code",
   "execution_count": 152,
   "metadata": {},
   "outputs": [
    {
     "data": {
      "text/plain": [
       "array([nan, 'Yeti Beats', \"Finneas O'Connell\", 'Louis Bell', 'Juicy J',\n",
       "       'Mike Dean', 'Terrace Martin', 'Noah \"40\" Shebib', 'Ricky Reed',\n",
       "       'Ludwig Göransson', 'J. Cole'], dtype=object)"
      ]
     },
     "execution_count": 152,
     "metadata": {},
     "output_type": "execute_result"
    }
   ],
   "source": [
    "dataArtistMarshmello['Composer'].unique()"
   ]
  },
  {
   "cell_type": "code",
   "execution_count": 39,
   "metadata": {},
   "outputs": [],
   "source": [
    "filteredDataByDanceability = data[data['Danceability'] == 9]"
   ]
  },
  {
   "cell_type": "code",
   "execution_count": 95,
   "metadata": {},
   "outputs": [
    {
     "name": "stderr",
     "output_type": "stream",
     "text": [
      "C:\\Users\\Miguel\\AppData\\Local\\Temp\\ipykernel_15224\\889643387.py:4: SettingWithCopyWarning: \n",
      "A value is trying to be set on a copy of a slice from a DataFrame\n",
      "\n",
      "See the caveats in the documentation: https://pandas.pydata.org/pandas-docs/stable/user_guide/indexing.html#returning-a-view-versus-a-copy\n",
      "  filteredDataByDanceability['Energy'].fillna(majority_value, inplace=True)\n"
     ]
    }
   ],
   "source": [
    "majority_value = filteredDataByDanceability['Energy'].value_counts().idxmax()\n",
    "majority_value\n",
    "# # Replace NaN values with the majority value\n",
    "filteredDataByDanceability['Energy'].fillna(majority_value, inplace=True)"
   ]
  },
  {
   "cell_type": "code",
   "execution_count": 101,
   "metadata": {},
   "outputs": [
    {
     "data": {
      "text/plain": [
       "Danceability          0\n",
       "Energy                0\n",
       "Key                 230\n",
       "Loudness            256\n",
       "Speechiness         234\n",
       "Acousticness        230\n",
       "Instrumentalness    247\n",
       "Liveness            221\n",
       "Valence             247\n",
       "Tempo               235\n",
       "Duration_ms         263\n",
       "Views               242\n",
       "Likes               243\n",
       "Stream              234\n",
       "Album_type          248\n",
       "Licensed              0\n",
       "official_video        0\n",
       "id                    0\n",
       "Track               232\n",
       "Album               235\n",
       "Uri                 238\n",
       "Url_spotify         258\n",
       "Url_youtube         230\n",
       "Comments            227\n",
       "Description         235\n",
       "Title               249\n",
       "Channel             256\n",
       "Composer            241\n",
       "Artist              242\n",
       "dtype: int64"
      ]
     },
     "execution_count": 101,
     "metadata": {},
     "output_type": "execute_result"
    }
   ],
   "source": [
    "filteredDataByDanceability.isnull().sum()"
   ]
  },
  {
   "cell_type": "code",
   "execution_count": 45,
   "metadata": {},
   "outputs": [
    {
     "data": {
      "text/plain": [
       "0.267089984"
      ]
     },
     "execution_count": 45,
     "metadata": {},
     "output_type": "execute_result"
    }
   ],
   "source": [
    "filteredDataByDanceability['Energy'].median()"
   ]
  },
  {
   "cell_type": "code",
   "execution_count": 46,
   "metadata": {},
   "outputs": [
    {
     "data": {
      "text/plain": [
       "-6.1555"
      ]
     },
     "execution_count": 46,
     "metadata": {},
     "output_type": "execute_result"
    }
   ],
   "source": [
    "filteredDataByDanceability['Loudness'].median()"
   ]
  },
  {
   "cell_type": "code",
   "execution_count": 47,
   "metadata": {},
   "outputs": [
    {
     "data": {
      "text/plain": [
       "-6.553415593705293"
      ]
     },
     "execution_count": 47,
     "metadata": {},
     "output_type": "execute_result"
    }
   ],
   "source": [
    "filteredDataByDanceability['Loudness'].mean()"
   ]
  },
  {
   "cell_type": "code",
   "execution_count": 48,
   "metadata": {},
   "outputs": [
    {
     "data": {
      "text/plain": [
       "-5.522"
      ]
     },
     "execution_count": 48,
     "metadata": {},
     "output_type": "execute_result"
    }
   ],
   "source": [
    "filteredDataByDanceability['Loudness'].value_counts().idxmax()"
   ]
  },
  {
   "cell_type": "code",
   "execution_count": 154,
   "metadata": {},
   "outputs": [
    {
     "data": {
      "text/plain": [
       "array([ 3.,  7.,  6., nan,  5., 10.,  1.,  2.,  0.,  4.,  8.,  9.])"
      ]
     },
     "execution_count": 154,
     "metadata": {},
     "output_type": "execute_result"
    }
   ],
   "source": [
    "data['Key'].unique()"
   ]
  },
  {
   "cell_type": "code",
   "execution_count": 155,
   "metadata": {},
   "outputs": [
    {
     "data": {
      "text/plain": [
       "array(['album', nan, 'single', 'compilation'], dtype=object)"
      ]
     },
     "execution_count": 155,
     "metadata": {},
     "output_type": "execute_result"
    }
   ],
   "source": [
    "data['Album_type'].unique()"
   ]
  },
  {
   "cell_type": "code",
   "execution_count": 157,
   "metadata": {},
   "outputs": [
    {
     "data": {
      "text/plain": [
       "array([nan, \"Finneas O'Connell\", 'Louis Bell', 'Juicy J',\n",
       "       'Noah \"40\" Shebib', 'Mike Dean', 'Yeti Beats', 'Terrace Martin',\n",
       "       'Ludwig Göransson', 'Ricky Reed', 'J. Cole'], dtype=object)"
      ]
     },
     "execution_count": 157,
     "metadata": {},
     "output_type": "execute_result"
    }
   ],
   "source": [
    "data['Composer'].unique()"
   ]
  },
  {
   "cell_type": "code",
   "execution_count": 158,
   "metadata": {},
   "outputs": [
    {
     "data": {
      "text/plain": [
       "array(['Marshmello', 'Bon Iver', 'Kamasi Washington', 'Drake',\n",
       "       'Alicia Keys', 'Major Lazer', 'J. Cole', 'Flume', 'Tame Impala',\n",
       "       nan, 'Chance the Rapper', 'Kanye West', 'deadmau5', 'Rihanna',\n",
       "       'Dua Lipa', 'The Chainsmokers', 'Billie Eilish', 'Soccer Mommy',\n",
       "       'Sufjan Stevens', 'Parquet Courts', 'Phoebe Bridgers',\n",
       "       'Mac DeMarco', 'Disclosure', 'Tyler, The Creator', 'Black Midi',\n",
       "       'Charli XCX', 'Julien Baker', 'Grimes', 'Pharrell Williams',\n",
       "       'Khruangbin', 'Alt-J', 'The 1975', 'Vampire Weekend', 'Halsey',\n",
       "       'Big Thief', 'Justin Bieber', 'Robyn', 'Shawn Mendes', 'Mitski',\n",
       "       'Anderson .Paak', 'Angel Olsen', 'Fontaines D.C.', 'Justice',\n",
       "       'Skrillex', 'Swedish House Mafia', 'Kurt Vile', 'Travis Scott',\n",
       "       'The Weeknd', 'Avicii', 'SZA', 'FKA twigs', 'Jay-Z', 'Lizzo',\n",
       "       'Cardi B', 'Moses Sumney', 'Carly Rae Jepsen', 'Foals',\n",
       "       'David Guetta', 'Bruno Mars', 'King Gizzard & The Lizard Wizard',\n",
       "       'Lorde', 'St. Vincent', 'Lana Del Rey', 'Martin Garrix',\n",
       "       'A$AP Rocky', 'Ed Sheeran', 'Childish Gambino', 'BadBadNotGood',\n",
       "       'Taylor Swift', 'Radiohead', 'Daft Punk', 'Harry Styles', 'Usher',\n",
       "       'Tove Lo', 'Chris Brown', 'Post Malone', 'Nicki Minaj', 'The xx',\n",
       "       'Arcade Fire', 'Frank Ocean', 'The National', 'Arctic Monkeys',\n",
       "       'Zedd', 'LCD Soundsystem', 'Calvin Harris', 'Kendrick Lamar',\n",
       "       'Ariana Grande', 'Thundercat', 'James Blake',\n",
       "       'Unknown Mortal Orchestra', 'Kaytranada', 'Car Seat Headrest',\n",
       "       'John Legend', 'Ty Segall', 'Doja Cat', 'Megan Thee Stallion',\n",
       "       'Father John Misty'], dtype=object)"
      ]
     },
     "execution_count": 158,
     "metadata": {},
     "output_type": "execute_result"
    }
   ],
   "source": [
    "data['Artist'].unique()"
   ]
  },
  {
   "cell_type": "code",
   "execution_count": 159,
   "metadata": {},
   "outputs": [
    {
     "data": {
      "text/plain": [
       "97"
      ]
     },
     "execution_count": 159,
     "metadata": {},
     "output_type": "execute_result"
    }
   ],
   "source": [
    "len(data['Artist'].unique())"
   ]
  },
  {
   "cell_type": "code",
   "execution_count": null,
   "metadata": {},
   "outputs": [],
   "source": []
  }
 ],
 "metadata": {
  "kernelspec": {
   "display_name": "base",
   "language": "python",
   "name": "python3"
  },
  "language_info": {
   "codemirror_mode": {
    "name": "ipython",
    "version": 3
   },
   "file_extension": ".py",
   "mimetype": "text/x-python",
   "name": "python",
   "nbconvert_exporter": "python",
   "pygments_lexer": "ipython3",
   "version": "3.9.13"
  },
  "orig_nbformat": 4
 },
 "nbformat": 4,
 "nbformat_minor": 2
}
