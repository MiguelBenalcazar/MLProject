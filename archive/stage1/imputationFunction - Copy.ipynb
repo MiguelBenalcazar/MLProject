{
 "cells": [
  {
   "cell_type": "code",
   "execution_count": 1,
   "metadata": {},
   "outputs": [],
   "source": [
    "import pandas as pd\n",
    "from itertools import product\n",
    "from sklearn.preprocessing import OneHotEncoder, LabelEncoder, StandardScaler\n",
    "pd.set_option('display.max_columns', None)"
   ]
  },
  {
   "cell_type": "code",
   "execution_count": 2,
   "metadata": {},
   "outputs": [],
   "source": [
    "original = pd.read_csv('./html2023-spring-final-project/train.csv')\n"
   ]
  },
  {
   "cell_type": "code",
   "execution_count": 3,
   "metadata": {},
   "outputs": [],
   "source": [
    "training_Y = original['Danceability']\n",
    "original.drop(['Danceability'], axis=1, inplace=True) "
   ]
  },
  {
   "cell_type": "code",
   "execution_count": 4,
   "metadata": {},
   "outputs": [],
   "source": [
    "def fillOptions(data, option = 'max'):\n",
    "    if data.isna().sum() != len(data):\n",
    "        if option == 'max':\n",
    "            return data.value_counts().idxmax()\n",
    "        elif option == 'mean':\n",
    "            return data.mean()\n",
    "        elif option == 'median':\n",
    "            return data.median()"
   ]
  },
  {
   "cell_type": "code",
   "execution_count": 5,
   "metadata": {},
   "outputs": [],
   "source": [
    "def verifyID(original, newData):\n",
    "    noInNewData = original[~original['id'].isin(newData['id'])]\n",
    "    return pd.concat([newData, noInNewData], ignore_index=True)   "
   ]
  },
  {
   "cell_type": "code",
   "execution_count": 6,
   "metadata": {},
   "outputs": [],
   "source": [
    "def filterArtistComposerDance(data, nameColumnFill):\n",
    "\n",
    "    listArtist = data['Artist'].unique()\n",
    "    listComposer = data['Composer'].unique()\n",
    "    listDance = data['Danceability'].unique()\n",
    "    filter = list(product(listArtist, listComposer, listDance))\n",
    "\n",
    "    newData = pd.DataFrame(columns=data.columns)\n",
    "\n",
    "    for i in filter:\n",
    "        artist, composer, dance = i[0], i[1], i[2]\n",
    "        filterData = data[(data['Artist'] == artist) & (data['Composer'] == composer) & (data['Danceability'] == dance)]\n",
    "        if len(filterData) != 0:\n",
    "            # Fill column Name\n",
    "            for nameColumn in nameColumnFill:\n",
    "                fillInfo = fillOptions(filterData[nameColumn], option = 'max')\n",
    "                if fillInfo != None:\n",
    "                    filterData.loc[:,nameColumn].fillna(fillInfo, inplace=True)\n",
    "\n",
    "            newData = pd.concat([newData, filterData], ignore_index=True)\n",
    "    return newData"
   ]
  },
  {
   "cell_type": "code",
   "execution_count": 7,
   "metadata": {},
   "outputs": [],
   "source": [
    "def filterArtisDaceability(data, nameColumnFill):\n",
    "    \n",
    "    listArtist = data['Artist'].unique()\n",
    "    listDance = data['Danceability'].unique()\n",
    "    filter = list(product(listArtist, listDance))\n",
    "\n",
    "\n",
    "    newData = pd.DataFrame(columns=data.columns)\n",
    "\n",
    "    for i in filter:\n",
    "        artist, dance = i[0], i[1]\n",
    "        filterData = data[(data['Artist'] == artist)  & (data['Danceability'] == dance)]\n",
    "    \n",
    "    \n",
    "        if len(filterData) != 0:\n",
    "            # Fill column Name\n",
    "            for nameColumn in nameColumnFill:\n",
    "                fillInfo = fillOptions(filterData[nameColumn], option = 'max')\n",
    "                if fillInfo != None:\n",
    "                    filterData.loc[:,nameColumn].fillna(fillInfo, inplace=True)\n",
    "\n",
    "            newData = pd.concat([newData, filterData], ignore_index=True)\n",
    "            # newData = newData.append(filterData)\n",
    "    return newData"
   ]
  },
  {
   "cell_type": "code",
   "execution_count": 8,
   "metadata": {},
   "outputs": [],
   "source": [
    "def filterDanceability(data, nameColumnFill):\n",
    "    listDance = data['Danceability'].unique()\n",
    "    filter = listDance\n",
    "\n",
    "\n",
    "    newData = pd.DataFrame(columns=data.columns)\n",
    "\n",
    "    for i in filter:\n",
    "        dance = i\n",
    "        filterData = data[ (data['Danceability'] == dance)]\n",
    "    \n",
    "    \n",
    "        if len(filterData) != 0:\n",
    "            # Fill column Name\n",
    "            for nameColumn in nameColumnFill:\n",
    "                fillInfo = fillOptions(filterData[nameColumn], option = 'max')\n",
    "                if fillInfo != None:\n",
    "                    filterData.loc[:,nameColumn].fillna(fillInfo, inplace=True)\n",
    "\n",
    "            newData = pd.concat([newData, filterData], ignore_index=True)\n",
    "\n",
    "    return newData"
   ]
  },
  {
   "cell_type": "code",
   "execution_count": 9,
   "metadata": {},
   "outputs": [],
   "source": [
    "def dataPreprocessing(original):\n",
    "    \n",
    "    pd.options.mode.chained_assignment = None\n",
    "\n",
    "    data = original.copy()\n",
    "\n",
    "    nameColumnFill = ['Energy', 'Key', 'Loudness', 'Speechiness', 'Acousticness', 'Instrumentalness', 'Liveness', 'Valence', 'Tempo', 'Duration_ms', 'Duration_ms', 'Views', 'Likes', \"Stream\" , \"Comments\"]\n",
    "\n",
    "    newData = filterArtistComposerDance(data, nameColumnFill)\n",
    "    newData = verifyID(original, newData)\n",
    "\n",
    "    data = newData.copy()\n",
    "\n",
    "    newData = filterArtisDaceability(data, nameColumnFill)\n",
    "    newData = verifyID(original, newData)\n",
    "\n",
    "    data = newData.copy()\n",
    "\n",
    "    newData = filterDanceability(data, nameColumnFill)\n",
    "    newData = verifyID(original, newData)\n",
    "\n",
    "    data = newData.copy()\n",
    "\n",
    "    # License and official_video\n",
    "    data['Licensed'].fillna(data['official_video'], inplace=True)\n",
    "    data['Licensed'].fillna(False, inplace=True)\n",
    "\n",
    "    data['official_video'].fillna(data['Licensed'], inplace=True)\n",
    "    data['official_video'].fillna(False, inplace=True)\n",
    "\n",
    "    data['official_video'].fillna(False, inplace=True)\n",
    "    data['Licensed'].fillna(False, inplace=True)\n",
    "\n",
    "    # data['Licensed'].replace({True: 1, False: 0})\n",
    "    # data['official_video'].replace({True: 1, False: 0})\n",
    "\n",
    "    # Create new class = 'Unknown'\n",
    "    data['Composer'].fillna(\"Unknown\", inplace=True)\n",
    "    data['Artist'].fillna(\"Unknown\", inplace=True)\n",
    "    data['Album_type'].fillna(\"Unknown\", inplace=True)\n",
    "\n",
    "    # DELETE Track, Album, Uri, Url_spotify, Url_youtube, Description, Title, Channel, id, Comments\n",
    "    data.drop(['Track', 'Album', 'Uri', 'Url_spotify', 'Url_youtube', 'Description', 'Title', 'Channel', 'id'], axis=1, inplace=True)\n",
    "\n",
    "    #Transform type key to use as class\n",
    "    data['Key'] = data['Key'].astype(int)\n",
    "    data['Key'] = data['Key'].astype(str)\n",
    "\n",
    "    pd.options.mode.chained_assignment = 'warn'\n",
    "\n",
    "    return data\n",
    "    \n"
   ]
  },
  {
   "cell_type": "code",
   "execution_count": 10,
   "metadata": {},
   "outputs": [],
   "source": [
    "def convertEncoderPD(data, prefix = 'key'):\n",
    "    titleKeys = []\n",
    "    for i in range(data.shape[1]):\n",
    "        titleKeys.append(f'{prefix}_{i}')\n",
    "    \n",
    "    return pd.DataFrame(data=data, columns= titleKeys)\n"
   ]
  },
  {
   "cell_type": "code",
   "execution_count": 11,
   "metadata": {},
   "outputs": [],
   "source": [
    "def createEncodeDataTraining(data):\n",
    "\n",
    "    encoderKey = OneHotEncoder()\n",
    "    encodedKey = encoderKey.fit_transform(data[['Key']])\n",
    "    Key = encodedKey.toarray()\n",
    "    key_pd = convertEncoderPD(Key, prefix = 'key')\n",
    "\n",
    "    encoderAlbumType = OneHotEncoder()\n",
    "    encodedKeyAlbumType = encoderAlbumType.fit_transform(data[['Album_type']])\n",
    "    AlbumType = encodedKeyAlbumType.toarray()\n",
    "    AlbumType_pd = convertEncoderPD(AlbumType, prefix = 'AlbumType')\n",
    "\n",
    "    encoderComposer = OneHotEncoder()\n",
    "    encodedKeyComposer = encoderComposer.fit_transform(data[['Composer']])\n",
    "    Composer = encodedKeyComposer.toarray()\n",
    "    Composer_pd = convertEncoderPD(Composer, prefix = 'Composer')   \n",
    "\n",
    "    encoderArtist = LabelEncoder()\n",
    "    encodedArtist = encoderArtist.fit_transform(data[['Artist']])\n",
    "    encodedArtist = encodedArtist.ravel()\n",
    "    Artist_pd =  pd.DataFrame(data=encodedArtist, columns= [\"Artist\"])\n",
    "\n",
    "    data.drop(['Key','Album_type', 'Composer',  'Artist'], axis=1, inplace=True)\n",
    "\n",
    "    data = pd.concat([data, key_pd, AlbumType_pd, Composer_pd, Artist_pd], axis=1)\n",
    "\n",
    "    scaler = StandardScaler()\n",
    "    scaledData = scaler.fit_transform(data)\n",
    "\n",
    "    scaledData_pd = pd.DataFrame(data=scaledData, columns= data.columns)\n",
    "\n",
    "    return {\"key\": encoderKey, 'AlbumType': encoderAlbumType, 'Composer': encoderComposer, \"Artist\":encoderArtist} , scaler, data, scaledData_pd\n",
    "    "
   ]
  },
  {
   "cell_type": "code",
   "execution_count": 13,
   "metadata": {},
   "outputs": [
    {
     "ename": "KeyError",
     "evalue": "'Danceability'",
     "output_type": "error",
     "traceback": [
      "\u001b[1;31m---------------------------------------------------------------------------\u001b[0m",
      "\u001b[1;31mKeyError\u001b[0m                                  Traceback (most recent call last)",
      "\u001b[1;32mc:\\Users\\Miguel\\anaconda3\\lib\\site-packages\\pandas\\core\\indexes\\base.py\u001b[0m in \u001b[0;36mget_loc\u001b[1;34m(self, key, method, tolerance)\u001b[0m\n\u001b[0;32m   3628\u001b[0m             \u001b[1;32mtry\u001b[0m\u001b[1;33m:\u001b[0m\u001b[1;33m\u001b[0m\u001b[1;33m\u001b[0m\u001b[0m\n\u001b[1;32m-> 3629\u001b[1;33m                 \u001b[1;32mreturn\u001b[0m \u001b[0mself\u001b[0m\u001b[1;33m.\u001b[0m\u001b[0m_engine\u001b[0m\u001b[1;33m.\u001b[0m\u001b[0mget_loc\u001b[0m\u001b[1;33m(\u001b[0m\u001b[0mcasted_key\u001b[0m\u001b[1;33m)\u001b[0m\u001b[1;33m\u001b[0m\u001b[1;33m\u001b[0m\u001b[0m\n\u001b[0m\u001b[0;32m   3630\u001b[0m             \u001b[1;32mexcept\u001b[0m \u001b[0mKeyError\u001b[0m \u001b[1;32mas\u001b[0m \u001b[0merr\u001b[0m\u001b[1;33m:\u001b[0m\u001b[1;33m\u001b[0m\u001b[1;33m\u001b[0m\u001b[0m\n",
      "\u001b[1;32mc:\\Users\\Miguel\\anaconda3\\lib\\site-packages\\pandas\\_libs\\index.pyx\u001b[0m in \u001b[0;36mpandas._libs.index.IndexEngine.get_loc\u001b[1;34m()\u001b[0m\n",
      "\u001b[1;32mc:\\Users\\Miguel\\anaconda3\\lib\\site-packages\\pandas\\_libs\\index.pyx\u001b[0m in \u001b[0;36mpandas._libs.index.IndexEngine.get_loc\u001b[1;34m()\u001b[0m\n",
      "\u001b[1;32mpandas\\_libs\\hashtable_class_helper.pxi\u001b[0m in \u001b[0;36mpandas._libs.hashtable.PyObjectHashTable.get_item\u001b[1;34m()\u001b[0m\n",
      "\u001b[1;32mpandas\\_libs\\hashtable_class_helper.pxi\u001b[0m in \u001b[0;36mpandas._libs.hashtable.PyObjectHashTable.get_item\u001b[1;34m()\u001b[0m\n",
      "\u001b[1;31mKeyError\u001b[0m: 'Danceability'",
      "\nThe above exception was the direct cause of the following exception:\n",
      "\u001b[1;31mKeyError\u001b[0m                                  Traceback (most recent call last)",
      "\u001b[1;32m~\\AppData\\Local\\Temp\\ipykernel_27968\\2196931822.py\u001b[0m in \u001b[0;36m<module>\u001b[1;34m\u001b[0m\n\u001b[1;32m----> 1\u001b[1;33m \u001b[0mdata\u001b[0m \u001b[1;33m=\u001b[0m \u001b[0mdataPreprocessing\u001b[0m\u001b[1;33m(\u001b[0m\u001b[0moriginal\u001b[0m\u001b[1;33m)\u001b[0m\u001b[1;33m\u001b[0m\u001b[1;33m\u001b[0m\u001b[0m\n\u001b[0m\u001b[0;32m      2\u001b[0m \u001b[0mencoders\u001b[0m\u001b[1;33m,\u001b[0m \u001b[0mscalerStandard\u001b[0m\u001b[1;33m,\u001b[0m \u001b[0mdata\u001b[0m\u001b[1;33m,\u001b[0m \u001b[0mscaledData_pd\u001b[0m \u001b[1;33m=\u001b[0m \u001b[0mcreateEncodeDataTraining\u001b[0m\u001b[1;33m(\u001b[0m\u001b[0mdata\u001b[0m\u001b[1;33m)\u001b[0m\u001b[1;33m\u001b[0m\u001b[1;33m\u001b[0m\u001b[0m\n",
      "\u001b[1;32m~\\AppData\\Local\\Temp\\ipykernel_27968\\4140519693.py\u001b[0m in \u001b[0;36mdataPreprocessing\u001b[1;34m(original)\u001b[0m\n\u001b[0;32m      7\u001b[0m     \u001b[0mnameColumnFill\u001b[0m \u001b[1;33m=\u001b[0m \u001b[1;33m[\u001b[0m\u001b[1;34m'Energy'\u001b[0m\u001b[1;33m,\u001b[0m \u001b[1;34m'Key'\u001b[0m\u001b[1;33m,\u001b[0m \u001b[1;34m'Loudness'\u001b[0m\u001b[1;33m,\u001b[0m \u001b[1;34m'Speechiness'\u001b[0m\u001b[1;33m,\u001b[0m \u001b[1;34m'Acousticness'\u001b[0m\u001b[1;33m,\u001b[0m \u001b[1;34m'Instrumentalness'\u001b[0m\u001b[1;33m,\u001b[0m \u001b[1;34m'Liveness'\u001b[0m\u001b[1;33m,\u001b[0m \u001b[1;34m'Valence'\u001b[0m\u001b[1;33m,\u001b[0m \u001b[1;34m'Tempo'\u001b[0m\u001b[1;33m,\u001b[0m \u001b[1;34m'Duration_ms'\u001b[0m\u001b[1;33m,\u001b[0m \u001b[1;34m'Duration_ms'\u001b[0m\u001b[1;33m,\u001b[0m \u001b[1;34m'Views'\u001b[0m\u001b[1;33m,\u001b[0m \u001b[1;34m'Likes'\u001b[0m\u001b[1;33m,\u001b[0m \u001b[1;34m\"Stream\"\u001b[0m \u001b[1;33m,\u001b[0m \u001b[1;34m\"Comments\"\u001b[0m\u001b[1;33m]\u001b[0m\u001b[1;33m\u001b[0m\u001b[1;33m\u001b[0m\u001b[0m\n\u001b[0;32m      8\u001b[0m \u001b[1;33m\u001b[0m\u001b[0m\n\u001b[1;32m----> 9\u001b[1;33m     \u001b[0mnewData\u001b[0m \u001b[1;33m=\u001b[0m \u001b[0mfilterArtistComposerDance\u001b[0m\u001b[1;33m(\u001b[0m\u001b[0mdata\u001b[0m\u001b[1;33m,\u001b[0m \u001b[0mnameColumnFill\u001b[0m\u001b[1;33m)\u001b[0m\u001b[1;33m\u001b[0m\u001b[1;33m\u001b[0m\u001b[0m\n\u001b[0m\u001b[0;32m     10\u001b[0m     \u001b[0mnewData\u001b[0m \u001b[1;33m=\u001b[0m \u001b[0mverifyID\u001b[0m\u001b[1;33m(\u001b[0m\u001b[0moriginal\u001b[0m\u001b[1;33m,\u001b[0m \u001b[0mnewData\u001b[0m\u001b[1;33m)\u001b[0m\u001b[1;33m\u001b[0m\u001b[1;33m\u001b[0m\u001b[0m\n\u001b[0;32m     11\u001b[0m \u001b[1;33m\u001b[0m\u001b[0m\n",
      "\u001b[1;32m~\\AppData\\Local\\Temp\\ipykernel_27968\\883763870.py\u001b[0m in \u001b[0;36mfilterArtistComposerDance\u001b[1;34m(data, nameColumnFill)\u001b[0m\n\u001b[0;32m      3\u001b[0m     \u001b[0mlistArtist\u001b[0m \u001b[1;33m=\u001b[0m \u001b[0mdata\u001b[0m\u001b[1;33m[\u001b[0m\u001b[1;34m'Artist'\u001b[0m\u001b[1;33m]\u001b[0m\u001b[1;33m.\u001b[0m\u001b[0munique\u001b[0m\u001b[1;33m(\u001b[0m\u001b[1;33m)\u001b[0m\u001b[1;33m\u001b[0m\u001b[1;33m\u001b[0m\u001b[0m\n\u001b[0;32m      4\u001b[0m     \u001b[0mlistComposer\u001b[0m \u001b[1;33m=\u001b[0m \u001b[0mdata\u001b[0m\u001b[1;33m[\u001b[0m\u001b[1;34m'Composer'\u001b[0m\u001b[1;33m]\u001b[0m\u001b[1;33m.\u001b[0m\u001b[0munique\u001b[0m\u001b[1;33m(\u001b[0m\u001b[1;33m)\u001b[0m\u001b[1;33m\u001b[0m\u001b[1;33m\u001b[0m\u001b[0m\n\u001b[1;32m----> 5\u001b[1;33m     \u001b[0mlistDance\u001b[0m \u001b[1;33m=\u001b[0m \u001b[0mdata\u001b[0m\u001b[1;33m[\u001b[0m\u001b[1;34m'Danceability'\u001b[0m\u001b[1;33m]\u001b[0m\u001b[1;33m.\u001b[0m\u001b[0munique\u001b[0m\u001b[1;33m(\u001b[0m\u001b[1;33m)\u001b[0m\u001b[1;33m\u001b[0m\u001b[1;33m\u001b[0m\u001b[0m\n\u001b[0m\u001b[0;32m      6\u001b[0m     \u001b[0mfilter\u001b[0m \u001b[1;33m=\u001b[0m \u001b[0mlist\u001b[0m\u001b[1;33m(\u001b[0m\u001b[0mproduct\u001b[0m\u001b[1;33m(\u001b[0m\u001b[0mlistArtist\u001b[0m\u001b[1;33m,\u001b[0m \u001b[0mlistComposer\u001b[0m\u001b[1;33m,\u001b[0m \u001b[0mlistDance\u001b[0m\u001b[1;33m)\u001b[0m\u001b[1;33m)\u001b[0m\u001b[1;33m\u001b[0m\u001b[1;33m\u001b[0m\u001b[0m\n\u001b[0;32m      7\u001b[0m \u001b[1;33m\u001b[0m\u001b[0m\n",
      "\u001b[1;32mc:\\Users\\Miguel\\anaconda3\\lib\\site-packages\\pandas\\core\\frame.py\u001b[0m in \u001b[0;36m__getitem__\u001b[1;34m(self, key)\u001b[0m\n\u001b[0;32m   3503\u001b[0m             \u001b[1;32mif\u001b[0m \u001b[0mself\u001b[0m\u001b[1;33m.\u001b[0m\u001b[0mcolumns\u001b[0m\u001b[1;33m.\u001b[0m\u001b[0mnlevels\u001b[0m \u001b[1;33m>\u001b[0m \u001b[1;36m1\u001b[0m\u001b[1;33m:\u001b[0m\u001b[1;33m\u001b[0m\u001b[1;33m\u001b[0m\u001b[0m\n\u001b[0;32m   3504\u001b[0m                 \u001b[1;32mreturn\u001b[0m \u001b[0mself\u001b[0m\u001b[1;33m.\u001b[0m\u001b[0m_getitem_multilevel\u001b[0m\u001b[1;33m(\u001b[0m\u001b[0mkey\u001b[0m\u001b[1;33m)\u001b[0m\u001b[1;33m\u001b[0m\u001b[1;33m\u001b[0m\u001b[0m\n\u001b[1;32m-> 3505\u001b[1;33m             \u001b[0mindexer\u001b[0m \u001b[1;33m=\u001b[0m \u001b[0mself\u001b[0m\u001b[1;33m.\u001b[0m\u001b[0mcolumns\u001b[0m\u001b[1;33m.\u001b[0m\u001b[0mget_loc\u001b[0m\u001b[1;33m(\u001b[0m\u001b[0mkey\u001b[0m\u001b[1;33m)\u001b[0m\u001b[1;33m\u001b[0m\u001b[1;33m\u001b[0m\u001b[0m\n\u001b[0m\u001b[0;32m   3506\u001b[0m             \u001b[1;32mif\u001b[0m \u001b[0mis_integer\u001b[0m\u001b[1;33m(\u001b[0m\u001b[0mindexer\u001b[0m\u001b[1;33m)\u001b[0m\u001b[1;33m:\u001b[0m\u001b[1;33m\u001b[0m\u001b[1;33m\u001b[0m\u001b[0m\n\u001b[0;32m   3507\u001b[0m                 \u001b[0mindexer\u001b[0m \u001b[1;33m=\u001b[0m \u001b[1;33m[\u001b[0m\u001b[0mindexer\u001b[0m\u001b[1;33m]\u001b[0m\u001b[1;33m\u001b[0m\u001b[1;33m\u001b[0m\u001b[0m\n",
      "\u001b[1;32mc:\\Users\\Miguel\\anaconda3\\lib\\site-packages\\pandas\\core\\indexes\\base.py\u001b[0m in \u001b[0;36mget_loc\u001b[1;34m(self, key, method, tolerance)\u001b[0m\n\u001b[0;32m   3629\u001b[0m                 \u001b[1;32mreturn\u001b[0m \u001b[0mself\u001b[0m\u001b[1;33m.\u001b[0m\u001b[0m_engine\u001b[0m\u001b[1;33m.\u001b[0m\u001b[0mget_loc\u001b[0m\u001b[1;33m(\u001b[0m\u001b[0mcasted_key\u001b[0m\u001b[1;33m)\u001b[0m\u001b[1;33m\u001b[0m\u001b[1;33m\u001b[0m\u001b[0m\n\u001b[0;32m   3630\u001b[0m             \u001b[1;32mexcept\u001b[0m \u001b[0mKeyError\u001b[0m \u001b[1;32mas\u001b[0m \u001b[0merr\u001b[0m\u001b[1;33m:\u001b[0m\u001b[1;33m\u001b[0m\u001b[1;33m\u001b[0m\u001b[0m\n\u001b[1;32m-> 3631\u001b[1;33m                 \u001b[1;32mraise\u001b[0m \u001b[0mKeyError\u001b[0m\u001b[1;33m(\u001b[0m\u001b[0mkey\u001b[0m\u001b[1;33m)\u001b[0m \u001b[1;32mfrom\u001b[0m \u001b[0merr\u001b[0m\u001b[1;33m\u001b[0m\u001b[1;33m\u001b[0m\u001b[0m\n\u001b[0m\u001b[0;32m   3632\u001b[0m             \u001b[1;32mexcept\u001b[0m \u001b[0mTypeError\u001b[0m\u001b[1;33m:\u001b[0m\u001b[1;33m\u001b[0m\u001b[1;33m\u001b[0m\u001b[0m\n\u001b[0;32m   3633\u001b[0m                 \u001b[1;31m# If we have a listlike key, _check_indexing_error will raise\u001b[0m\u001b[1;33m\u001b[0m\u001b[1;33m\u001b[0m\u001b[0m\n",
      "\u001b[1;31mKeyError\u001b[0m: 'Danceability'"
     ]
    }
   ],
   "source": [
    "data = dataPreprocessing(original)\n",
    "encoders, scalerStandard, data, scaledData_pd = createEncodeDataTraining(data)"
   ]
  },
  {
   "cell_type": "code",
   "execution_count": 15,
   "metadata": {},
   "outputs": [],
   "source": [
    "test = pd.read_csv('./html2023-spring-final-project/test.csv')"
   ]
  },
  {
   "cell_type": "code",
   "execution_count": 16,
   "metadata": {},
   "outputs": [
    {
     "data": {
      "text/plain": [
       "Index(['Energy', 'Key', 'Loudness', 'Speechiness', 'Acousticness',\n",
       "       'Instrumentalness', 'Liveness', 'Valence', 'Tempo', 'Duration_ms',\n",
       "       'Views', 'Likes', 'Stream', 'Album_type', 'Licensed', 'official_video',\n",
       "       'id', 'Track', 'Album', 'Uri', 'Url_spotify', 'Url_youtube', 'Comments',\n",
       "       'Description', 'Title', 'Channel', 'Composer', 'Artist'],\n",
       "      dtype='object')"
      ]
     },
     "execution_count": 16,
     "metadata": {},
     "output_type": "execute_result"
    }
   ],
   "source": [
    "test.columns"
   ]
  },
  {
   "cell_type": "code",
   "execution_count": null,
   "metadata": {},
   "outputs": [
    {
     "ename": "KeyError",
     "evalue": "'Danceability'",
     "output_type": "error",
     "traceback": [
      "\u001b[1;31m---------------------------------------------------------------------------\u001b[0m",
      "\u001b[1;31mKeyError\u001b[0m                                  Traceback (most recent call last)",
      "\u001b[1;32mc:\\Users\\Miguel\\anaconda3\\lib\\site-packages\\pandas\\core\\indexes\\base.py\u001b[0m in \u001b[0;36mget_loc\u001b[1;34m(self, key, method, tolerance)\u001b[0m\n\u001b[0;32m   3628\u001b[0m             \u001b[1;32mtry\u001b[0m\u001b[1;33m:\u001b[0m\u001b[1;33m\u001b[0m\u001b[1;33m\u001b[0m\u001b[0m\n\u001b[1;32m-> 3629\u001b[1;33m                 \u001b[1;32mreturn\u001b[0m \u001b[0mself\u001b[0m\u001b[1;33m.\u001b[0m\u001b[0m_engine\u001b[0m\u001b[1;33m.\u001b[0m\u001b[0mget_loc\u001b[0m\u001b[1;33m(\u001b[0m\u001b[0mcasted_key\u001b[0m\u001b[1;33m)\u001b[0m\u001b[1;33m\u001b[0m\u001b[1;33m\u001b[0m\u001b[0m\n\u001b[0m\u001b[0;32m   3630\u001b[0m             \u001b[1;32mexcept\u001b[0m \u001b[0mKeyError\u001b[0m \u001b[1;32mas\u001b[0m \u001b[0merr\u001b[0m\u001b[1;33m:\u001b[0m\u001b[1;33m\u001b[0m\u001b[1;33m\u001b[0m\u001b[0m\n",
      "\u001b[1;32mc:\\Users\\Miguel\\anaconda3\\lib\\site-packages\\pandas\\_libs\\index.pyx\u001b[0m in \u001b[0;36mpandas._libs.index.IndexEngine.get_loc\u001b[1;34m()\u001b[0m\n",
      "\u001b[1;32mc:\\Users\\Miguel\\anaconda3\\lib\\site-packages\\pandas\\_libs\\index.pyx\u001b[0m in \u001b[0;36mpandas._libs.index.IndexEngine.get_loc\u001b[1;34m()\u001b[0m\n",
      "\u001b[1;32mpandas\\_libs\\hashtable_class_helper.pxi\u001b[0m in \u001b[0;36mpandas._libs.hashtable.PyObjectHashTable.get_item\u001b[1;34m()\u001b[0m\n",
      "\u001b[1;32mpandas\\_libs\\hashtable_class_helper.pxi\u001b[0m in \u001b[0;36mpandas._libs.hashtable.PyObjectHashTable.get_item\u001b[1;34m()\u001b[0m\n",
      "\u001b[1;31mKeyError\u001b[0m: 'Danceability'",
      "\nThe above exception was the direct cause of the following exception:\n",
      "\u001b[1;31mKeyError\u001b[0m                                  Traceback (most recent call last)",
      "\u001b[1;32m~\\AppData\\Local\\Temp\\ipykernel_13280\\1608615887.py\u001b[0m in \u001b[0;36m<module>\u001b[1;34m\u001b[0m\n\u001b[1;32m----> 1\u001b[1;33m \u001b[0mdataTest\u001b[0m \u001b[1;33m=\u001b[0m \u001b[0mdataPreprocessing\u001b[0m\u001b[1;33m(\u001b[0m\u001b[0mtest\u001b[0m\u001b[1;33m)\u001b[0m\u001b[1;33m\u001b[0m\u001b[1;33m\u001b[0m\u001b[0m\n\u001b[0m",
      "\u001b[1;32m~\\AppData\\Local\\Temp\\ipykernel_13280\\4140519693.py\u001b[0m in \u001b[0;36mdataPreprocessing\u001b[1;34m(original)\u001b[0m\n\u001b[0;32m      7\u001b[0m     \u001b[0mnameColumnFill\u001b[0m \u001b[1;33m=\u001b[0m \u001b[1;33m[\u001b[0m\u001b[1;34m'Energy'\u001b[0m\u001b[1;33m,\u001b[0m \u001b[1;34m'Key'\u001b[0m\u001b[1;33m,\u001b[0m \u001b[1;34m'Loudness'\u001b[0m\u001b[1;33m,\u001b[0m \u001b[1;34m'Speechiness'\u001b[0m\u001b[1;33m,\u001b[0m \u001b[1;34m'Acousticness'\u001b[0m\u001b[1;33m,\u001b[0m \u001b[1;34m'Instrumentalness'\u001b[0m\u001b[1;33m,\u001b[0m \u001b[1;34m'Liveness'\u001b[0m\u001b[1;33m,\u001b[0m \u001b[1;34m'Valence'\u001b[0m\u001b[1;33m,\u001b[0m \u001b[1;34m'Tempo'\u001b[0m\u001b[1;33m,\u001b[0m \u001b[1;34m'Duration_ms'\u001b[0m\u001b[1;33m,\u001b[0m \u001b[1;34m'Duration_ms'\u001b[0m\u001b[1;33m,\u001b[0m \u001b[1;34m'Views'\u001b[0m\u001b[1;33m,\u001b[0m \u001b[1;34m'Likes'\u001b[0m\u001b[1;33m,\u001b[0m \u001b[1;34m\"Stream\"\u001b[0m \u001b[1;33m,\u001b[0m \u001b[1;34m\"Comments\"\u001b[0m\u001b[1;33m]\u001b[0m\u001b[1;33m\u001b[0m\u001b[1;33m\u001b[0m\u001b[0m\n\u001b[0;32m      8\u001b[0m \u001b[1;33m\u001b[0m\u001b[0m\n\u001b[1;32m----> 9\u001b[1;33m     \u001b[0mnewData\u001b[0m \u001b[1;33m=\u001b[0m \u001b[0mfilterArtistComposerDance\u001b[0m\u001b[1;33m(\u001b[0m\u001b[0mdata\u001b[0m\u001b[1;33m,\u001b[0m \u001b[0mnameColumnFill\u001b[0m\u001b[1;33m)\u001b[0m\u001b[1;33m\u001b[0m\u001b[1;33m\u001b[0m\u001b[0m\n\u001b[0m\u001b[0;32m     10\u001b[0m     \u001b[0mnewData\u001b[0m \u001b[1;33m=\u001b[0m \u001b[0mverifyID\u001b[0m\u001b[1;33m(\u001b[0m\u001b[0moriginal\u001b[0m\u001b[1;33m,\u001b[0m \u001b[0mnewData\u001b[0m\u001b[1;33m)\u001b[0m\u001b[1;33m\u001b[0m\u001b[1;33m\u001b[0m\u001b[0m\n\u001b[0;32m     11\u001b[0m \u001b[1;33m\u001b[0m\u001b[0m\n",
      "\u001b[1;32m~\\AppData\\Local\\Temp\\ipykernel_13280\\883763870.py\u001b[0m in \u001b[0;36mfilterArtistComposerDance\u001b[1;34m(data, nameColumnFill)\u001b[0m\n\u001b[0;32m      3\u001b[0m     \u001b[0mlistArtist\u001b[0m \u001b[1;33m=\u001b[0m \u001b[0mdata\u001b[0m\u001b[1;33m[\u001b[0m\u001b[1;34m'Artist'\u001b[0m\u001b[1;33m]\u001b[0m\u001b[1;33m.\u001b[0m\u001b[0munique\u001b[0m\u001b[1;33m(\u001b[0m\u001b[1;33m)\u001b[0m\u001b[1;33m\u001b[0m\u001b[1;33m\u001b[0m\u001b[0m\n\u001b[0;32m      4\u001b[0m     \u001b[0mlistComposer\u001b[0m \u001b[1;33m=\u001b[0m \u001b[0mdata\u001b[0m\u001b[1;33m[\u001b[0m\u001b[1;34m'Composer'\u001b[0m\u001b[1;33m]\u001b[0m\u001b[1;33m.\u001b[0m\u001b[0munique\u001b[0m\u001b[1;33m(\u001b[0m\u001b[1;33m)\u001b[0m\u001b[1;33m\u001b[0m\u001b[1;33m\u001b[0m\u001b[0m\n\u001b[1;32m----> 5\u001b[1;33m     \u001b[0mlistDance\u001b[0m \u001b[1;33m=\u001b[0m \u001b[0mdata\u001b[0m\u001b[1;33m[\u001b[0m\u001b[1;34m'Danceability'\u001b[0m\u001b[1;33m]\u001b[0m\u001b[1;33m.\u001b[0m\u001b[0munique\u001b[0m\u001b[1;33m(\u001b[0m\u001b[1;33m)\u001b[0m\u001b[1;33m\u001b[0m\u001b[1;33m\u001b[0m\u001b[0m\n\u001b[0m\u001b[0;32m      6\u001b[0m     \u001b[0mfilter\u001b[0m \u001b[1;33m=\u001b[0m \u001b[0mlist\u001b[0m\u001b[1;33m(\u001b[0m\u001b[0mproduct\u001b[0m\u001b[1;33m(\u001b[0m\u001b[0mlistArtist\u001b[0m\u001b[1;33m,\u001b[0m \u001b[0mlistComposer\u001b[0m\u001b[1;33m,\u001b[0m \u001b[0mlistDance\u001b[0m\u001b[1;33m)\u001b[0m\u001b[1;33m)\u001b[0m\u001b[1;33m\u001b[0m\u001b[1;33m\u001b[0m\u001b[0m\n\u001b[0;32m      7\u001b[0m \u001b[1;33m\u001b[0m\u001b[0m\n",
      "\u001b[1;32mc:\\Users\\Miguel\\anaconda3\\lib\\site-packages\\pandas\\core\\frame.py\u001b[0m in \u001b[0;36m__getitem__\u001b[1;34m(self, key)\u001b[0m\n\u001b[0;32m   3503\u001b[0m             \u001b[1;32mif\u001b[0m \u001b[0mself\u001b[0m\u001b[1;33m.\u001b[0m\u001b[0mcolumns\u001b[0m\u001b[1;33m.\u001b[0m\u001b[0mnlevels\u001b[0m \u001b[1;33m>\u001b[0m \u001b[1;36m1\u001b[0m\u001b[1;33m:\u001b[0m\u001b[1;33m\u001b[0m\u001b[1;33m\u001b[0m\u001b[0m\n\u001b[0;32m   3504\u001b[0m                 \u001b[1;32mreturn\u001b[0m \u001b[0mself\u001b[0m\u001b[1;33m.\u001b[0m\u001b[0m_getitem_multilevel\u001b[0m\u001b[1;33m(\u001b[0m\u001b[0mkey\u001b[0m\u001b[1;33m)\u001b[0m\u001b[1;33m\u001b[0m\u001b[1;33m\u001b[0m\u001b[0m\n\u001b[1;32m-> 3505\u001b[1;33m             \u001b[0mindexer\u001b[0m \u001b[1;33m=\u001b[0m \u001b[0mself\u001b[0m\u001b[1;33m.\u001b[0m\u001b[0mcolumns\u001b[0m\u001b[1;33m.\u001b[0m\u001b[0mget_loc\u001b[0m\u001b[1;33m(\u001b[0m\u001b[0mkey\u001b[0m\u001b[1;33m)\u001b[0m\u001b[1;33m\u001b[0m\u001b[1;33m\u001b[0m\u001b[0m\n\u001b[0m\u001b[0;32m   3506\u001b[0m             \u001b[1;32mif\u001b[0m \u001b[0mis_integer\u001b[0m\u001b[1;33m(\u001b[0m\u001b[0mindexer\u001b[0m\u001b[1;33m)\u001b[0m\u001b[1;33m:\u001b[0m\u001b[1;33m\u001b[0m\u001b[1;33m\u001b[0m\u001b[0m\n\u001b[0;32m   3507\u001b[0m                 \u001b[0mindexer\u001b[0m \u001b[1;33m=\u001b[0m \u001b[1;33m[\u001b[0m\u001b[0mindexer\u001b[0m\u001b[1;33m]\u001b[0m\u001b[1;33m\u001b[0m\u001b[1;33m\u001b[0m\u001b[0m\n",
      "\u001b[1;32mc:\\Users\\Miguel\\anaconda3\\lib\\site-packages\\pandas\\core\\indexes\\base.py\u001b[0m in \u001b[0;36mget_loc\u001b[1;34m(self, key, method, tolerance)\u001b[0m\n\u001b[0;32m   3629\u001b[0m                 \u001b[1;32mreturn\u001b[0m \u001b[0mself\u001b[0m\u001b[1;33m.\u001b[0m\u001b[0m_engine\u001b[0m\u001b[1;33m.\u001b[0m\u001b[0mget_loc\u001b[0m\u001b[1;33m(\u001b[0m\u001b[0mcasted_key\u001b[0m\u001b[1;33m)\u001b[0m\u001b[1;33m\u001b[0m\u001b[1;33m\u001b[0m\u001b[0m\n\u001b[0;32m   3630\u001b[0m             \u001b[1;32mexcept\u001b[0m \u001b[0mKeyError\u001b[0m \u001b[1;32mas\u001b[0m \u001b[0merr\u001b[0m\u001b[1;33m:\u001b[0m\u001b[1;33m\u001b[0m\u001b[1;33m\u001b[0m\u001b[0m\n\u001b[1;32m-> 3631\u001b[1;33m                 \u001b[1;32mraise\u001b[0m \u001b[0mKeyError\u001b[0m\u001b[1;33m(\u001b[0m\u001b[0mkey\u001b[0m\u001b[1;33m)\u001b[0m \u001b[1;32mfrom\u001b[0m \u001b[0merr\u001b[0m\u001b[1;33m\u001b[0m\u001b[1;33m\u001b[0m\u001b[0m\n\u001b[0m\u001b[0;32m   3632\u001b[0m             \u001b[1;32mexcept\u001b[0m \u001b[0mTypeError\u001b[0m\u001b[1;33m:\u001b[0m\u001b[1;33m\u001b[0m\u001b[1;33m\u001b[0m\u001b[0m\n\u001b[0;32m   3633\u001b[0m                 \u001b[1;31m# If we have a listlike key, _check_indexing_error will raise\u001b[0m\u001b[1;33m\u001b[0m\u001b[1;33m\u001b[0m\u001b[0m\n",
      "\u001b[1;31mKeyError\u001b[0m: 'Danceability'"
     ]
    }
   ],
   "source": [
    "dataTest = dataPreprocessing(test)"
   ]
  }
 ],
 "metadata": {
  "kernelspec": {
   "display_name": "base",
   "language": "python",
   "name": "python3"
  },
  "language_info": {
   "codemirror_mode": {
    "name": "ipython",
    "version": 3
   },
   "file_extension": ".py",
   "mimetype": "text/x-python",
   "name": "python",
   "nbconvert_exporter": "python",
   "pygments_lexer": "ipython3",
   "version": "3.9.13"
  },
  "orig_nbformat": 4
 },
 "nbformat": 4,
 "nbformat_minor": 2
}
